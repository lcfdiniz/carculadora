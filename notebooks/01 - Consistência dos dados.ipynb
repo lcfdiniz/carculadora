{
 "cells": [
  {
   "cell_type": "code",
   "execution_count": 1,
   "id": "1bc1a167",
   "metadata": {},
   "outputs": [],
   "source": [
    "import pandas as pd\n",
    "import seaborn as sns\n",
    "import matplotlib.pyplot as plt\n",
    "from datetime import datetime"
   ]
  },
  {
   "cell_type": "markdown",
   "id": "fefea56b",
   "metadata": {},
   "source": [
    "# Informações sobre o dataset\n",
    "\n",
    "Esse dataset foi construído a partir de informações em anúncios de venda de veículos disponíveis online, entre os dias 30/06/2022 e 04/07/2022. Na obtenção dos dados, foram procurados apenas anúncios profissionais de veículos com ano de fabricação a partir de 2000. Além disso, foi verificado no portal de vendas uma quantidade aproximadamente igual de anúncios entre as seguintes faixas de quilometragem: 0-30, 30-60, 60-100, 100+. Sendo assim, de forma a tornar a amostragem realizada mais representativa, os valores de quilometragem nesse dataset seguem uma proporção parecida."
   ]
  },
  {
   "cell_type": "code",
   "execution_count": 2,
   "id": "fef0be34",
   "metadata": {},
   "outputs": [
    {
     "data": {
      "text/html": [
       "<div>\n",
       "<style scoped>\n",
       "    .dataframe tbody tr th:only-of-type {\n",
       "        vertical-align: middle;\n",
       "    }\n",
       "\n",
       "    .dataframe tbody tr th {\n",
       "        vertical-align: top;\n",
       "    }\n",
       "\n",
       "    .dataframe thead th {\n",
       "        text-align: right;\n",
       "    }\n",
       "</style>\n",
       "<table border=\"1\" class=\"dataframe\">\n",
       "  <thead>\n",
       "    <tr style=\"text-align: right;\">\n",
       "      <th></th>\n",
       "      <th>Marca</th>\n",
       "      <th>Modelo</th>\n",
       "      <th>Tipo de veículo</th>\n",
       "      <th>Ano</th>\n",
       "      <th>Estado</th>\n",
       "      <th>Quilometragem</th>\n",
       "      <th>Potência do motor</th>\n",
       "      <th>Combustível</th>\n",
       "      <th>Câmbio</th>\n",
       "      <th>Direção</th>\n",
       "      <th>...</th>\n",
       "      <th>Ar condicionado</th>\n",
       "      <th>Air bag</th>\n",
       "      <th>Alarme</th>\n",
       "      <th>Trava elétrica</th>\n",
       "      <th>Vidro elétrico</th>\n",
       "      <th>Som</th>\n",
       "      <th>Sensor de ré</th>\n",
       "      <th>Câmera de ré</th>\n",
       "      <th>Blindado</th>\n",
       "      <th>Preço</th>\n",
       "    </tr>\n",
       "  </thead>\n",
       "  <tbody>\n",
       "    <tr>\n",
       "      <th>0</th>\n",
       "      <td>MITSUBISHI</td>\n",
       "      <td>MITSUBISHI L200 TRITON SPORT HPE 2.4 CD DIESEL...</td>\n",
       "      <td>Pick-up</td>\n",
       "      <td>2023</td>\n",
       "      <td>RJ</td>\n",
       "      <td>0</td>\n",
       "      <td>2.0 - 2.9</td>\n",
       "      <td>Diesel</td>\n",
       "      <td>Automático</td>\n",
       "      <td>Hidráulica</td>\n",
       "      <td>...</td>\n",
       "      <td>NaN</td>\n",
       "      <td>NaN</td>\n",
       "      <td>NaN</td>\n",
       "      <td>NaN</td>\n",
       "      <td>NaN</td>\n",
       "      <td>NaN</td>\n",
       "      <td>NaN</td>\n",
       "      <td>NaN</td>\n",
       "      <td>NaN</td>\n",
       "      <td>R$ 0</td>\n",
       "    </tr>\n",
       "    <tr>\n",
       "      <th>1</th>\n",
       "      <td>ALFA ROMEO</td>\n",
       "      <td>ALFA ROMEO 156 TS/SPORT/ELEGANT 2.0 16V</td>\n",
       "      <td>NaN</td>\n",
       "      <td>2012</td>\n",
       "      <td>AM</td>\n",
       "      <td>1</td>\n",
       "      <td>NaN</td>\n",
       "      <td>NaN</td>\n",
       "      <td>NaN</td>\n",
       "      <td>NaN</td>\n",
       "      <td>...</td>\n",
       "      <td>NaN</td>\n",
       "      <td>NaN</td>\n",
       "      <td>NaN</td>\n",
       "      <td>NaN</td>\n",
       "      <td>NaN</td>\n",
       "      <td>NaN</td>\n",
       "      <td>NaN</td>\n",
       "      <td>NaN</td>\n",
       "      <td>NaN</td>\n",
       "      <td>R$ 50.000</td>\n",
       "    </tr>\n",
       "    <tr>\n",
       "      <th>2</th>\n",
       "      <td>JEEP</td>\n",
       "      <td>JEEP COMPASS LONGITUDE 2.0 4X4 DIES. 16V AUT.</td>\n",
       "      <td>SUV</td>\n",
       "      <td>2017</td>\n",
       "      <td>DF</td>\n",
       "      <td>0</td>\n",
       "      <td>NaN</td>\n",
       "      <td>Diesel</td>\n",
       "      <td>Automático</td>\n",
       "      <td>NaN</td>\n",
       "      <td>...</td>\n",
       "      <td>True</td>\n",
       "      <td>True</td>\n",
       "      <td>True</td>\n",
       "      <td>NaN</td>\n",
       "      <td>True</td>\n",
       "      <td>True</td>\n",
       "      <td>True</td>\n",
       "      <td>True</td>\n",
       "      <td>NaN</td>\n",
       "      <td>R$ 139.800</td>\n",
       "    </tr>\n",
       "    <tr>\n",
       "      <th>3</th>\n",
       "      <td>VW - VOLKSWAGEN</td>\n",
       "      <td>VW - VOLKSWAGEN SAVEIRO 1.6 MI/ 1.6 MI TOTAL F...</td>\n",
       "      <td>Pick-up</td>\n",
       "      <td>2014</td>\n",
       "      <td>RS</td>\n",
       "      <td>1</td>\n",
       "      <td>1.6</td>\n",
       "      <td>Flex</td>\n",
       "      <td>Manual</td>\n",
       "      <td>Hidráulica</td>\n",
       "      <td>...</td>\n",
       "      <td>True</td>\n",
       "      <td>True</td>\n",
       "      <td>True</td>\n",
       "      <td>True</td>\n",
       "      <td>True</td>\n",
       "      <td>True</td>\n",
       "      <td>NaN</td>\n",
       "      <td>NaN</td>\n",
       "      <td>NaN</td>\n",
       "      <td>R$ 49.900</td>\n",
       "    </tr>\n",
       "    <tr>\n",
       "      <th>4</th>\n",
       "      <td>TOYOTA</td>\n",
       "      <td>TOYOTA ETIOS</td>\n",
       "      <td>Sedã</td>\n",
       "      <td>2015</td>\n",
       "      <td>PA</td>\n",
       "      <td>1000</td>\n",
       "      <td>1.5</td>\n",
       "      <td>Flex</td>\n",
       "      <td>Manual</td>\n",
       "      <td>Hidráulica</td>\n",
       "      <td>...</td>\n",
       "      <td>True</td>\n",
       "      <td>NaN</td>\n",
       "      <td>True</td>\n",
       "      <td>True</td>\n",
       "      <td>True</td>\n",
       "      <td>True</td>\n",
       "      <td>True</td>\n",
       "      <td>NaN</td>\n",
       "      <td>NaN</td>\n",
       "      <td>R$ 47.900</td>\n",
       "    </tr>\n",
       "  </tbody>\n",
       "</table>\n",
       "<p>5 rows × 25 columns</p>\n",
       "</div>"
      ],
      "text/plain": [
       "             Marca                                             Modelo  \\\n",
       "0       MITSUBISHI  MITSUBISHI L200 TRITON SPORT HPE 2.4 CD DIESEL...   \n",
       "1       ALFA ROMEO            ALFA ROMEO 156 TS/SPORT/ELEGANT 2.0 16V   \n",
       "2             JEEP      JEEP COMPASS LONGITUDE 2.0 4X4 DIES. 16V AUT.   \n",
       "3  VW - VOLKSWAGEN  VW - VOLKSWAGEN SAVEIRO 1.6 MI/ 1.6 MI TOTAL F...   \n",
       "4           TOYOTA                                       TOYOTA ETIOS   \n",
       "\n",
       "  Tipo de veículo   Ano Estado  Quilometragem Potência do motor Combustível  \\\n",
       "0         Pick-up  2023     RJ              0         2.0 - 2.9      Diesel   \n",
       "1             NaN  2012     AM              1               NaN         NaN   \n",
       "2             SUV  2017     DF              0               NaN      Diesel   \n",
       "3         Pick-up  2014     RS              1               1.6        Flex   \n",
       "4            Sedã  2015     PA           1000               1.5        Flex   \n",
       "\n",
       "       Câmbio     Direção  ... Ar condicionado  Air bag Alarme Trava elétrica  \\\n",
       "0  Automático  Hidráulica  ...             NaN      NaN    NaN            NaN   \n",
       "1         NaN         NaN  ...             NaN      NaN    NaN            NaN   \n",
       "2  Automático         NaN  ...            True     True   True            NaN   \n",
       "3      Manual  Hidráulica  ...            True     True   True           True   \n",
       "4      Manual  Hidráulica  ...            True      NaN   True           True   \n",
       "\n",
       "  Vidro elétrico   Som Sensor de ré Câmera de ré Blindado       Preço  \n",
       "0            NaN   NaN          NaN          NaN      NaN        R$ 0  \n",
       "1            NaN   NaN          NaN          NaN      NaN   R$ 50.000  \n",
       "2           True  True         True         True      NaN  R$ 139.800  \n",
       "3           True  True          NaN          NaN      NaN   R$ 49.900  \n",
       "4           True  True         True          NaN      NaN   R$ 47.900  \n",
       "\n",
       "[5 rows x 25 columns]"
      ]
     },
     "execution_count": 2,
     "metadata": {},
     "output_type": "execute_result"
    }
   ],
   "source": [
    "df = pd.read_csv('cars_data.csv')\n",
    "\n",
    "df.head()"
   ]
  },
  {
   "cell_type": "code",
   "execution_count": 3,
   "id": "490b8d1d",
   "metadata": {},
   "outputs": [
    {
     "name": "stdout",
     "output_type": "stream",
     "text": [
      "<class 'pandas.core.frame.DataFrame'>\n",
      "RangeIndex: 5331 entries, 0 to 5330\n",
      "Data columns (total 25 columns):\n",
      " #   Column             Non-Null Count  Dtype  \n",
      "---  ------             --------------  -----  \n",
      " 0   Marca              5326 non-null   object \n",
      " 1   Modelo             5331 non-null   object \n",
      " 2   Tipo de veículo    4390 non-null   object \n",
      " 3   Ano                5331 non-null   int64  \n",
      " 4   Estado             5331 non-null   object \n",
      " 5   Quilometragem      5331 non-null   int64  \n",
      " 6   Potência do motor  4071 non-null   object \n",
      " 7   Combustível        5274 non-null   object \n",
      " 8   Câmbio             5296 non-null   object \n",
      " 9   Direção            4200 non-null   object \n",
      " 10  Cor                4427 non-null   object \n",
      " 11  Final de placa     4508 non-null   float64\n",
      " 12  Portas             5170 non-null   object \n",
      " 13  Único dono         3023 non-null   object \n",
      " 14  Aceita trocas      3456 non-null   object \n",
      " 15  Ar condicionado    4580 non-null   object \n",
      " 16  Air bag            3871 non-null   object \n",
      " 17  Alarme             3778 non-null   object \n",
      " 18  Trava elétrica     4445 non-null   object \n",
      " 19  Vidro elétrico     4484 non-null   object \n",
      " 20  Som                2926 non-null   object \n",
      " 21  Sensor de ré       1936 non-null   object \n",
      " 22  Câmera de ré       1398 non-null   object \n",
      " 23  Blindado           60 non-null     object \n",
      " 24  Preço              5235 non-null   object \n",
      "dtypes: float64(1), int64(2), object(22)\n",
      "memory usage: 1.0+ MB\n"
     ]
    }
   ],
   "source": [
    "df.info()"
   ]
  },
  {
   "cell_type": "markdown",
   "id": "dd59310c",
   "metadata": {},
   "source": [
    "# Verificando a consistência dos dados"
   ]
  },
  {
   "cell_type": "markdown",
   "id": "675617b9",
   "metadata": {},
   "source": [
    "## Marca"
   ]
  },
  {
   "cell_type": "code",
   "execution_count": 4,
   "id": "c810d7fa",
   "metadata": {},
   "outputs": [
    {
     "data": {
      "text/plain": [
       "count                5326\n",
       "unique                 40\n",
       "top       VW - VOLKSWAGEN\n",
       "freq                  864\n",
       "Name: Marca, dtype: object"
      ]
     },
     "execution_count": 4,
     "metadata": {},
     "output_type": "execute_result"
    }
   ],
   "source": [
    "df['Marca'].describe()"
   ]
  },
  {
   "cell_type": "code",
   "execution_count": 5,
   "id": "e788cfa0",
   "metadata": {},
   "outputs": [
    {
     "data": {
      "text/plain": [
       "array(['MITSUBISHI', 'ALFA ROMEO', 'JEEP', 'VW - VOLKSWAGEN', 'TOYOTA',\n",
       "       'FIAT', 'HYUNDAI', 'FORD', 'CHERY', 'GM - CHEVROLET', 'HONDA',\n",
       "       'RENAULT', 'EFFA', 'NISSAN', 'LAND ROVER', 'MERCEDES-BENZ',\n",
       "       'PEUGEOT', 'JAC', 'CITROEN', nan, 'KIA MOTORS', 'JAGUAR',\n",
       "       'TROLLER', 'BMW', 'MINI', 'BUGGY', 'RAM', 'ASTON MARTIN', 'AUDI',\n",
       "       'ASIA MOTORS', 'VOLVO', 'LEXUS', 'PORSCHE', 'SUZUKI', 'LIFAN',\n",
       "       'DODGE', 'IVECO', 'SUBARU', 'SMART', 'CHRYSLER', 'SSANGYONG'],\n",
       "      dtype=object)"
      ]
     },
     "execution_count": 5,
     "metadata": {},
     "output_type": "execute_result"
    }
   ],
   "source": [
    "df['Marca'].unique()"
   ]
  },
  {
   "cell_type": "code",
   "execution_count": 6,
   "id": "5ccc05c3",
   "metadata": {},
   "outputs": [
    {
     "data": {
      "image/png": "[encoded data removed]",
      "text/plain": [
       "<Figure size 720x360 with 1 Axes>"
      ]
     },
     "metadata": {
      "needs_background": "light"
     },
     "output_type": "display_data"
    }
   ],
   "source": [
    "plt.figure(figsize=(10,5))\n",
    "ax = sns.barplot(x=df['Marca'].value_counts()[:5].index, y=df['Marca'].value_counts()[:5])\n",
    "\n",
    "for i in ax.containers:\n",
    "    ax.bar_label(i,)"
   ]
  },
  {
   "cell_type": "markdown",
   "id": "e0797aef",
   "metadata": {},
   "source": [
    "As marcas de veículo mais frequentes no dataset podem ser vistas acima. Os valores de marcas parecem coesos, exceto pela presença de valores faltantes (apenas 5 observações). \n",
    "\n",
    "**D:** Faz sentido manter observações de veículos com valores faltantes para a marca?"
   ]
  },
  {
   "cell_type": "markdown",
   "id": "5dbfb468",
   "metadata": {},
   "source": [
    "## Modelo"
   ]
  },
  {
   "cell_type": "code",
   "execution_count": 7,
   "id": "52ed97ea",
   "metadata": {},
   "outputs": [
    {
     "data": {
      "text/plain": [
       "0    MITSUBISHI L200 TRITON SPORT HPE 2.4 CD DIESEL...\n",
       "1              ALFA ROMEO 156 TS/SPORT/ELEGANT 2.0 16V\n",
       "2        JEEP COMPASS LONGITUDE 2.0 4X4 DIES. 16V AUT.\n",
       "3    VW - VOLKSWAGEN SAVEIRO 1.6 MI/ 1.6 MI TOTAL F...\n",
       "4                                         TOYOTA ETIOS\n",
       "Name: Modelo, dtype: object"
      ]
     },
     "execution_count": 7,
     "metadata": {},
     "output_type": "execute_result"
    }
   ],
   "source": [
    "df['Modelo'].head()"
   ]
  },
  {
   "cell_type": "code",
   "execution_count": 8,
   "id": "185ff345",
   "metadata": {},
   "outputs": [
    {
     "data": {
      "text/plain": [
       "1570"
      ]
     },
     "execution_count": 8,
     "metadata": {},
     "output_type": "execute_result"
    }
   ],
   "source": [
    "len(df['Modelo'].unique())"
   ]
  },
  {
   "cell_type": "markdown",
   "id": "f8017c08",
   "metadata": {},
   "source": [
    "Temos 1570 valores de modelos distintos. Como pode ser visto acima, o campo analisado está mais coerente com uma descrição do veículo. Para tentar reduzir a variância dos dados, tentaremos pegar apenas a informação do modelo, disponibilizada após a marca do mesmo."
   ]
  },
  {
   "cell_type": "code",
   "execution_count": 9,
   "id": "0aec5a36",
   "metadata": {},
   "outputs": [
    {
     "data": {
      "text/plain": [
       "0       L200\n",
       "1        156\n",
       "2    COMPASS\n",
       "3    SAVEIRO\n",
       "4      ETIOS\n",
       "Name: ModeloLimpo, dtype: object"
      ]
     },
     "execution_count": 9,
     "metadata": {},
     "output_type": "execute_result"
    }
   ],
   "source": [
    "df['ModeloLimpo'] = df.apply(lambda x: x.Modelo.replace(str(x.Marca), '').split(' ')[1], axis=1)\n",
    "\n",
    "df['ModeloLimpo'].head()"
   ]
  },
  {
   "cell_type": "code",
   "execution_count": 10,
   "id": "b736f79b",
   "metadata": {},
   "outputs": [
    {
     "data": {
      "text/plain": [
       "314"
      ]
     },
     "execution_count": 10,
     "metadata": {},
     "output_type": "execute_result"
    }
   ],
   "source": [
    "len(df['ModeloLimpo'].unique())"
   ]
  },
  {
   "cell_type": "markdown",
   "id": "5cc61de4",
   "metadata": {},
   "source": [
    "Agora, vamos renomear as colunas do dataset para que sejam mais coerentes com seus valores."
   ]
  },
  {
   "cell_type": "code",
   "execution_count": 11,
   "id": "1db60242",
   "metadata": {},
   "outputs": [
    {
     "data": {
      "text/html": [
       "<div>\n",
       "<style scoped>\n",
       "    .dataframe tbody tr th:only-of-type {\n",
       "        vertical-align: middle;\n",
       "    }\n",
       "\n",
       "    .dataframe tbody tr th {\n",
       "        vertical-align: top;\n",
       "    }\n",
       "\n",
       "    .dataframe thead th {\n",
       "        text-align: right;\n",
       "    }\n",
       "</style>\n",
       "<table border=\"1\" class=\"dataframe\">\n",
       "  <thead>\n",
       "    <tr style=\"text-align: right;\">\n",
       "      <th></th>\n",
       "      <th>Marca</th>\n",
       "      <th>Descricao</th>\n",
       "      <th>Tipo de veículo</th>\n",
       "      <th>Ano</th>\n",
       "      <th>Estado</th>\n",
       "      <th>Quilometragem</th>\n",
       "      <th>Potência do motor</th>\n",
       "      <th>Combustível</th>\n",
       "      <th>Câmbio</th>\n",
       "      <th>Direção</th>\n",
       "      <th>...</th>\n",
       "      <th>Air bag</th>\n",
       "      <th>Alarme</th>\n",
       "      <th>Trava elétrica</th>\n",
       "      <th>Vidro elétrico</th>\n",
       "      <th>Som</th>\n",
       "      <th>Sensor de ré</th>\n",
       "      <th>Câmera de ré</th>\n",
       "      <th>Blindado</th>\n",
       "      <th>Preço</th>\n",
       "      <th>Modelo</th>\n",
       "    </tr>\n",
       "  </thead>\n",
       "  <tbody>\n",
       "    <tr>\n",
       "      <th>0</th>\n",
       "      <td>MITSUBISHI</td>\n",
       "      <td>MITSUBISHI L200 TRITON SPORT HPE 2.4 CD DIESEL...</td>\n",
       "      <td>Pick-up</td>\n",
       "      <td>2023</td>\n",
       "      <td>RJ</td>\n",
       "      <td>0</td>\n",
       "      <td>2.0 - 2.9</td>\n",
       "      <td>Diesel</td>\n",
       "      <td>Automático</td>\n",
       "      <td>Hidráulica</td>\n",
       "      <td>...</td>\n",
       "      <td>NaN</td>\n",
       "      <td>NaN</td>\n",
       "      <td>NaN</td>\n",
       "      <td>NaN</td>\n",
       "      <td>NaN</td>\n",
       "      <td>NaN</td>\n",
       "      <td>NaN</td>\n",
       "      <td>NaN</td>\n",
       "      <td>R$ 0</td>\n",
       "      <td>L200</td>\n",
       "    </tr>\n",
       "    <tr>\n",
       "      <th>1</th>\n",
       "      <td>ALFA ROMEO</td>\n",
       "      <td>ALFA ROMEO 156 TS/SPORT/ELEGANT 2.0 16V</td>\n",
       "      <td>NaN</td>\n",
       "      <td>2012</td>\n",
       "      <td>AM</td>\n",
       "      <td>1</td>\n",
       "      <td>NaN</td>\n",
       "      <td>NaN</td>\n",
       "      <td>NaN</td>\n",
       "      <td>NaN</td>\n",
       "      <td>...</td>\n",
       "      <td>NaN</td>\n",
       "      <td>NaN</td>\n",
       "      <td>NaN</td>\n",
       "      <td>NaN</td>\n",
       "      <td>NaN</td>\n",
       "      <td>NaN</td>\n",
       "      <td>NaN</td>\n",
       "      <td>NaN</td>\n",
       "      <td>R$ 50.000</td>\n",
       "      <td>156</td>\n",
       "    </tr>\n",
       "    <tr>\n",
       "      <th>2</th>\n",
       "      <td>JEEP</td>\n",
       "      <td>JEEP COMPASS LONGITUDE 2.0 4X4 DIES. 16V AUT.</td>\n",
       "      <td>SUV</td>\n",
       "      <td>2017</td>\n",
       "      <td>DF</td>\n",
       "      <td>0</td>\n",
       "      <td>NaN</td>\n",
       "      <td>Diesel</td>\n",
       "      <td>Automático</td>\n",
       "      <td>NaN</td>\n",
       "      <td>...</td>\n",
       "      <td>True</td>\n",
       "      <td>True</td>\n",
       "      <td>NaN</td>\n",
       "      <td>True</td>\n",
       "      <td>True</td>\n",
       "      <td>True</td>\n",
       "      <td>True</td>\n",
       "      <td>NaN</td>\n",
       "      <td>R$ 139.800</td>\n",
       "      <td>COMPASS</td>\n",
       "    </tr>\n",
       "    <tr>\n",
       "      <th>3</th>\n",
       "      <td>VW - VOLKSWAGEN</td>\n",
       "      <td>VW - VOLKSWAGEN SAVEIRO 1.6 MI/ 1.6 MI TOTAL F...</td>\n",
       "      <td>Pick-up</td>\n",
       "      <td>2014</td>\n",
       "      <td>RS</td>\n",
       "      <td>1</td>\n",
       "      <td>1.6</td>\n",
       "      <td>Flex</td>\n",
       "      <td>Manual</td>\n",
       "      <td>Hidráulica</td>\n",
       "      <td>...</td>\n",
       "      <td>True</td>\n",
       "      <td>True</td>\n",
       "      <td>True</td>\n",
       "      <td>True</td>\n",
       "      <td>True</td>\n",
       "      <td>NaN</td>\n",
       "      <td>NaN</td>\n",
       "      <td>NaN</td>\n",
       "      <td>R$ 49.900</td>\n",
       "      <td>SAVEIRO</td>\n",
       "    </tr>\n",
       "    <tr>\n",
       "      <th>4</th>\n",
       "      <td>TOYOTA</td>\n",
       "      <td>TOYOTA ETIOS</td>\n",
       "      <td>Sedã</td>\n",
       "      <td>2015</td>\n",
       "      <td>PA</td>\n",
       "      <td>1000</td>\n",
       "      <td>1.5</td>\n",
       "      <td>Flex</td>\n",
       "      <td>Manual</td>\n",
       "      <td>Hidráulica</td>\n",
       "      <td>...</td>\n",
       "      <td>NaN</td>\n",
       "      <td>True</td>\n",
       "      <td>True</td>\n",
       "      <td>True</td>\n",
       "      <td>True</td>\n",
       "      <td>True</td>\n",
       "      <td>NaN</td>\n",
       "      <td>NaN</td>\n",
       "      <td>R$ 47.900</td>\n",
       "      <td>ETIOS</td>\n",
       "    </tr>\n",
       "  </tbody>\n",
       "</table>\n",
       "<p>5 rows × 26 columns</p>\n",
       "</div>"
      ],
      "text/plain": [
       "             Marca                                          Descricao  \\\n",
       "0       MITSUBISHI  MITSUBISHI L200 TRITON SPORT HPE 2.4 CD DIESEL...   \n",
       "1       ALFA ROMEO            ALFA ROMEO 156 TS/SPORT/ELEGANT 2.0 16V   \n",
       "2             JEEP      JEEP COMPASS LONGITUDE 2.0 4X4 DIES. 16V AUT.   \n",
       "3  VW - VOLKSWAGEN  VW - VOLKSWAGEN SAVEIRO 1.6 MI/ 1.6 MI TOTAL F...   \n",
       "4           TOYOTA                                       TOYOTA ETIOS   \n",
       "\n",
       "  Tipo de veículo   Ano Estado  Quilometragem Potência do motor Combustível  \\\n",
       "0         Pick-up  2023     RJ              0         2.0 - 2.9      Diesel   \n",
       "1             NaN  2012     AM              1               NaN         NaN   \n",
       "2             SUV  2017     DF              0               NaN      Diesel   \n",
       "3         Pick-up  2014     RS              1               1.6        Flex   \n",
       "4            Sedã  2015     PA           1000               1.5        Flex   \n",
       "\n",
       "       Câmbio     Direção  ... Air bag  Alarme Trava elétrica Vidro elétrico  \\\n",
       "0  Automático  Hidráulica  ...     NaN     NaN            NaN            NaN   \n",
       "1         NaN         NaN  ...     NaN     NaN            NaN            NaN   \n",
       "2  Automático         NaN  ...    True    True            NaN           True   \n",
       "3      Manual  Hidráulica  ...    True    True           True           True   \n",
       "4      Manual  Hidráulica  ...     NaN    True           True           True   \n",
       "\n",
       "    Som Sensor de ré Câmera de ré Blindado       Preço   Modelo  \n",
       "0   NaN          NaN          NaN      NaN        R$ 0     L200  \n",
       "1   NaN          NaN          NaN      NaN   R$ 50.000      156  \n",
       "2  True         True         True      NaN  R$ 139.800  COMPASS  \n",
       "3  True          NaN          NaN      NaN   R$ 49.900  SAVEIRO  \n",
       "4  True         True          NaN      NaN   R$ 47.900    ETIOS  \n",
       "\n",
       "[5 rows x 26 columns]"
      ]
     },
     "execution_count": 11,
     "metadata": {},
     "output_type": "execute_result"
    }
   ],
   "source": [
    "df.rename({'Modelo':'Descricao', 'ModeloLimpo':'Modelo'}, axis=1, inplace=True)\n",
    "\n",
    "df.head()"
   ]
  },
  {
   "cell_type": "code",
   "execution_count": 12,
   "id": "793a4ca1",
   "metadata": {},
   "outputs": [
    {
     "data": {
      "text/plain": [
       "count     5331\n",
       "unique     314\n",
       "top       ONIX\n",
       "freq       161\n",
       "Name: Modelo, dtype: object"
      ]
     },
     "execution_count": 12,
     "metadata": {},
     "output_type": "execute_result"
    }
   ],
   "source": [
    "df['Modelo'].describe()"
   ]
  },
  {
   "cell_type": "code",
   "execution_count": 13,
   "id": "70277b08",
   "metadata": {},
   "outputs": [
    {
     "data": {
      "image/png": "[encoded data removed]",
      "text/plain": [
       "<Figure size 720x360 with 1 Axes>"
      ]
     },
     "metadata": {
      "needs_background": "light"
     },
     "output_type": "display_data"
    }
   ],
   "source": [
    "plt.figure(figsize=(10,5))\n",
    "ax = sns.barplot(x=df['Modelo'].value_counts()[:5].index, y=df['Modelo'].value_counts()[:5])\n",
    "\n",
    "for i in ax.containers:\n",
    "    ax.bar_label(i,)"
   ]
  },
  {
   "cell_type": "markdown",
   "id": "eb607d80",
   "metadata": {},
   "source": [
    "Mesmo após a limpeza dos dados, ainda temos uma gama muito grande de modelos. Uma ideia para a etapa de modelagem seria a utilização de um target encoder, onde o valor do modelo é substituído pela média dos valores da target (o preço do veículo) para o modelo em questão."
   ]
  },
  {
   "cell_type": "markdown",
   "id": "3366d358",
   "metadata": {},
   "source": [
    "## Tipo de veículo"
   ]
  },
  {
   "cell_type": "code",
   "execution_count": 14,
   "id": "fb3307fb",
   "metadata": {},
   "outputs": [
    {
     "data": {
      "text/plain": [
       "count        4390\n",
       "unique          9\n",
       "top       Passeio\n",
       "freq         1308\n",
       "Name: Tipo de veículo, dtype: object"
      ]
     },
     "execution_count": 14,
     "metadata": {},
     "output_type": "execute_result"
    }
   ],
   "source": [
    "df['Tipo de veículo'].describe()"
   ]
  },
  {
   "cell_type": "code",
   "execution_count": 15,
   "id": "2a39cc11",
   "metadata": {},
   "outputs": [
    {
     "data": {
      "text/plain": [
       "Passeio           1308\n",
       "Hatch             1033\n",
       "Sedã               753\n",
       "SUV                741\n",
       "Pick-up            428\n",
       "Van/Utilitário     118\n",
       "Conversível          5\n",
       "Caminhão Leve        3\n",
       "Buggy                1\n",
       "Name: Tipo de veículo, dtype: int64"
      ]
     },
     "execution_count": 15,
     "metadata": {},
     "output_type": "execute_result"
    }
   ],
   "source": [
    "df['Tipo de veículo'].value_counts()"
   ]
  },
  {
   "cell_type": "code",
   "execution_count": 16,
   "id": "86a4178e",
   "metadata": {},
   "outputs": [
    {
     "data": {
      "image/png": "[encoded data removed]",
      "text/plain": [
       "<Figure size 720x360 with 1 Axes>"
      ]
     },
     "metadata": {
      "needs_background": "light"
     },
     "output_type": "display_data"
    }
   ],
   "source": [
    "plt.figure(figsize=(10,5))\n",
    "ax = sns.barplot(x=df['Tipo de veículo'].value_counts()[:5].index, y=df['Tipo de veículo'].value_counts()[:5])\n",
    "\n",
    "for i in ax.containers:\n",
    "    ax.bar_label(i,)"
   ]
  },
  {
   "cell_type": "markdown",
   "id": "b5af833b",
   "metadata": {},
   "source": [
    "Temos 9 categorias diferentes de tipo de veículo, mas 3 delas são muito pouco representativas (Conversível, Caminhão Leve e Buggy). Temos um número alto de valores faltantes nessa feature, igual a 941 ou aproximadamente 18% das observações do dataset.\n",
    "\n",
    "**D:** O que fazer com esses valores faltantes?\n",
    "\n",
    "**D:** Quais os tipos de carro classificados como Passeio?\n",
    "\n",
    "**D:** Vamos dropar as classes pouco representativas?\n",
    "\n",
    "A coluna será renomeada, de forma a facilitar sua manipulação dentro da biblioteca Pandas."
   ]
  },
  {
   "cell_type": "code",
   "execution_count": 17,
   "id": "57ce6333",
   "metadata": {},
   "outputs": [
    {
     "data": {
      "text/html": [
       "<div>\n",
       "<style scoped>\n",
       "    .dataframe tbody tr th:only-of-type {\n",
       "        vertical-align: middle;\n",
       "    }\n",
       "\n",
       "    .dataframe tbody tr th {\n",
       "        vertical-align: top;\n",
       "    }\n",
       "\n",
       "    .dataframe thead th {\n",
       "        text-align: right;\n",
       "    }\n",
       "</style>\n",
       "<table border=\"1\" class=\"dataframe\">\n",
       "  <thead>\n",
       "    <tr style=\"text-align: right;\">\n",
       "      <th></th>\n",
       "      <th>Marca</th>\n",
       "      <th>Descricao</th>\n",
       "      <th>Tipo</th>\n",
       "      <th>Ano</th>\n",
       "      <th>Estado</th>\n",
       "      <th>Quilometragem</th>\n",
       "      <th>Potência do motor</th>\n",
       "      <th>Combustível</th>\n",
       "      <th>Câmbio</th>\n",
       "      <th>Direção</th>\n",
       "      <th>...</th>\n",
       "      <th>Air bag</th>\n",
       "      <th>Alarme</th>\n",
       "      <th>Trava elétrica</th>\n",
       "      <th>Vidro elétrico</th>\n",
       "      <th>Som</th>\n",
       "      <th>Sensor de ré</th>\n",
       "      <th>Câmera de ré</th>\n",
       "      <th>Blindado</th>\n",
       "      <th>Preço</th>\n",
       "      <th>Modelo</th>\n",
       "    </tr>\n",
       "  </thead>\n",
       "  <tbody>\n",
       "    <tr>\n",
       "      <th>0</th>\n",
       "      <td>MITSUBISHI</td>\n",
       "      <td>MITSUBISHI L200 TRITON SPORT HPE 2.4 CD DIESEL...</td>\n",
       "      <td>Pick-up</td>\n",
       "      <td>2023</td>\n",
       "      <td>RJ</td>\n",
       "      <td>0</td>\n",
       "      <td>2.0 - 2.9</td>\n",
       "      <td>Diesel</td>\n",
       "      <td>Automático</td>\n",
       "      <td>Hidráulica</td>\n",
       "      <td>...</td>\n",
       "      <td>NaN</td>\n",
       "      <td>NaN</td>\n",
       "      <td>NaN</td>\n",
       "      <td>NaN</td>\n",
       "      <td>NaN</td>\n",
       "      <td>NaN</td>\n",
       "      <td>NaN</td>\n",
       "      <td>NaN</td>\n",
       "      <td>R$ 0</td>\n",
       "      <td>L200</td>\n",
       "    </tr>\n",
       "    <tr>\n",
       "      <th>1</th>\n",
       "      <td>ALFA ROMEO</td>\n",
       "      <td>ALFA ROMEO 156 TS/SPORT/ELEGANT 2.0 16V</td>\n",
       "      <td>NaN</td>\n",
       "      <td>2012</td>\n",
       "      <td>AM</td>\n",
       "      <td>1</td>\n",
       "      <td>NaN</td>\n",
       "      <td>NaN</td>\n",
       "      <td>NaN</td>\n",
       "      <td>NaN</td>\n",
       "      <td>...</td>\n",
       "      <td>NaN</td>\n",
       "      <td>NaN</td>\n",
       "      <td>NaN</td>\n",
       "      <td>NaN</td>\n",
       "      <td>NaN</td>\n",
       "      <td>NaN</td>\n",
       "      <td>NaN</td>\n",
       "      <td>NaN</td>\n",
       "      <td>R$ 50.000</td>\n",
       "      <td>156</td>\n",
       "    </tr>\n",
       "    <tr>\n",
       "      <th>2</th>\n",
       "      <td>JEEP</td>\n",
       "      <td>JEEP COMPASS LONGITUDE 2.0 4X4 DIES. 16V AUT.</td>\n",
       "      <td>SUV</td>\n",
       "      <td>2017</td>\n",
       "      <td>DF</td>\n",
       "      <td>0</td>\n",
       "      <td>NaN</td>\n",
       "      <td>Diesel</td>\n",
       "      <td>Automático</td>\n",
       "      <td>NaN</td>\n",
       "      <td>...</td>\n",
       "      <td>True</td>\n",
       "      <td>True</td>\n",
       "      <td>NaN</td>\n",
       "      <td>True</td>\n",
       "      <td>True</td>\n",
       "      <td>True</td>\n",
       "      <td>True</td>\n",
       "      <td>NaN</td>\n",
       "      <td>R$ 139.800</td>\n",
       "      <td>COMPASS</td>\n",
       "    </tr>\n",
       "    <tr>\n",
       "      <th>3</th>\n",
       "      <td>VW - VOLKSWAGEN</td>\n",
       "      <td>VW - VOLKSWAGEN SAVEIRO 1.6 MI/ 1.6 MI TOTAL F...</td>\n",
       "      <td>Pick-up</td>\n",
       "      <td>2014</td>\n",
       "      <td>RS</td>\n",
       "      <td>1</td>\n",
       "      <td>1.6</td>\n",
       "      <td>Flex</td>\n",
       "      <td>Manual</td>\n",
       "      <td>Hidráulica</td>\n",
       "      <td>...</td>\n",
       "      <td>True</td>\n",
       "      <td>True</td>\n",
       "      <td>True</td>\n",
       "      <td>True</td>\n",
       "      <td>True</td>\n",
       "      <td>NaN</td>\n",
       "      <td>NaN</td>\n",
       "      <td>NaN</td>\n",
       "      <td>R$ 49.900</td>\n",
       "      <td>SAVEIRO</td>\n",
       "    </tr>\n",
       "    <tr>\n",
       "      <th>4</th>\n",
       "      <td>TOYOTA</td>\n",
       "      <td>TOYOTA ETIOS</td>\n",
       "      <td>Sedã</td>\n",
       "      <td>2015</td>\n",
       "      <td>PA</td>\n",
       "      <td>1000</td>\n",
       "      <td>1.5</td>\n",
       "      <td>Flex</td>\n",
       "      <td>Manual</td>\n",
       "      <td>Hidráulica</td>\n",
       "      <td>...</td>\n",
       "      <td>NaN</td>\n",
       "      <td>True</td>\n",
       "      <td>True</td>\n",
       "      <td>True</td>\n",
       "      <td>True</td>\n",
       "      <td>True</td>\n",
       "      <td>NaN</td>\n",
       "      <td>NaN</td>\n",
       "      <td>R$ 47.900</td>\n",
       "      <td>ETIOS</td>\n",
       "    </tr>\n",
       "  </tbody>\n",
       "</table>\n",
       "<p>5 rows × 26 columns</p>\n",
       "</div>"
      ],
      "text/plain": [
       "             Marca                                          Descricao  \\\n",
       "0       MITSUBISHI  MITSUBISHI L200 TRITON SPORT HPE 2.4 CD DIESEL...   \n",
       "1       ALFA ROMEO            ALFA ROMEO 156 TS/SPORT/ELEGANT 2.0 16V   \n",
       "2             JEEP      JEEP COMPASS LONGITUDE 2.0 4X4 DIES. 16V AUT.   \n",
       "3  VW - VOLKSWAGEN  VW - VOLKSWAGEN SAVEIRO 1.6 MI/ 1.6 MI TOTAL F...   \n",
       "4           TOYOTA                                       TOYOTA ETIOS   \n",
       "\n",
       "      Tipo   Ano Estado  Quilometragem Potência do motor Combustível  \\\n",
       "0  Pick-up  2023     RJ              0         2.0 - 2.9      Diesel   \n",
       "1      NaN  2012     AM              1               NaN         NaN   \n",
       "2      SUV  2017     DF              0               NaN      Diesel   \n",
       "3  Pick-up  2014     RS              1               1.6        Flex   \n",
       "4     Sedã  2015     PA           1000               1.5        Flex   \n",
       "\n",
       "       Câmbio     Direção  ... Air bag  Alarme Trava elétrica Vidro elétrico  \\\n",
       "0  Automático  Hidráulica  ...     NaN     NaN            NaN            NaN   \n",
       "1         NaN         NaN  ...     NaN     NaN            NaN            NaN   \n",
       "2  Automático         NaN  ...    True    True            NaN           True   \n",
       "3      Manual  Hidráulica  ...    True    True           True           True   \n",
       "4      Manual  Hidráulica  ...     NaN    True           True           True   \n",
       "\n",
       "    Som Sensor de ré Câmera de ré Blindado       Preço   Modelo  \n",
       "0   NaN          NaN          NaN      NaN        R$ 0     L200  \n",
       "1   NaN          NaN          NaN      NaN   R$ 50.000      156  \n",
       "2  True         True         True      NaN  R$ 139.800  COMPASS  \n",
       "3  True          NaN          NaN      NaN   R$ 49.900  SAVEIRO  \n",
       "4  True         True          NaN      NaN   R$ 47.900    ETIOS  \n",
       "\n",
       "[5 rows x 26 columns]"
      ]
     },
     "execution_count": 17,
     "metadata": {},
     "output_type": "execute_result"
    }
   ],
   "source": [
    "df.rename({'Tipo de veículo':'Tipo'}, axis=1, inplace=True)\n",
    "\n",
    "df.head()"
   ]
  },
  {
   "cell_type": "markdown",
   "id": "21f63383",
   "metadata": {},
   "source": [
    "## Ano"
   ]
  },
  {
   "cell_type": "code",
   "execution_count": 18,
   "id": "496116c7",
   "metadata": {},
   "outputs": [
    {
     "data": {
      "text/plain": [
       "count    5331.000000\n",
       "mean     2016.727818\n",
       "std         4.050388\n",
       "min      2000.000000\n",
       "25%      2014.000000\n",
       "50%      2018.000000\n",
       "75%      2020.000000\n",
       "max      2023.000000\n",
       "Name: Ano, dtype: float64"
      ]
     },
     "execution_count": 18,
     "metadata": {},
     "output_type": "execute_result"
    }
   ],
   "source": [
    "df['Ano'].describe()"
   ]
  },
  {
   "cell_type": "code",
   "execution_count": 19,
   "id": "1e485fbf",
   "metadata": {},
   "outputs": [
    {
     "data": {
      "text/plain": [
       "array([2023, 2012, 2017, 2014, 2015, 2019, 2021, 2022, 2018, 2016, 2013,\n",
       "       2011, 2020, 2008, 2003, 2010, 2009, 2005, 2007, 2006, 2004, 2002,\n",
       "       2000, 2001], dtype=int64)"
      ]
     },
     "execution_count": 19,
     "metadata": {},
     "output_type": "execute_result"
    }
   ],
   "source": [
    "df['Ano'].unique()"
   ]
  },
  {
   "cell_type": "code",
   "execution_count": 20,
   "id": "2bd21390",
   "metadata": {},
   "outputs": [
    {
     "data": {
      "image/png": "[encoded data removed]",
      "text/plain": [
       "<Figure size 720x360 with 1 Axes>"
      ]
     },
     "metadata": {
      "needs_background": "light"
     },
     "output_type": "display_data"
    }
   ],
   "source": [
    "plt.figure(figsize=(10,5))\n",
    "ax = sns.barplot(x=df['Ano'].value_counts()[:10].index, y=df['Ano'].value_counts()[:10])\n",
    "\n",
    "for i in ax.containers:\n",
    "    ax.bar_label(i,)"
   ]
  },
  {
   "cell_type": "markdown",
   "id": "05237e21",
   "metadata": {},
   "source": [
    "A maior parte dos veículos anunciados é do ano de 2020 (767 automóveis), seguido pelo ano de 2019 (640 automóveis) e pelos anos de 2018 (493 automóveis) e 2021 (484 automóveis)."
   ]
  },
  {
   "cell_type": "markdown",
   "id": "ab911d80",
   "metadata": {},
   "source": [
    "## Estado"
   ]
  },
  {
   "cell_type": "code",
   "execution_count": 21,
   "id": "2a603ca8",
   "metadata": {},
   "outputs": [
    {
     "data": {
      "text/plain": [
       "count     5331\n",
       "unique      27\n",
       "top         SP\n",
       "freq      1364\n",
       "Name: Estado, dtype: object"
      ]
     },
     "execution_count": 21,
     "metadata": {},
     "output_type": "execute_result"
    }
   ],
   "source": [
    "df['Estado'].describe()"
   ]
  },
  {
   "cell_type": "code",
   "execution_count": 22,
   "id": "27f42ded",
   "metadata": {},
   "outputs": [
    {
     "data": {
      "text/plain": [
       "array(['RJ', 'AM', 'DF', 'RS', 'PA', 'PR', 'CE', 'SP', 'RO', 'MG', 'PB',\n",
       "       'ES', 'GO', 'SC', 'BA', 'PE', 'MA', 'RN', 'SE', 'AL', 'MS', 'MT',\n",
       "       'TO', 'RR', 'AC', 'PI', 'AP'], dtype=object)"
      ]
     },
     "execution_count": 22,
     "metadata": {},
     "output_type": "execute_result"
    }
   ],
   "source": [
    "df['Estado'].unique()"
   ]
  },
  {
   "cell_type": "code",
   "execution_count": 23,
   "id": "17fdb970",
   "metadata": {},
   "outputs": [
    {
     "data": {
      "image/png": "[encoded data removed]",
      "text/plain": [
       "<Figure size 720x360 with 1 Axes>"
      ]
     },
     "metadata": {
      "needs_background": "light"
     },
     "output_type": "display_data"
    }
   ],
   "source": [
    "plt.figure(figsize=(10,5))\n",
    "ax = sns.barplot(x=df['Estado'].value_counts()[:5].index, y=df['Estado'].value_counts()[:5])\n",
    "\n",
    "for i in ax.containers:\n",
    "    ax.bar_label(i,)"
   ]
  },
  {
   "cell_type": "markdown",
   "id": "863d146b",
   "metadata": {},
   "source": [
    "Nessa etapa será modificado o nome da feature, para que seu significado não seja interpretado errôneamente. A feature representa a unidade federal do veículo, e não o estado de conservação do mesmo."
   ]
  },
  {
   "cell_type": "code",
   "execution_count": 24,
   "id": "6a1193b9",
   "metadata": {},
   "outputs": [
    {
     "data": {
      "text/html": [
       "<div>\n",
       "<style scoped>\n",
       "    .dataframe tbody tr th:only-of-type {\n",
       "        vertical-align: middle;\n",
       "    }\n",
       "\n",
       "    .dataframe tbody tr th {\n",
       "        vertical-align: top;\n",
       "    }\n",
       "\n",
       "    .dataframe thead th {\n",
       "        text-align: right;\n",
       "    }\n",
       "</style>\n",
       "<table border=\"1\" class=\"dataframe\">\n",
       "  <thead>\n",
       "    <tr style=\"text-align: right;\">\n",
       "      <th></th>\n",
       "      <th>Marca</th>\n",
       "      <th>Descricao</th>\n",
       "      <th>Tipo</th>\n",
       "      <th>Ano</th>\n",
       "      <th>UF</th>\n",
       "      <th>Quilometragem</th>\n",
       "      <th>Potência do motor</th>\n",
       "      <th>Combustível</th>\n",
       "      <th>Câmbio</th>\n",
       "      <th>Direção</th>\n",
       "      <th>...</th>\n",
       "      <th>Air bag</th>\n",
       "      <th>Alarme</th>\n",
       "      <th>Trava elétrica</th>\n",
       "      <th>Vidro elétrico</th>\n",
       "      <th>Som</th>\n",
       "      <th>Sensor de ré</th>\n",
       "      <th>Câmera de ré</th>\n",
       "      <th>Blindado</th>\n",
       "      <th>Preço</th>\n",
       "      <th>Modelo</th>\n",
       "    </tr>\n",
       "  </thead>\n",
       "  <tbody>\n",
       "    <tr>\n",
       "      <th>0</th>\n",
       "      <td>MITSUBISHI</td>\n",
       "      <td>MITSUBISHI L200 TRITON SPORT HPE 2.4 CD DIESEL...</td>\n",
       "      <td>Pick-up</td>\n",
       "      <td>2023</td>\n",
       "      <td>RJ</td>\n",
       "      <td>0</td>\n",
       "      <td>2.0 - 2.9</td>\n",
       "      <td>Diesel</td>\n",
       "      <td>Automático</td>\n",
       "      <td>Hidráulica</td>\n",
       "      <td>...</td>\n",
       "      <td>NaN</td>\n",
       "      <td>NaN</td>\n",
       "      <td>NaN</td>\n",
       "      <td>NaN</td>\n",
       "      <td>NaN</td>\n",
       "      <td>NaN</td>\n",
       "      <td>NaN</td>\n",
       "      <td>NaN</td>\n",
       "      <td>R$ 0</td>\n",
       "      <td>L200</td>\n",
       "    </tr>\n",
       "    <tr>\n",
       "      <th>1</th>\n",
       "      <td>ALFA ROMEO</td>\n",
       "      <td>ALFA ROMEO 156 TS/SPORT/ELEGANT 2.0 16V</td>\n",
       "      <td>NaN</td>\n",
       "      <td>2012</td>\n",
       "      <td>AM</td>\n",
       "      <td>1</td>\n",
       "      <td>NaN</td>\n",
       "      <td>NaN</td>\n",
       "      <td>NaN</td>\n",
       "      <td>NaN</td>\n",
       "      <td>...</td>\n",
       "      <td>NaN</td>\n",
       "      <td>NaN</td>\n",
       "      <td>NaN</td>\n",
       "      <td>NaN</td>\n",
       "      <td>NaN</td>\n",
       "      <td>NaN</td>\n",
       "      <td>NaN</td>\n",
       "      <td>NaN</td>\n",
       "      <td>R$ 50.000</td>\n",
       "      <td>156</td>\n",
       "    </tr>\n",
       "    <tr>\n",
       "      <th>2</th>\n",
       "      <td>JEEP</td>\n",
       "      <td>JEEP COMPASS LONGITUDE 2.0 4X4 DIES. 16V AUT.</td>\n",
       "      <td>SUV</td>\n",
       "      <td>2017</td>\n",
       "      <td>DF</td>\n",
       "      <td>0</td>\n",
       "      <td>NaN</td>\n",
       "      <td>Diesel</td>\n",
       "      <td>Automático</td>\n",
       "      <td>NaN</td>\n",
       "      <td>...</td>\n",
       "      <td>True</td>\n",
       "      <td>True</td>\n",
       "      <td>NaN</td>\n",
       "      <td>True</td>\n",
       "      <td>True</td>\n",
       "      <td>True</td>\n",
       "      <td>True</td>\n",
       "      <td>NaN</td>\n",
       "      <td>R$ 139.800</td>\n",
       "      <td>COMPASS</td>\n",
       "    </tr>\n",
       "    <tr>\n",
       "      <th>3</th>\n",
       "      <td>VW - VOLKSWAGEN</td>\n",
       "      <td>VW - VOLKSWAGEN SAVEIRO 1.6 MI/ 1.6 MI TOTAL F...</td>\n",
       "      <td>Pick-up</td>\n",
       "      <td>2014</td>\n",
       "      <td>RS</td>\n",
       "      <td>1</td>\n",
       "      <td>1.6</td>\n",
       "      <td>Flex</td>\n",
       "      <td>Manual</td>\n",
       "      <td>Hidráulica</td>\n",
       "      <td>...</td>\n",
       "      <td>True</td>\n",
       "      <td>True</td>\n",
       "      <td>True</td>\n",
       "      <td>True</td>\n",
       "      <td>True</td>\n",
       "      <td>NaN</td>\n",
       "      <td>NaN</td>\n",
       "      <td>NaN</td>\n",
       "      <td>R$ 49.900</td>\n",
       "      <td>SAVEIRO</td>\n",
       "    </tr>\n",
       "    <tr>\n",
       "      <th>4</th>\n",
       "      <td>TOYOTA</td>\n",
       "      <td>TOYOTA ETIOS</td>\n",
       "      <td>Sedã</td>\n",
       "      <td>2015</td>\n",
       "      <td>PA</td>\n",
       "      <td>1000</td>\n",
       "      <td>1.5</td>\n",
       "      <td>Flex</td>\n",
       "      <td>Manual</td>\n",
       "      <td>Hidráulica</td>\n",
       "      <td>...</td>\n",
       "      <td>NaN</td>\n",
       "      <td>True</td>\n",
       "      <td>True</td>\n",
       "      <td>True</td>\n",
       "      <td>True</td>\n",
       "      <td>True</td>\n",
       "      <td>NaN</td>\n",
       "      <td>NaN</td>\n",
       "      <td>R$ 47.900</td>\n",
       "      <td>ETIOS</td>\n",
       "    </tr>\n",
       "  </tbody>\n",
       "</table>\n",
       "<p>5 rows × 26 columns</p>\n",
       "</div>"
      ],
      "text/plain": [
       "             Marca                                          Descricao  \\\n",
       "0       MITSUBISHI  MITSUBISHI L200 TRITON SPORT HPE 2.4 CD DIESEL...   \n",
       "1       ALFA ROMEO            ALFA ROMEO 156 TS/SPORT/ELEGANT 2.0 16V   \n",
       "2             JEEP      JEEP COMPASS LONGITUDE 2.0 4X4 DIES. 16V AUT.   \n",
       "3  VW - VOLKSWAGEN  VW - VOLKSWAGEN SAVEIRO 1.6 MI/ 1.6 MI TOTAL F...   \n",
       "4           TOYOTA                                       TOYOTA ETIOS   \n",
       "\n",
       "      Tipo   Ano  UF  Quilometragem Potência do motor Combustível      Câmbio  \\\n",
       "0  Pick-up  2023  RJ              0         2.0 - 2.9      Diesel  Automático   \n",
       "1      NaN  2012  AM              1               NaN         NaN         NaN   \n",
       "2      SUV  2017  DF              0               NaN      Diesel  Automático   \n",
       "3  Pick-up  2014  RS              1               1.6        Flex      Manual   \n",
       "4     Sedã  2015  PA           1000               1.5        Flex      Manual   \n",
       "\n",
       "      Direção  ... Air bag  Alarme Trava elétrica Vidro elétrico   Som  \\\n",
       "0  Hidráulica  ...     NaN     NaN            NaN            NaN   NaN   \n",
       "1         NaN  ...     NaN     NaN            NaN            NaN   NaN   \n",
       "2         NaN  ...    True    True            NaN           True  True   \n",
       "3  Hidráulica  ...    True    True           True           True  True   \n",
       "4  Hidráulica  ...     NaN    True           True           True  True   \n",
       "\n",
       "  Sensor de ré Câmera de ré Blindado       Preço   Modelo  \n",
       "0          NaN          NaN      NaN        R$ 0     L200  \n",
       "1          NaN          NaN      NaN   R$ 50.000      156  \n",
       "2         True         True      NaN  R$ 139.800  COMPASS  \n",
       "3          NaN          NaN      NaN   R$ 49.900  SAVEIRO  \n",
       "4         True          NaN      NaN   R$ 47.900    ETIOS  \n",
       "\n",
       "[5 rows x 26 columns]"
      ]
     },
     "execution_count": 24,
     "metadata": {},
     "output_type": "execute_result"
    }
   ],
   "source": [
    "df.rename({'Estado':'UF'}, axis=1, inplace=True)\n",
    "\n",
    "df.head()"
   ]
  },
  {
   "cell_type": "markdown",
   "id": "d3b5a969",
   "metadata": {},
   "source": [
    "## Quilometragem"
   ]
  },
  {
   "cell_type": "code",
   "execution_count": 25,
   "id": "9f463316",
   "metadata": {},
   "outputs": [
    {
     "data": {
      "text/plain": [
       "count    5.331000e+03\n",
       "mean     1.998521e+06\n",
       "std      1.369719e+08\n",
       "min      0.000000e+00\n",
       "25%      2.981700e+04\n",
       "50%      5.977000e+04\n",
       "75%      1.000000e+05\n",
       "max      1.000000e+10\n",
       "Name: Quilometragem, dtype: float64"
      ]
     },
     "execution_count": 25,
     "metadata": {},
     "output_type": "execute_result"
    }
   ],
   "source": [
    "df['Quilometragem'].describe()"
   ]
  },
  {
   "cell_type": "code",
   "execution_count": 26,
   "id": "fe2308c4",
   "metadata": {},
   "outputs": [
    {
     "data": {
      "image/png": "[encoded data removed]",
      "text/plain": [
       "<Figure size 1080x360 with 2 Axes>"
      ]
     },
     "metadata": {
      "needs_background": "light"
     },
     "output_type": "display_data"
    }
   ],
   "source": [
    "fig, axes = plt.subplot_mosaic([['left', 'right']], figsize=(15,5))\n",
    "\n",
    "sns.boxplot(y=df['Quilometragem'], ax=axes['left']);\n",
    "sns.kdeplot(x=df['Quilometragem'], ax=axes['right']);"
   ]
  },
  {
   "cell_type": "markdown",
   "id": "5acd1d08",
   "metadata": {},
   "source": [
    "Aparentemente, temos um outlier muito forte em aproximadamente 10.000.000.000 km. Esse número é nitidamente muito extremo e, portanto, deve ser fruto de algum erro de anotação.\n",
    "\n",
    "**D**: Como tratar os outliers? \n",
    "\n",
    "Através de pesquisas, foi visto que motoristas profissionais (taxistas, ubers) rodam até 350 km por dia. Para o caso extremo em que esses motoristas trabalhem todos os dias, teríamos 127.750 km por ano. Sendo assim, uma forma de calcular um limite de quilometragem realista seria multiplicar 350 km pelo número de dias decorridos entre a data de obtenção dos dados (aproximadamente dia 04/07/2022) e a data mínima de aquisição do modelo. Se o modelo do carro é do ano 2019, vamos considerar que a data mínima para sua aquisição foi dia 01/07/2018."
   ]
  },
  {
   "cell_type": "code",
   "execution_count": 27,
   "id": "0d508525",
   "metadata": {},
   "outputs": [
    {
     "data": {
      "text/html": [
       "<div>\n",
       "<style scoped>\n",
       "    .dataframe tbody tr th:only-of-type {\n",
       "        vertical-align: middle;\n",
       "    }\n",
       "\n",
       "    .dataframe tbody tr th {\n",
       "        vertical-align: top;\n",
       "    }\n",
       "\n",
       "    .dataframe thead th {\n",
       "        text-align: right;\n",
       "    }\n",
       "</style>\n",
       "<table border=\"1\" class=\"dataframe\">\n",
       "  <thead>\n",
       "    <tr style=\"text-align: right;\">\n",
       "      <th></th>\n",
       "      <th>Marca</th>\n",
       "      <th>Descricao</th>\n",
       "      <th>Tipo</th>\n",
       "      <th>Ano</th>\n",
       "      <th>UF</th>\n",
       "      <th>Quilometragem</th>\n",
       "      <th>Potência do motor</th>\n",
       "      <th>Combustível</th>\n",
       "      <th>Câmbio</th>\n",
       "      <th>Direção</th>\n",
       "      <th>...</th>\n",
       "      <th>Alarme</th>\n",
       "      <th>Trava elétrica</th>\n",
       "      <th>Vidro elétrico</th>\n",
       "      <th>Som</th>\n",
       "      <th>Sensor de ré</th>\n",
       "      <th>Câmera de ré</th>\n",
       "      <th>Blindado</th>\n",
       "      <th>Preço</th>\n",
       "      <th>Modelo</th>\n",
       "      <th>Dias</th>\n",
       "    </tr>\n",
       "  </thead>\n",
       "  <tbody>\n",
       "    <tr>\n",
       "      <th>0</th>\n",
       "      <td>MITSUBISHI</td>\n",
       "      <td>MITSUBISHI L200 TRITON SPORT HPE 2.4 CD DIESEL...</td>\n",
       "      <td>Pick-up</td>\n",
       "      <td>2023</td>\n",
       "      <td>RJ</td>\n",
       "      <td>0</td>\n",
       "      <td>2.0 - 2.9</td>\n",
       "      <td>Diesel</td>\n",
       "      <td>Automático</td>\n",
       "      <td>Hidráulica</td>\n",
       "      <td>...</td>\n",
       "      <td>NaN</td>\n",
       "      <td>NaN</td>\n",
       "      <td>NaN</td>\n",
       "      <td>NaN</td>\n",
       "      <td>NaN</td>\n",
       "      <td>NaN</td>\n",
       "      <td>NaN</td>\n",
       "      <td>R$ 0</td>\n",
       "      <td>L200</td>\n",
       "      <td>3</td>\n",
       "    </tr>\n",
       "    <tr>\n",
       "      <th>1</th>\n",
       "      <td>ALFA ROMEO</td>\n",
       "      <td>ALFA ROMEO 156 TS/SPORT/ELEGANT 2.0 16V</td>\n",
       "      <td>NaN</td>\n",
       "      <td>2012</td>\n",
       "      <td>AM</td>\n",
       "      <td>1</td>\n",
       "      <td>NaN</td>\n",
       "      <td>NaN</td>\n",
       "      <td>NaN</td>\n",
       "      <td>NaN</td>\n",
       "      <td>...</td>\n",
       "      <td>NaN</td>\n",
       "      <td>NaN</td>\n",
       "      <td>NaN</td>\n",
       "      <td>NaN</td>\n",
       "      <td>NaN</td>\n",
       "      <td>NaN</td>\n",
       "      <td>NaN</td>\n",
       "      <td>R$ 50.000</td>\n",
       "      <td>156</td>\n",
       "      <td>4021</td>\n",
       "    </tr>\n",
       "    <tr>\n",
       "      <th>2</th>\n",
       "      <td>JEEP</td>\n",
       "      <td>JEEP COMPASS LONGITUDE 2.0 4X4 DIES. 16V AUT.</td>\n",
       "      <td>SUV</td>\n",
       "      <td>2017</td>\n",
       "      <td>DF</td>\n",
       "      <td>0</td>\n",
       "      <td>NaN</td>\n",
       "      <td>Diesel</td>\n",
       "      <td>Automático</td>\n",
       "      <td>NaN</td>\n",
       "      <td>...</td>\n",
       "      <td>True</td>\n",
       "      <td>NaN</td>\n",
       "      <td>True</td>\n",
       "      <td>True</td>\n",
       "      <td>True</td>\n",
       "      <td>True</td>\n",
       "      <td>NaN</td>\n",
       "      <td>R$ 139.800</td>\n",
       "      <td>COMPASS</td>\n",
       "      <td>2194</td>\n",
       "    </tr>\n",
       "    <tr>\n",
       "      <th>3</th>\n",
       "      <td>VW - VOLKSWAGEN</td>\n",
       "      <td>VW - VOLKSWAGEN SAVEIRO 1.6 MI/ 1.6 MI TOTAL F...</td>\n",
       "      <td>Pick-up</td>\n",
       "      <td>2014</td>\n",
       "      <td>RS</td>\n",
       "      <td>1</td>\n",
       "      <td>1.6</td>\n",
       "      <td>Flex</td>\n",
       "      <td>Manual</td>\n",
       "      <td>Hidráulica</td>\n",
       "      <td>...</td>\n",
       "      <td>True</td>\n",
       "      <td>True</td>\n",
       "      <td>True</td>\n",
       "      <td>True</td>\n",
       "      <td>NaN</td>\n",
       "      <td>NaN</td>\n",
       "      <td>NaN</td>\n",
       "      <td>R$ 49.900</td>\n",
       "      <td>SAVEIRO</td>\n",
       "      <td>3290</td>\n",
       "    </tr>\n",
       "    <tr>\n",
       "      <th>4</th>\n",
       "      <td>TOYOTA</td>\n",
       "      <td>TOYOTA ETIOS</td>\n",
       "      <td>Sedã</td>\n",
       "      <td>2015</td>\n",
       "      <td>PA</td>\n",
       "      <td>1000</td>\n",
       "      <td>1.5</td>\n",
       "      <td>Flex</td>\n",
       "      <td>Manual</td>\n",
       "      <td>Hidráulica</td>\n",
       "      <td>...</td>\n",
       "      <td>True</td>\n",
       "      <td>True</td>\n",
       "      <td>True</td>\n",
       "      <td>True</td>\n",
       "      <td>True</td>\n",
       "      <td>NaN</td>\n",
       "      <td>NaN</td>\n",
       "      <td>R$ 47.900</td>\n",
       "      <td>ETIOS</td>\n",
       "      <td>2925</td>\n",
       "    </tr>\n",
       "  </tbody>\n",
       "</table>\n",
       "<p>5 rows × 27 columns</p>\n",
       "</div>"
      ],
      "text/plain": [
       "             Marca                                          Descricao  \\\n",
       "0       MITSUBISHI  MITSUBISHI L200 TRITON SPORT HPE 2.4 CD DIESEL...   \n",
       "1       ALFA ROMEO            ALFA ROMEO 156 TS/SPORT/ELEGANT 2.0 16V   \n",
       "2             JEEP      JEEP COMPASS LONGITUDE 2.0 4X4 DIES. 16V AUT.   \n",
       "3  VW - VOLKSWAGEN  VW - VOLKSWAGEN SAVEIRO 1.6 MI/ 1.6 MI TOTAL F...   \n",
       "4           TOYOTA                                       TOYOTA ETIOS   \n",
       "\n",
       "      Tipo   Ano  UF  Quilometragem Potência do motor Combustível      Câmbio  \\\n",
       "0  Pick-up  2023  RJ              0         2.0 - 2.9      Diesel  Automático   \n",
       "1      NaN  2012  AM              1               NaN         NaN         NaN   \n",
       "2      SUV  2017  DF              0               NaN      Diesel  Automático   \n",
       "3  Pick-up  2014  RS              1               1.6        Flex      Manual   \n",
       "4     Sedã  2015  PA           1000               1.5        Flex      Manual   \n",
       "\n",
       "      Direção  ... Alarme  Trava elétrica Vidro elétrico   Som Sensor de ré  \\\n",
       "0  Hidráulica  ...    NaN             NaN            NaN   NaN          NaN   \n",
       "1         NaN  ...    NaN             NaN            NaN   NaN          NaN   \n",
       "2         NaN  ...   True             NaN           True  True         True   \n",
       "3  Hidráulica  ...   True            True           True  True          NaN   \n",
       "4  Hidráulica  ...   True            True           True  True         True   \n",
       "\n",
       "  Câmera de ré Blindado       Preço   Modelo  Dias  \n",
       "0          NaN      NaN        R$ 0     L200     3  \n",
       "1          NaN      NaN   R$ 50.000      156  4021  \n",
       "2         True      NaN  R$ 139.800  COMPASS  2194  \n",
       "3          NaN      NaN   R$ 49.900  SAVEIRO  3290  \n",
       "4          NaN      NaN   R$ 47.900    ETIOS  2925  \n",
       "\n",
       "[5 rows x 27 columns]"
      ]
     },
     "execution_count": 27,
     "metadata": {},
     "output_type": "execute_result"
    }
   ],
   "source": [
    "data_coleta = '04/07/2022'\n",
    "data_coleta = datetime.strptime(data_coleta, '%d/%m/%Y')\n",
    "\n",
    "df['Dias'] = df.apply(lambda x: (data_coleta - datetime.strptime(f'01/07/{x.Ano-1}', '%d/%m/%Y')).days, axis=1)\n",
    "\n",
    "df.head()"
   ]
  },
  {
   "cell_type": "code",
   "execution_count": 28,
   "id": "7bed98dd",
   "metadata": {},
   "outputs": [
    {
     "data": {
      "text/plain": [
       "count    5331.000000\n",
       "mean     2293.798162\n",
       "std      1479.403110\n",
       "min         3.000000\n",
       "25%      1099.000000\n",
       "50%      1829.000000\n",
       "75%      3290.000000\n",
       "max      8404.000000\n",
       "Name: Dias, dtype: float64"
      ]
     },
     "execution_count": 28,
     "metadata": {},
     "output_type": "execute_result"
    }
   ],
   "source": [
    "df['Dias'].describe()"
   ]
  },
  {
   "cell_type": "code",
   "execution_count": 29,
   "id": "99a58505",
   "metadata": {},
   "outputs": [
    {
     "data": {
      "text/html": [
       "<div>\n",
       "<style scoped>\n",
       "    .dataframe tbody tr th:only-of-type {\n",
       "        vertical-align: middle;\n",
       "    }\n",
       "\n",
       "    .dataframe tbody tr th {\n",
       "        vertical-align: top;\n",
       "    }\n",
       "\n",
       "    .dataframe thead th {\n",
       "        text-align: right;\n",
       "    }\n",
       "</style>\n",
       "<table border=\"1\" class=\"dataframe\">\n",
       "  <thead>\n",
       "    <tr style=\"text-align: right;\">\n",
       "      <th></th>\n",
       "      <th>Marca</th>\n",
       "      <th>Descricao</th>\n",
       "      <th>Tipo</th>\n",
       "      <th>Ano</th>\n",
       "      <th>UF</th>\n",
       "      <th>Quilometragem</th>\n",
       "      <th>Potência do motor</th>\n",
       "      <th>Combustível</th>\n",
       "      <th>Câmbio</th>\n",
       "      <th>Direção</th>\n",
       "      <th>...</th>\n",
       "      <th>Trava elétrica</th>\n",
       "      <th>Vidro elétrico</th>\n",
       "      <th>Som</th>\n",
       "      <th>Sensor de ré</th>\n",
       "      <th>Câmera de ré</th>\n",
       "      <th>Blindado</th>\n",
       "      <th>Preço</th>\n",
       "      <th>Modelo</th>\n",
       "      <th>Dias</th>\n",
       "      <th>KmLimite</th>\n",
       "    </tr>\n",
       "  </thead>\n",
       "  <tbody>\n",
       "    <tr>\n",
       "      <th>0</th>\n",
       "      <td>MITSUBISHI</td>\n",
       "      <td>MITSUBISHI L200 TRITON SPORT HPE 2.4 CD DIESEL...</td>\n",
       "      <td>Pick-up</td>\n",
       "      <td>2023</td>\n",
       "      <td>RJ</td>\n",
       "      <td>0</td>\n",
       "      <td>2.0 - 2.9</td>\n",
       "      <td>Diesel</td>\n",
       "      <td>Automático</td>\n",
       "      <td>Hidráulica</td>\n",
       "      <td>...</td>\n",
       "      <td>NaN</td>\n",
       "      <td>NaN</td>\n",
       "      <td>NaN</td>\n",
       "      <td>NaN</td>\n",
       "      <td>NaN</td>\n",
       "      <td>NaN</td>\n",
       "      <td>R$ 0</td>\n",
       "      <td>L200</td>\n",
       "      <td>3</td>\n",
       "      <td>1050</td>\n",
       "    </tr>\n",
       "    <tr>\n",
       "      <th>1</th>\n",
       "      <td>ALFA ROMEO</td>\n",
       "      <td>ALFA ROMEO 156 TS/SPORT/ELEGANT 2.0 16V</td>\n",
       "      <td>NaN</td>\n",
       "      <td>2012</td>\n",
       "      <td>AM</td>\n",
       "      <td>1</td>\n",
       "      <td>NaN</td>\n",
       "      <td>NaN</td>\n",
       "      <td>NaN</td>\n",
       "      <td>NaN</td>\n",
       "      <td>...</td>\n",
       "      <td>NaN</td>\n",
       "      <td>NaN</td>\n",
       "      <td>NaN</td>\n",
       "      <td>NaN</td>\n",
       "      <td>NaN</td>\n",
       "      <td>NaN</td>\n",
       "      <td>R$ 50.000</td>\n",
       "      <td>156</td>\n",
       "      <td>4021</td>\n",
       "      <td>1407350</td>\n",
       "    </tr>\n",
       "    <tr>\n",
       "      <th>2</th>\n",
       "      <td>JEEP</td>\n",
       "      <td>JEEP COMPASS LONGITUDE 2.0 4X4 DIES. 16V AUT.</td>\n",
       "      <td>SUV</td>\n",
       "      <td>2017</td>\n",
       "      <td>DF</td>\n",
       "      <td>0</td>\n",
       "      <td>NaN</td>\n",
       "      <td>Diesel</td>\n",
       "      <td>Automático</td>\n",
       "      <td>NaN</td>\n",
       "      <td>...</td>\n",
       "      <td>NaN</td>\n",
       "      <td>True</td>\n",
       "      <td>True</td>\n",
       "      <td>True</td>\n",
       "      <td>True</td>\n",
       "      <td>NaN</td>\n",
       "      <td>R$ 139.800</td>\n",
       "      <td>COMPASS</td>\n",
       "      <td>2194</td>\n",
       "      <td>767900</td>\n",
       "    </tr>\n",
       "    <tr>\n",
       "      <th>3</th>\n",
       "      <td>VW - VOLKSWAGEN</td>\n",
       "      <td>VW - VOLKSWAGEN SAVEIRO 1.6 MI/ 1.6 MI TOTAL F...</td>\n",
       "      <td>Pick-up</td>\n",
       "      <td>2014</td>\n",
       "      <td>RS</td>\n",
       "      <td>1</td>\n",
       "      <td>1.6</td>\n",
       "      <td>Flex</td>\n",
       "      <td>Manual</td>\n",
       "      <td>Hidráulica</td>\n",
       "      <td>...</td>\n",
       "      <td>True</td>\n",
       "      <td>True</td>\n",
       "      <td>True</td>\n",
       "      <td>NaN</td>\n",
       "      <td>NaN</td>\n",
       "      <td>NaN</td>\n",
       "      <td>R$ 49.900</td>\n",
       "      <td>SAVEIRO</td>\n",
       "      <td>3290</td>\n",
       "      <td>1151500</td>\n",
       "    </tr>\n",
       "    <tr>\n",
       "      <th>4</th>\n",
       "      <td>TOYOTA</td>\n",
       "      <td>TOYOTA ETIOS</td>\n",
       "      <td>Sedã</td>\n",
       "      <td>2015</td>\n",
       "      <td>PA</td>\n",
       "      <td>1000</td>\n",
       "      <td>1.5</td>\n",
       "      <td>Flex</td>\n",
       "      <td>Manual</td>\n",
       "      <td>Hidráulica</td>\n",
       "      <td>...</td>\n",
       "      <td>True</td>\n",
       "      <td>True</td>\n",
       "      <td>True</td>\n",
       "      <td>True</td>\n",
       "      <td>NaN</td>\n",
       "      <td>NaN</td>\n",
       "      <td>R$ 47.900</td>\n",
       "      <td>ETIOS</td>\n",
       "      <td>2925</td>\n",
       "      <td>1023750</td>\n",
       "    </tr>\n",
       "  </tbody>\n",
       "</table>\n",
       "<p>5 rows × 28 columns</p>\n",
       "</div>"
      ],
      "text/plain": [
       "             Marca                                          Descricao  \\\n",
       "0       MITSUBISHI  MITSUBISHI L200 TRITON SPORT HPE 2.4 CD DIESEL...   \n",
       "1       ALFA ROMEO            ALFA ROMEO 156 TS/SPORT/ELEGANT 2.0 16V   \n",
       "2             JEEP      JEEP COMPASS LONGITUDE 2.0 4X4 DIES. 16V AUT.   \n",
       "3  VW - VOLKSWAGEN  VW - VOLKSWAGEN SAVEIRO 1.6 MI/ 1.6 MI TOTAL F...   \n",
       "4           TOYOTA                                       TOYOTA ETIOS   \n",
       "\n",
       "      Tipo   Ano  UF  Quilometragem Potência do motor Combustível      Câmbio  \\\n",
       "0  Pick-up  2023  RJ              0         2.0 - 2.9      Diesel  Automático   \n",
       "1      NaN  2012  AM              1               NaN         NaN         NaN   \n",
       "2      SUV  2017  DF              0               NaN      Diesel  Automático   \n",
       "3  Pick-up  2014  RS              1               1.6        Flex      Manual   \n",
       "4     Sedã  2015  PA           1000               1.5        Flex      Manual   \n",
       "\n",
       "      Direção  ... Trava elétrica  Vidro elétrico   Som Sensor de ré  \\\n",
       "0  Hidráulica  ...            NaN             NaN   NaN          NaN   \n",
       "1         NaN  ...            NaN             NaN   NaN          NaN   \n",
       "2         NaN  ...            NaN            True  True         True   \n",
       "3  Hidráulica  ...           True            True  True          NaN   \n",
       "4  Hidráulica  ...           True            True  True         True   \n",
       "\n",
       "  Câmera de ré Blindado       Preço   Modelo  Dias KmLimite  \n",
       "0          NaN      NaN        R$ 0     L200     3     1050  \n",
       "1          NaN      NaN   R$ 50.000      156  4021  1407350  \n",
       "2         True      NaN  R$ 139.800  COMPASS  2194   767900  \n",
       "3          NaN      NaN   R$ 49.900  SAVEIRO  3290  1151500  \n",
       "4          NaN      NaN   R$ 47.900    ETIOS  2925  1023750  \n",
       "\n",
       "[5 rows x 28 columns]"
      ]
     },
     "execution_count": 29,
     "metadata": {},
     "output_type": "execute_result"
    }
   ],
   "source": [
    "max_km_dia = 350\n",
    "\n",
    "df['KmLimite'] = df['Dias']*max_km_dia\n",
    "\n",
    "df.head()"
   ]
  },
  {
   "cell_type": "code",
   "execution_count": 30,
   "id": "dfe9bcaf",
   "metadata": {},
   "outputs": [
    {
     "data": {
      "text/plain": [
       "22"
      ]
     },
     "execution_count": 30,
     "metadata": {},
     "output_type": "execute_result"
    }
   ],
   "source": [
    "len(df.loc[df['Quilometragem']>df['KmLimite']])"
   ]
  },
  {
   "cell_type": "markdown",
   "id": "5d3724b5",
   "metadata": {},
   "source": [
    "O dataset contêm, portanto, 22 observações em que a quilometragem observada é maior do que a limite definida. Abaixo podemos visualizar o dataset sem a presença desses dados:"
   ]
  },
  {
   "cell_type": "code",
   "execution_count": 31,
   "id": "74b250a4",
   "metadata": {},
   "outputs": [
    {
     "data": {
      "text/plain": [
       "count       5309.000000\n",
       "mean       69467.433792\n",
       "std        61467.340835\n",
       "min            0.000000\n",
       "25%        29724.000000\n",
       "50%        59400.000000\n",
       "75%        99856.000000\n",
       "max      1000000.000000\n",
       "Name: Quilometragem, dtype: float64"
      ]
     },
     "execution_count": 31,
     "metadata": {},
     "output_type": "execute_result"
    }
   ],
   "source": [
    "df.loc[df['Quilometragem']<=df['KmLimite']]['Quilometragem'].describe()"
   ]
  },
  {
   "cell_type": "code",
   "execution_count": 32,
   "id": "9c80f277",
   "metadata": {},
   "outputs": [
    {
     "data": {
      "image/png": "[encoded data removed]",
      "text/plain": [
       "<Figure size 1080x360 with 2 Axes>"
      ]
     },
     "metadata": {
      "needs_background": "light"
     },
     "output_type": "display_data"
    }
   ],
   "source": [
    "fig, axes = plt.subplot_mosaic([['left', 'right']], figsize=(15,5))\n",
    "\n",
    "sns.boxplot(y=df.loc[df['Quilometragem']<=df['KmLimite']]['Quilometragem'], ax=axes['left']);\n",
    "sns.kdeplot(x=df.loc[df['Quilometragem']<=df['KmLimite']]['Quilometragem'], ax=axes['right']);"
   ]
  },
  {
   "cell_type": "markdown",
   "id": "6257cd83",
   "metadata": {},
   "source": [
    "Abaixo, é possível visualizar o boxplot sem outliers."
   ]
  },
  {
   "cell_type": "code",
   "execution_count": 33,
   "id": "716c66f5",
   "metadata": {},
   "outputs": [
    {
     "data": {
      "image/png": "[encoded data removed]",
      "text/plain": [
       "<Figure size 360x360 with 1 Axes>"
      ]
     },
     "metadata": {
      "needs_background": "light"
     },
     "output_type": "display_data"
    }
   ],
   "source": [
    "plt.figure(figsize=(5,5))\n",
    "sns.boxplot(y=df['Quilometragem'], showfliers=False);"
   ]
  },
  {
   "cell_type": "markdown",
   "id": "333bc025",
   "metadata": {},
   "source": [
    "**D**: O valor de quilometragem máxima de 1.000.000 é adequado? Podemos selecionar um valor ainda menor? Pelo método de Tukey temos que o valor máximo de quilometragem é igual a 205.274"
   ]
  },
  {
   "cell_type": "code",
   "execution_count": 34,
   "id": "91ec5e38",
   "metadata": {},
   "outputs": [
    {
     "data": {
      "text/plain": [
       "205274.5"
      ]
     },
     "execution_count": 34,
     "metadata": {},
     "output_type": "execute_result"
    }
   ],
   "source": [
    "IQR = df['Quilometragem'].quantile(.75)-df['Quilometragem'].quantile(.25)\n",
    "Max_Km = 1.5*IQR + df['Quilometragem'].quantile(.75)\n",
    "\n",
    "Max_Km"
   ]
  },
  {
   "cell_type": "code",
   "execution_count": 35,
   "id": "7531c5b7",
   "metadata": {},
   "outputs": [
    {
     "data": {
      "text/plain": [
       "113"
      ]
     },
     "execution_count": 35,
     "metadata": {},
     "output_type": "execute_result"
    }
   ],
   "source": [
    "len(df.loc[df['Quilometragem']>=205361])"
   ]
  },
  {
   "cell_type": "markdown",
   "id": "6679b21f",
   "metadata": {},
   "source": [
    "Para o nosso dataset, teríamos 113 observações de quilometragem classificadas como outliers."
   ]
  },
  {
   "cell_type": "markdown",
   "id": "75bb827b",
   "metadata": {},
   "source": [
    "Por fim, a feature será renomeada para facilitar sua manipulação pela biblioteca Pandas."
   ]
  },
  {
   "cell_type": "code",
   "execution_count": 36,
   "id": "0a88c018",
   "metadata": {},
   "outputs": [
    {
     "data": {
      "text/html": [
       "<div>\n",
       "<style scoped>\n",
       "    .dataframe tbody tr th:only-of-type {\n",
       "        vertical-align: middle;\n",
       "    }\n",
       "\n",
       "    .dataframe tbody tr th {\n",
       "        vertical-align: top;\n",
       "    }\n",
       "\n",
       "    .dataframe thead th {\n",
       "        text-align: right;\n",
       "    }\n",
       "</style>\n",
       "<table border=\"1\" class=\"dataframe\">\n",
       "  <thead>\n",
       "    <tr style=\"text-align: right;\">\n",
       "      <th></th>\n",
       "      <th>Marca</th>\n",
       "      <th>Descricao</th>\n",
       "      <th>Tipo</th>\n",
       "      <th>Ano</th>\n",
       "      <th>UF</th>\n",
       "      <th>Km</th>\n",
       "      <th>Potência do motor</th>\n",
       "      <th>Combustível</th>\n",
       "      <th>Câmbio</th>\n",
       "      <th>Direção</th>\n",
       "      <th>...</th>\n",
       "      <th>Trava elétrica</th>\n",
       "      <th>Vidro elétrico</th>\n",
       "      <th>Som</th>\n",
       "      <th>Sensor de ré</th>\n",
       "      <th>Câmera de ré</th>\n",
       "      <th>Blindado</th>\n",
       "      <th>Preço</th>\n",
       "      <th>Modelo</th>\n",
       "      <th>Dias</th>\n",
       "      <th>KmLimite</th>\n",
       "    </tr>\n",
       "  </thead>\n",
       "  <tbody>\n",
       "    <tr>\n",
       "      <th>0</th>\n",
       "      <td>MITSUBISHI</td>\n",
       "      <td>MITSUBISHI L200 TRITON SPORT HPE 2.4 CD DIESEL...</td>\n",
       "      <td>Pick-up</td>\n",
       "      <td>2023</td>\n",
       "      <td>RJ</td>\n",
       "      <td>0</td>\n",
       "      <td>2.0 - 2.9</td>\n",
       "      <td>Diesel</td>\n",
       "      <td>Automático</td>\n",
       "      <td>Hidráulica</td>\n",
       "      <td>...</td>\n",
       "      <td>NaN</td>\n",
       "      <td>NaN</td>\n",
       "      <td>NaN</td>\n",
       "      <td>NaN</td>\n",
       "      <td>NaN</td>\n",
       "      <td>NaN</td>\n",
       "      <td>R$ 0</td>\n",
       "      <td>L200</td>\n",
       "      <td>3</td>\n",
       "      <td>1050</td>\n",
       "    </tr>\n",
       "    <tr>\n",
       "      <th>1</th>\n",
       "      <td>ALFA ROMEO</td>\n",
       "      <td>ALFA ROMEO 156 TS/SPORT/ELEGANT 2.0 16V</td>\n",
       "      <td>NaN</td>\n",
       "      <td>2012</td>\n",
       "      <td>AM</td>\n",
       "      <td>1</td>\n",
       "      <td>NaN</td>\n",
       "      <td>NaN</td>\n",
       "      <td>NaN</td>\n",
       "      <td>NaN</td>\n",
       "      <td>...</td>\n",
       "      <td>NaN</td>\n",
       "      <td>NaN</td>\n",
       "      <td>NaN</td>\n",
       "      <td>NaN</td>\n",
       "      <td>NaN</td>\n",
       "      <td>NaN</td>\n",
       "      <td>R$ 50.000</td>\n",
       "      <td>156</td>\n",
       "      <td>4021</td>\n",
       "      <td>1407350</td>\n",
       "    </tr>\n",
       "    <tr>\n",
       "      <th>2</th>\n",
       "      <td>JEEP</td>\n",
       "      <td>JEEP COMPASS LONGITUDE 2.0 4X4 DIES. 16V AUT.</td>\n",
       "      <td>SUV</td>\n",
       "      <td>2017</td>\n",
       "      <td>DF</td>\n",
       "      <td>0</td>\n",
       "      <td>NaN</td>\n",
       "      <td>Diesel</td>\n",
       "      <td>Automático</td>\n",
       "      <td>NaN</td>\n",
       "      <td>...</td>\n",
       "      <td>NaN</td>\n",
       "      <td>True</td>\n",
       "      <td>True</td>\n",
       "      <td>True</td>\n",
       "      <td>True</td>\n",
       "      <td>NaN</td>\n",
       "      <td>R$ 139.800</td>\n",
       "      <td>COMPASS</td>\n",
       "      <td>2194</td>\n",
       "      <td>767900</td>\n",
       "    </tr>\n",
       "    <tr>\n",
       "      <th>3</th>\n",
       "      <td>VW - VOLKSWAGEN</td>\n",
       "      <td>VW - VOLKSWAGEN SAVEIRO 1.6 MI/ 1.6 MI TOTAL F...</td>\n",
       "      <td>Pick-up</td>\n",
       "      <td>2014</td>\n",
       "      <td>RS</td>\n",
       "      <td>1</td>\n",
       "      <td>1.6</td>\n",
       "      <td>Flex</td>\n",
       "      <td>Manual</td>\n",
       "      <td>Hidráulica</td>\n",
       "      <td>...</td>\n",
       "      <td>True</td>\n",
       "      <td>True</td>\n",
       "      <td>True</td>\n",
       "      <td>NaN</td>\n",
       "      <td>NaN</td>\n",
       "      <td>NaN</td>\n",
       "      <td>R$ 49.900</td>\n",
       "      <td>SAVEIRO</td>\n",
       "      <td>3290</td>\n",
       "      <td>1151500</td>\n",
       "    </tr>\n",
       "    <tr>\n",
       "      <th>4</th>\n",
       "      <td>TOYOTA</td>\n",
       "      <td>TOYOTA ETIOS</td>\n",
       "      <td>Sedã</td>\n",
       "      <td>2015</td>\n",
       "      <td>PA</td>\n",
       "      <td>1000</td>\n",
       "      <td>1.5</td>\n",
       "      <td>Flex</td>\n",
       "      <td>Manual</td>\n",
       "      <td>Hidráulica</td>\n",
       "      <td>...</td>\n",
       "      <td>True</td>\n",
       "      <td>True</td>\n",
       "      <td>True</td>\n",
       "      <td>True</td>\n",
       "      <td>NaN</td>\n",
       "      <td>NaN</td>\n",
       "      <td>R$ 47.900</td>\n",
       "      <td>ETIOS</td>\n",
       "      <td>2925</td>\n",
       "      <td>1023750</td>\n",
       "    </tr>\n",
       "  </tbody>\n",
       "</table>\n",
       "<p>5 rows × 28 columns</p>\n",
       "</div>"
      ],
      "text/plain": [
       "             Marca                                          Descricao  \\\n",
       "0       MITSUBISHI  MITSUBISHI L200 TRITON SPORT HPE 2.4 CD DIESEL...   \n",
       "1       ALFA ROMEO            ALFA ROMEO 156 TS/SPORT/ELEGANT 2.0 16V   \n",
       "2             JEEP      JEEP COMPASS LONGITUDE 2.0 4X4 DIES. 16V AUT.   \n",
       "3  VW - VOLKSWAGEN  VW - VOLKSWAGEN SAVEIRO 1.6 MI/ 1.6 MI TOTAL F...   \n",
       "4           TOYOTA                                       TOYOTA ETIOS   \n",
       "\n",
       "      Tipo   Ano  UF    Km Potência do motor Combustível      Câmbio  \\\n",
       "0  Pick-up  2023  RJ     0         2.0 - 2.9      Diesel  Automático   \n",
       "1      NaN  2012  AM     1               NaN         NaN         NaN   \n",
       "2      SUV  2017  DF     0               NaN      Diesel  Automático   \n",
       "3  Pick-up  2014  RS     1               1.6        Flex      Manual   \n",
       "4     Sedã  2015  PA  1000               1.5        Flex      Manual   \n",
       "\n",
       "      Direção  ... Trava elétrica  Vidro elétrico   Som Sensor de ré  \\\n",
       "0  Hidráulica  ...            NaN             NaN   NaN          NaN   \n",
       "1         NaN  ...            NaN             NaN   NaN          NaN   \n",
       "2         NaN  ...            NaN            True  True         True   \n",
       "3  Hidráulica  ...           True            True  True          NaN   \n",
       "4  Hidráulica  ...           True            True  True         True   \n",
       "\n",
       "  Câmera de ré Blindado       Preço   Modelo  Dias KmLimite  \n",
       "0          NaN      NaN        R$ 0     L200     3     1050  \n",
       "1          NaN      NaN   R$ 50.000      156  4021  1407350  \n",
       "2         True      NaN  R$ 139.800  COMPASS  2194   767900  \n",
       "3          NaN      NaN   R$ 49.900  SAVEIRO  3290  1151500  \n",
       "4          NaN      NaN   R$ 47.900    ETIOS  2925  1023750  \n",
       "\n",
       "[5 rows x 28 columns]"
      ]
     },
     "execution_count": 36,
     "metadata": {},
     "output_type": "execute_result"
    }
   ],
   "source": [
    "df.rename({'Quilometragem':'Km'}, axis=1, inplace=True)\n",
    "\n",
    "df.head()"
   ]
  },
  {
   "cell_type": "markdown",
   "id": "c6856c9d",
   "metadata": {},
   "source": [
    "## Potência do motor"
   ]
  },
  {
   "cell_type": "code",
   "execution_count": 37,
   "id": "fc9b6599",
   "metadata": {},
   "outputs": [
    {
     "data": {
      "text/plain": [
       "count     4071\n",
       "unique      12\n",
       "top        1.0\n",
       "freq      1039\n",
       "Name: Potência do motor, dtype: object"
      ]
     },
     "execution_count": 37,
     "metadata": {},
     "output_type": "execute_result"
    }
   ],
   "source": [
    "df['Potência do motor'].describe()"
   ]
  },
  {
   "cell_type": "code",
   "execution_count": 38,
   "id": "fb11fe2c",
   "metadata": {},
   "outputs": [
    {
     "data": {
      "text/plain": [
       "array(['2.0 - 2.9', nan, '1.6', '1.5', '1.0', '1.8', '3.0 - 3.9', '1.3',\n",
       "       '1.4', '1.2', '1.9', '4.0 ou mais', '1.7'], dtype=object)"
      ]
     },
     "execution_count": 38,
     "metadata": {},
     "output_type": "execute_result"
    }
   ],
   "source": [
    "df['Potência do motor'].unique()"
   ]
  },
  {
   "cell_type": "code",
   "execution_count": 39,
   "id": "519e6e45",
   "metadata": {},
   "outputs": [
    {
     "data": {
      "text/plain": [
       "1.0            1039\n",
       "2.0 - 2.9       957\n",
       "1.6             776\n",
       "1.8             402\n",
       "1.4             387\n",
       "1.5             212\n",
       "3.0 - 3.9       159\n",
       "1.3              93\n",
       "1.2              20\n",
       "4.0 ou mais      18\n",
       "1.9               4\n",
       "1.7               4\n",
       "Name: Potência do motor, dtype: int64"
      ]
     },
     "execution_count": 39,
     "metadata": {},
     "output_type": "execute_result"
    }
   ],
   "source": [
    "df['Potência do motor'].value_counts()"
   ]
  },
  {
   "cell_type": "code",
   "execution_count": 40,
   "id": "b17f47c7",
   "metadata": {},
   "outputs": [
    {
     "data": {
      "image/png": "[encoded data removed]",
      "text/plain": [
       "<Figure size 720x360 with 1 Axes>"
      ]
     },
     "metadata": {
      "needs_background": "light"
     },
     "output_type": "display_data"
    }
   ],
   "source": [
    "plt.figure(figsize=(10,5))\n",
    "ax = sns.barplot(x=df['Potência do motor'].value_counts()[:5].index, y=df['Potência do motor'].value_counts()[:5])\n",
    "\n",
    "for i in ax.containers:\n",
    "    ax.bar_label(i,)"
   ]
  },
  {
   "cell_type": "markdown",
   "id": "cdab955a",
   "metadata": {},
   "source": [
    "**D:** O que fazer com o grande volume de valores faltantes?\n",
    "\n",
    "**D:** Seria possível agrupar em outras categorias (Exemplo: 1.0, 1.1 - 1.5, 1.6 - 1.9, 2.0+)?"
   ]
  },
  {
   "cell_type": "markdown",
   "id": "3b038787",
   "metadata": {},
   "source": [
    "Por fim, a feature será renomeada para facilitar sua manipulação pela biblioteca Pandas."
   ]
  },
  {
   "cell_type": "code",
   "execution_count": 41,
   "id": "1c20c4ef",
   "metadata": {},
   "outputs": [
    {
     "data": {
      "text/html": [
       "<div>\n",
       "<style scoped>\n",
       "    .dataframe tbody tr th:only-of-type {\n",
       "        vertical-align: middle;\n",
       "    }\n",
       "\n",
       "    .dataframe tbody tr th {\n",
       "        vertical-align: top;\n",
       "    }\n",
       "\n",
       "    .dataframe thead th {\n",
       "        text-align: right;\n",
       "    }\n",
       "</style>\n",
       "<table border=\"1\" class=\"dataframe\">\n",
       "  <thead>\n",
       "    <tr style=\"text-align: right;\">\n",
       "      <th></th>\n",
       "      <th>Marca</th>\n",
       "      <th>Descricao</th>\n",
       "      <th>Tipo</th>\n",
       "      <th>Ano</th>\n",
       "      <th>UF</th>\n",
       "      <th>Km</th>\n",
       "      <th>Potencia</th>\n",
       "      <th>Combustível</th>\n",
       "      <th>Câmbio</th>\n",
       "      <th>Direção</th>\n",
       "      <th>...</th>\n",
       "      <th>Trava elétrica</th>\n",
       "      <th>Vidro elétrico</th>\n",
       "      <th>Som</th>\n",
       "      <th>Sensor de ré</th>\n",
       "      <th>Câmera de ré</th>\n",
       "      <th>Blindado</th>\n",
       "      <th>Preço</th>\n",
       "      <th>Modelo</th>\n",
       "      <th>Dias</th>\n",
       "      <th>KmLimite</th>\n",
       "    </tr>\n",
       "  </thead>\n",
       "  <tbody>\n",
       "    <tr>\n",
       "      <th>0</th>\n",
       "      <td>MITSUBISHI</td>\n",
       "      <td>MITSUBISHI L200 TRITON SPORT HPE 2.4 CD DIESEL...</td>\n",
       "      <td>Pick-up</td>\n",
       "      <td>2023</td>\n",
       "      <td>RJ</td>\n",
       "      <td>0</td>\n",
       "      <td>2.0 - 2.9</td>\n",
       "      <td>Diesel</td>\n",
       "      <td>Automático</td>\n",
       "      <td>Hidráulica</td>\n",
       "      <td>...</td>\n",
       "      <td>NaN</td>\n",
       "      <td>NaN</td>\n",
       "      <td>NaN</td>\n",
       "      <td>NaN</td>\n",
       "      <td>NaN</td>\n",
       "      <td>NaN</td>\n",
       "      <td>R$ 0</td>\n",
       "      <td>L200</td>\n",
       "      <td>3</td>\n",
       "      <td>1050</td>\n",
       "    </tr>\n",
       "    <tr>\n",
       "      <th>1</th>\n",
       "      <td>ALFA ROMEO</td>\n",
       "      <td>ALFA ROMEO 156 TS/SPORT/ELEGANT 2.0 16V</td>\n",
       "      <td>NaN</td>\n",
       "      <td>2012</td>\n",
       "      <td>AM</td>\n",
       "      <td>1</td>\n",
       "      <td>NaN</td>\n",
       "      <td>NaN</td>\n",
       "      <td>NaN</td>\n",
       "      <td>NaN</td>\n",
       "      <td>...</td>\n",
       "      <td>NaN</td>\n",
       "      <td>NaN</td>\n",
       "      <td>NaN</td>\n",
       "      <td>NaN</td>\n",
       "      <td>NaN</td>\n",
       "      <td>NaN</td>\n",
       "      <td>R$ 50.000</td>\n",
       "      <td>156</td>\n",
       "      <td>4021</td>\n",
       "      <td>1407350</td>\n",
       "    </tr>\n",
       "    <tr>\n",
       "      <th>2</th>\n",
       "      <td>JEEP</td>\n",
       "      <td>JEEP COMPASS LONGITUDE 2.0 4X4 DIES. 16V AUT.</td>\n",
       "      <td>SUV</td>\n",
       "      <td>2017</td>\n",
       "      <td>DF</td>\n",
       "      <td>0</td>\n",
       "      <td>NaN</td>\n",
       "      <td>Diesel</td>\n",
       "      <td>Automático</td>\n",
       "      <td>NaN</td>\n",
       "      <td>...</td>\n",
       "      <td>NaN</td>\n",
       "      <td>True</td>\n",
       "      <td>True</td>\n",
       "      <td>True</td>\n",
       "      <td>True</td>\n",
       "      <td>NaN</td>\n",
       "      <td>R$ 139.800</td>\n",
       "      <td>COMPASS</td>\n",
       "      <td>2194</td>\n",
       "      <td>767900</td>\n",
       "    </tr>\n",
       "    <tr>\n",
       "      <th>3</th>\n",
       "      <td>VW - VOLKSWAGEN</td>\n",
       "      <td>VW - VOLKSWAGEN SAVEIRO 1.6 MI/ 1.6 MI TOTAL F...</td>\n",
       "      <td>Pick-up</td>\n",
       "      <td>2014</td>\n",
       "      <td>RS</td>\n",
       "      <td>1</td>\n",
       "      <td>1.6</td>\n",
       "      <td>Flex</td>\n",
       "      <td>Manual</td>\n",
       "      <td>Hidráulica</td>\n",
       "      <td>...</td>\n",
       "      <td>True</td>\n",
       "      <td>True</td>\n",
       "      <td>True</td>\n",
       "      <td>NaN</td>\n",
       "      <td>NaN</td>\n",
       "      <td>NaN</td>\n",
       "      <td>R$ 49.900</td>\n",
       "      <td>SAVEIRO</td>\n",
       "      <td>3290</td>\n",
       "      <td>1151500</td>\n",
       "    </tr>\n",
       "    <tr>\n",
       "      <th>4</th>\n",
       "      <td>TOYOTA</td>\n",
       "      <td>TOYOTA ETIOS</td>\n",
       "      <td>Sedã</td>\n",
       "      <td>2015</td>\n",
       "      <td>PA</td>\n",
       "      <td>1000</td>\n",
       "      <td>1.5</td>\n",
       "      <td>Flex</td>\n",
       "      <td>Manual</td>\n",
       "      <td>Hidráulica</td>\n",
       "      <td>...</td>\n",
       "      <td>True</td>\n",
       "      <td>True</td>\n",
       "      <td>True</td>\n",
       "      <td>True</td>\n",
       "      <td>NaN</td>\n",
       "      <td>NaN</td>\n",
       "      <td>R$ 47.900</td>\n",
       "      <td>ETIOS</td>\n",
       "      <td>2925</td>\n",
       "      <td>1023750</td>\n",
       "    </tr>\n",
       "  </tbody>\n",
       "</table>\n",
       "<p>5 rows × 28 columns</p>\n",
       "</div>"
      ],
      "text/plain": [
       "             Marca                                          Descricao  \\\n",
       "0       MITSUBISHI  MITSUBISHI L200 TRITON SPORT HPE 2.4 CD DIESEL...   \n",
       "1       ALFA ROMEO            ALFA ROMEO 156 TS/SPORT/ELEGANT 2.0 16V   \n",
       "2             JEEP      JEEP COMPASS LONGITUDE 2.0 4X4 DIES. 16V AUT.   \n",
       "3  VW - VOLKSWAGEN  VW - VOLKSWAGEN SAVEIRO 1.6 MI/ 1.6 MI TOTAL F...   \n",
       "4           TOYOTA                                       TOYOTA ETIOS   \n",
       "\n",
       "      Tipo   Ano  UF    Km   Potencia Combustível      Câmbio     Direção  \\\n",
       "0  Pick-up  2023  RJ     0  2.0 - 2.9      Diesel  Automático  Hidráulica   \n",
       "1      NaN  2012  AM     1        NaN         NaN         NaN         NaN   \n",
       "2      SUV  2017  DF     0        NaN      Diesel  Automático         NaN   \n",
       "3  Pick-up  2014  RS     1        1.6        Flex      Manual  Hidráulica   \n",
       "4     Sedã  2015  PA  1000        1.5        Flex      Manual  Hidráulica   \n",
       "\n",
       "   ... Trava elétrica  Vidro elétrico   Som Sensor de ré Câmera de ré  \\\n",
       "0  ...            NaN             NaN   NaN          NaN          NaN   \n",
       "1  ...            NaN             NaN   NaN          NaN          NaN   \n",
       "2  ...            NaN            True  True         True         True   \n",
       "3  ...           True            True  True          NaN          NaN   \n",
       "4  ...           True            True  True         True          NaN   \n",
       "\n",
       "  Blindado       Preço   Modelo  Dias KmLimite  \n",
       "0      NaN        R$ 0     L200     3     1050  \n",
       "1      NaN   R$ 50.000      156  4021  1407350  \n",
       "2      NaN  R$ 139.800  COMPASS  2194   767900  \n",
       "3      NaN   R$ 49.900  SAVEIRO  3290  1151500  \n",
       "4      NaN   R$ 47.900    ETIOS  2925  1023750  \n",
       "\n",
       "[5 rows x 28 columns]"
      ]
     },
     "execution_count": 41,
     "metadata": {},
     "output_type": "execute_result"
    }
   ],
   "source": [
    "df.rename({'Potência do motor':'Potencia'}, axis=1, inplace=True)\n",
    "\n",
    "df.head()"
   ]
  },
  {
   "cell_type": "markdown",
   "id": "784b2b66",
   "metadata": {},
   "source": [
    "## Combustível"
   ]
  },
  {
   "cell_type": "code",
   "execution_count": 42,
   "id": "128a6b0b",
   "metadata": {},
   "outputs": [
    {
     "data": {
      "text/plain": [
       "count     5274\n",
       "unique       7\n",
       "top       Flex\n",
       "freq      4091\n",
       "Name: Combustível, dtype: object"
      ]
     },
     "execution_count": 42,
     "metadata": {},
     "output_type": "execute_result"
    }
   ],
   "source": [
    "df['Combustível'].describe()"
   ]
  },
  {
   "cell_type": "code",
   "execution_count": 43,
   "id": "57ce6c8a",
   "metadata": {},
   "outputs": [
    {
     "data": {
      "text/plain": [
       "array(['Diesel', nan, 'Flex', 'Gasolina', 'Elétrico', 'Álcool',\n",
       "       'Gás Natural', 'Híbrido'], dtype=object)"
      ]
     },
     "execution_count": 43,
     "metadata": {},
     "output_type": "execute_result"
    }
   ],
   "source": [
    "df['Combustível'].unique()"
   ]
  },
  {
   "cell_type": "code",
   "execution_count": 44,
   "id": "c24f5202",
   "metadata": {},
   "outputs": [
    {
     "data": {
      "image/png": "[encoded data removed]",
      "text/plain": [
       "<Figure size 720x360 with 1 Axes>"
      ]
     },
     "metadata": {
      "needs_background": "light"
     },
     "output_type": "display_data"
    }
   ],
   "source": [
    "plt.figure(figsize=(10,5))\n",
    "ax = sns.barplot(x=df['Combustível'].value_counts().index, y=df['Combustível'].value_counts())\n",
    "\n",
    "for i in ax.containers:\n",
    "    ax.bar_label(i,)"
   ]
  },
  {
   "cell_type": "markdown",
   "id": "a2b1266a",
   "metadata": {},
   "source": [
    "Temos 71 valores faltantes, que poderiam ser substituídos pela categoria amplamente mais presente nessa feature: Flex."
   ]
  },
  {
   "cell_type": "markdown",
   "id": "4bdef0fa",
   "metadata": {},
   "source": [
    "Por fim, a feature será renomeada para facilitar sua manipulação pela biblioteca Pandas."
   ]
  },
  {
   "cell_type": "code",
   "execution_count": 45,
   "id": "a4317fce",
   "metadata": {},
   "outputs": [
    {
     "data": {
      "text/html": [
       "<div>\n",
       "<style scoped>\n",
       "    .dataframe tbody tr th:only-of-type {\n",
       "        vertical-align: middle;\n",
       "    }\n",
       "\n",
       "    .dataframe tbody tr th {\n",
       "        vertical-align: top;\n",
       "    }\n",
       "\n",
       "    .dataframe thead th {\n",
       "        text-align: right;\n",
       "    }\n",
       "</style>\n",
       "<table border=\"1\" class=\"dataframe\">\n",
       "  <thead>\n",
       "    <tr style=\"text-align: right;\">\n",
       "      <th></th>\n",
       "      <th>Marca</th>\n",
       "      <th>Descricao</th>\n",
       "      <th>Tipo</th>\n",
       "      <th>Ano</th>\n",
       "      <th>UF</th>\n",
       "      <th>Km</th>\n",
       "      <th>Potencia</th>\n",
       "      <th>Combustivel</th>\n",
       "      <th>Câmbio</th>\n",
       "      <th>Direção</th>\n",
       "      <th>...</th>\n",
       "      <th>Trava elétrica</th>\n",
       "      <th>Vidro elétrico</th>\n",
       "      <th>Som</th>\n",
       "      <th>Sensor de ré</th>\n",
       "      <th>Câmera de ré</th>\n",
       "      <th>Blindado</th>\n",
       "      <th>Preço</th>\n",
       "      <th>Modelo</th>\n",
       "      <th>Dias</th>\n",
       "      <th>KmLimite</th>\n",
       "    </tr>\n",
       "  </thead>\n",
       "  <tbody>\n",
       "    <tr>\n",
       "      <th>0</th>\n",
       "      <td>MITSUBISHI</td>\n",
       "      <td>MITSUBISHI L200 TRITON SPORT HPE 2.4 CD DIESEL...</td>\n",
       "      <td>Pick-up</td>\n",
       "      <td>2023</td>\n",
       "      <td>RJ</td>\n",
       "      <td>0</td>\n",
       "      <td>2.0 - 2.9</td>\n",
       "      <td>Diesel</td>\n",
       "      <td>Automático</td>\n",
       "      <td>Hidráulica</td>\n",
       "      <td>...</td>\n",
       "      <td>NaN</td>\n",
       "      <td>NaN</td>\n",
       "      <td>NaN</td>\n",
       "      <td>NaN</td>\n",
       "      <td>NaN</td>\n",
       "      <td>NaN</td>\n",
       "      <td>R$ 0</td>\n",
       "      <td>L200</td>\n",
       "      <td>3</td>\n",
       "      <td>1050</td>\n",
       "    </tr>\n",
       "    <tr>\n",
       "      <th>1</th>\n",
       "      <td>ALFA ROMEO</td>\n",
       "      <td>ALFA ROMEO 156 TS/SPORT/ELEGANT 2.0 16V</td>\n",
       "      <td>NaN</td>\n",
       "      <td>2012</td>\n",
       "      <td>AM</td>\n",
       "      <td>1</td>\n",
       "      <td>NaN</td>\n",
       "      <td>NaN</td>\n",
       "      <td>NaN</td>\n",
       "      <td>NaN</td>\n",
       "      <td>...</td>\n",
       "      <td>NaN</td>\n",
       "      <td>NaN</td>\n",
       "      <td>NaN</td>\n",
       "      <td>NaN</td>\n",
       "      <td>NaN</td>\n",
       "      <td>NaN</td>\n",
       "      <td>R$ 50.000</td>\n",
       "      <td>156</td>\n",
       "      <td>4021</td>\n",
       "      <td>1407350</td>\n",
       "    </tr>\n",
       "    <tr>\n",
       "      <th>2</th>\n",
       "      <td>JEEP</td>\n",
       "      <td>JEEP COMPASS LONGITUDE 2.0 4X4 DIES. 16V AUT.</td>\n",
       "      <td>SUV</td>\n",
       "      <td>2017</td>\n",
       "      <td>DF</td>\n",
       "      <td>0</td>\n",
       "      <td>NaN</td>\n",
       "      <td>Diesel</td>\n",
       "      <td>Automático</td>\n",
       "      <td>NaN</td>\n",
       "      <td>...</td>\n",
       "      <td>NaN</td>\n",
       "      <td>True</td>\n",
       "      <td>True</td>\n",
       "      <td>True</td>\n",
       "      <td>True</td>\n",
       "      <td>NaN</td>\n",
       "      <td>R$ 139.800</td>\n",
       "      <td>COMPASS</td>\n",
       "      <td>2194</td>\n",
       "      <td>767900</td>\n",
       "    </tr>\n",
       "    <tr>\n",
       "      <th>3</th>\n",
       "      <td>VW - VOLKSWAGEN</td>\n",
       "      <td>VW - VOLKSWAGEN SAVEIRO 1.6 MI/ 1.6 MI TOTAL F...</td>\n",
       "      <td>Pick-up</td>\n",
       "      <td>2014</td>\n",
       "      <td>RS</td>\n",
       "      <td>1</td>\n",
       "      <td>1.6</td>\n",
       "      <td>Flex</td>\n",
       "      <td>Manual</td>\n",
       "      <td>Hidráulica</td>\n",
       "      <td>...</td>\n",
       "      <td>True</td>\n",
       "      <td>True</td>\n",
       "      <td>True</td>\n",
       "      <td>NaN</td>\n",
       "      <td>NaN</td>\n",
       "      <td>NaN</td>\n",
       "      <td>R$ 49.900</td>\n",
       "      <td>SAVEIRO</td>\n",
       "      <td>3290</td>\n",
       "      <td>1151500</td>\n",
       "    </tr>\n",
       "    <tr>\n",
       "      <th>4</th>\n",
       "      <td>TOYOTA</td>\n",
       "      <td>TOYOTA ETIOS</td>\n",
       "      <td>Sedã</td>\n",
       "      <td>2015</td>\n",
       "      <td>PA</td>\n",
       "      <td>1000</td>\n",
       "      <td>1.5</td>\n",
       "      <td>Flex</td>\n",
       "      <td>Manual</td>\n",
       "      <td>Hidráulica</td>\n",
       "      <td>...</td>\n",
       "      <td>True</td>\n",
       "      <td>True</td>\n",
       "      <td>True</td>\n",
       "      <td>True</td>\n",
       "      <td>NaN</td>\n",
       "      <td>NaN</td>\n",
       "      <td>R$ 47.900</td>\n",
       "      <td>ETIOS</td>\n",
       "      <td>2925</td>\n",
       "      <td>1023750</td>\n",
       "    </tr>\n",
       "  </tbody>\n",
       "</table>\n",
       "<p>5 rows × 28 columns</p>\n",
       "</div>"
      ],
      "text/plain": [
       "             Marca                                          Descricao  \\\n",
       "0       MITSUBISHI  MITSUBISHI L200 TRITON SPORT HPE 2.4 CD DIESEL...   \n",
       "1       ALFA ROMEO            ALFA ROMEO 156 TS/SPORT/ELEGANT 2.0 16V   \n",
       "2             JEEP      JEEP COMPASS LONGITUDE 2.0 4X4 DIES. 16V AUT.   \n",
       "3  VW - VOLKSWAGEN  VW - VOLKSWAGEN SAVEIRO 1.6 MI/ 1.6 MI TOTAL F...   \n",
       "4           TOYOTA                                       TOYOTA ETIOS   \n",
       "\n",
       "      Tipo   Ano  UF    Km   Potencia Combustivel      Câmbio     Direção  \\\n",
       "0  Pick-up  2023  RJ     0  2.0 - 2.9      Diesel  Automático  Hidráulica   \n",
       "1      NaN  2012  AM     1        NaN         NaN         NaN         NaN   \n",
       "2      SUV  2017  DF     0        NaN      Diesel  Automático         NaN   \n",
       "3  Pick-up  2014  RS     1        1.6        Flex      Manual  Hidráulica   \n",
       "4     Sedã  2015  PA  1000        1.5        Flex      Manual  Hidráulica   \n",
       "\n",
       "   ... Trava elétrica  Vidro elétrico   Som Sensor de ré Câmera de ré  \\\n",
       "0  ...            NaN             NaN   NaN          NaN          NaN   \n",
       "1  ...            NaN             NaN   NaN          NaN          NaN   \n",
       "2  ...            NaN            True  True         True         True   \n",
       "3  ...           True            True  True          NaN          NaN   \n",
       "4  ...           True            True  True         True          NaN   \n",
       "\n",
       "  Blindado       Preço   Modelo  Dias KmLimite  \n",
       "0      NaN        R$ 0     L200     3     1050  \n",
       "1      NaN   R$ 50.000      156  4021  1407350  \n",
       "2      NaN  R$ 139.800  COMPASS  2194   767900  \n",
       "3      NaN   R$ 49.900  SAVEIRO  3290  1151500  \n",
       "4      NaN   R$ 47.900    ETIOS  2925  1023750  \n",
       "\n",
       "[5 rows x 28 columns]"
      ]
     },
     "execution_count": 45,
     "metadata": {},
     "output_type": "execute_result"
    }
   ],
   "source": [
    "df.rename({'Combustível':'Combustivel'}, axis=1, inplace=True)\n",
    "\n",
    "df.head()"
   ]
  },
  {
   "cell_type": "markdown",
   "id": "5bf1c15a",
   "metadata": {},
   "source": [
    "## Câmbio"
   ]
  },
  {
   "cell_type": "code",
   "execution_count": 46,
   "id": "ed066b5a",
   "metadata": {},
   "outputs": [
    {
     "data": {
      "text/plain": [
       "count           5296\n",
       "unique             3\n",
       "top       Automático\n",
       "freq            2832\n",
       "Name: Câmbio, dtype: object"
      ]
     },
     "execution_count": 46,
     "metadata": {},
     "output_type": "execute_result"
    }
   ],
   "source": [
    "df['Câmbio'].describe()"
   ]
  },
  {
   "cell_type": "code",
   "execution_count": 47,
   "id": "aecbffd1",
   "metadata": {},
   "outputs": [
    {
     "data": {
      "text/plain": [
       "array(['Automático', nan, 'Manual', 'Semi-Automático'], dtype=object)"
      ]
     },
     "execution_count": 47,
     "metadata": {},
     "output_type": "execute_result"
    }
   ],
   "source": [
    "df['Câmbio'].unique()"
   ]
  },
  {
   "cell_type": "code",
   "execution_count": 48,
   "id": "bf45615c",
   "metadata": {},
   "outputs": [
    {
     "data": {
      "image/png": "[encoded data removed]",
      "text/plain": [
       "<Figure size 720x360 with 1 Axes>"
      ]
     },
     "metadata": {
      "needs_background": "light"
     },
     "output_type": "display_data"
    }
   ],
   "source": [
    "plt.figure(figsize=(10,5))\n",
    "ax = sns.barplot(x=df['Câmbio'].value_counts().index, y=df['Câmbio'].value_counts())\n",
    "\n",
    "for i in ax.containers:\n",
    "    ax.bar_label(i,)"
   ]
  },
  {
   "cell_type": "markdown",
   "id": "f91bd810",
   "metadata": {},
   "source": [
    "**D**: O que fazer com os poucos valores faltantes?"
   ]
  },
  {
   "cell_type": "markdown",
   "id": "e1d56e98",
   "metadata": {},
   "source": [
    "Por fim, a feature será renomeada para facilitar sua manipulação pela biblioteca Pandas."
   ]
  },
  {
   "cell_type": "code",
   "execution_count": 49,
   "id": "3887148f",
   "metadata": {},
   "outputs": [
    {
     "data": {
      "text/html": [
       "<div>\n",
       "<style scoped>\n",
       "    .dataframe tbody tr th:only-of-type {\n",
       "        vertical-align: middle;\n",
       "    }\n",
       "\n",
       "    .dataframe tbody tr th {\n",
       "        vertical-align: top;\n",
       "    }\n",
       "\n",
       "    .dataframe thead th {\n",
       "        text-align: right;\n",
       "    }\n",
       "</style>\n",
       "<table border=\"1\" class=\"dataframe\">\n",
       "  <thead>\n",
       "    <tr style=\"text-align: right;\">\n",
       "      <th></th>\n",
       "      <th>Marca</th>\n",
       "      <th>Descricao</th>\n",
       "      <th>Tipo</th>\n",
       "      <th>Ano</th>\n",
       "      <th>UF</th>\n",
       "      <th>Km</th>\n",
       "      <th>Potencia</th>\n",
       "      <th>Combustivel</th>\n",
       "      <th>Cambio</th>\n",
       "      <th>Direção</th>\n",
       "      <th>...</th>\n",
       "      <th>Trava elétrica</th>\n",
       "      <th>Vidro elétrico</th>\n",
       "      <th>Som</th>\n",
       "      <th>Sensor de ré</th>\n",
       "      <th>Câmera de ré</th>\n",
       "      <th>Blindado</th>\n",
       "      <th>Preço</th>\n",
       "      <th>Modelo</th>\n",
       "      <th>Dias</th>\n",
       "      <th>KmLimite</th>\n",
       "    </tr>\n",
       "  </thead>\n",
       "  <tbody>\n",
       "    <tr>\n",
       "      <th>0</th>\n",
       "      <td>MITSUBISHI</td>\n",
       "      <td>MITSUBISHI L200 TRITON SPORT HPE 2.4 CD DIESEL...</td>\n",
       "      <td>Pick-up</td>\n",
       "      <td>2023</td>\n",
       "      <td>RJ</td>\n",
       "      <td>0</td>\n",
       "      <td>2.0 - 2.9</td>\n",
       "      <td>Diesel</td>\n",
       "      <td>Automático</td>\n",
       "      <td>Hidráulica</td>\n",
       "      <td>...</td>\n",
       "      <td>NaN</td>\n",
       "      <td>NaN</td>\n",
       "      <td>NaN</td>\n",
       "      <td>NaN</td>\n",
       "      <td>NaN</td>\n",
       "      <td>NaN</td>\n",
       "      <td>R$ 0</td>\n",
       "      <td>L200</td>\n",
       "      <td>3</td>\n",
       "      <td>1050</td>\n",
       "    </tr>\n",
       "    <tr>\n",
       "      <th>1</th>\n",
       "      <td>ALFA ROMEO</td>\n",
       "      <td>ALFA ROMEO 156 TS/SPORT/ELEGANT 2.0 16V</td>\n",
       "      <td>NaN</td>\n",
       "      <td>2012</td>\n",
       "      <td>AM</td>\n",
       "      <td>1</td>\n",
       "      <td>NaN</td>\n",
       "      <td>NaN</td>\n",
       "      <td>NaN</td>\n",
       "      <td>NaN</td>\n",
       "      <td>...</td>\n",
       "      <td>NaN</td>\n",
       "      <td>NaN</td>\n",
       "      <td>NaN</td>\n",
       "      <td>NaN</td>\n",
       "      <td>NaN</td>\n",
       "      <td>NaN</td>\n",
       "      <td>R$ 50.000</td>\n",
       "      <td>156</td>\n",
       "      <td>4021</td>\n",
       "      <td>1407350</td>\n",
       "    </tr>\n",
       "    <tr>\n",
       "      <th>2</th>\n",
       "      <td>JEEP</td>\n",
       "      <td>JEEP COMPASS LONGITUDE 2.0 4X4 DIES. 16V AUT.</td>\n",
       "      <td>SUV</td>\n",
       "      <td>2017</td>\n",
       "      <td>DF</td>\n",
       "      <td>0</td>\n",
       "      <td>NaN</td>\n",
       "      <td>Diesel</td>\n",
       "      <td>Automático</td>\n",
       "      <td>NaN</td>\n",
       "      <td>...</td>\n",
       "      <td>NaN</td>\n",
       "      <td>True</td>\n",
       "      <td>True</td>\n",
       "      <td>True</td>\n",
       "      <td>True</td>\n",
       "      <td>NaN</td>\n",
       "      <td>R$ 139.800</td>\n",
       "      <td>COMPASS</td>\n",
       "      <td>2194</td>\n",
       "      <td>767900</td>\n",
       "    </tr>\n",
       "    <tr>\n",
       "      <th>3</th>\n",
       "      <td>VW - VOLKSWAGEN</td>\n",
       "      <td>VW - VOLKSWAGEN SAVEIRO 1.6 MI/ 1.6 MI TOTAL F...</td>\n",
       "      <td>Pick-up</td>\n",
       "      <td>2014</td>\n",
       "      <td>RS</td>\n",
       "      <td>1</td>\n",
       "      <td>1.6</td>\n",
       "      <td>Flex</td>\n",
       "      <td>Manual</td>\n",
       "      <td>Hidráulica</td>\n",
       "      <td>...</td>\n",
       "      <td>True</td>\n",
       "      <td>True</td>\n",
       "      <td>True</td>\n",
       "      <td>NaN</td>\n",
       "      <td>NaN</td>\n",
       "      <td>NaN</td>\n",
       "      <td>R$ 49.900</td>\n",
       "      <td>SAVEIRO</td>\n",
       "      <td>3290</td>\n",
       "      <td>1151500</td>\n",
       "    </tr>\n",
       "    <tr>\n",
       "      <th>4</th>\n",
       "      <td>TOYOTA</td>\n",
       "      <td>TOYOTA ETIOS</td>\n",
       "      <td>Sedã</td>\n",
       "      <td>2015</td>\n",
       "      <td>PA</td>\n",
       "      <td>1000</td>\n",
       "      <td>1.5</td>\n",
       "      <td>Flex</td>\n",
       "      <td>Manual</td>\n",
       "      <td>Hidráulica</td>\n",
       "      <td>...</td>\n",
       "      <td>True</td>\n",
       "      <td>True</td>\n",
       "      <td>True</td>\n",
       "      <td>True</td>\n",
       "      <td>NaN</td>\n",
       "      <td>NaN</td>\n",
       "      <td>R$ 47.900</td>\n",
       "      <td>ETIOS</td>\n",
       "      <td>2925</td>\n",
       "      <td>1023750</td>\n",
       "    </tr>\n",
       "  </tbody>\n",
       "</table>\n",
       "<p>5 rows × 28 columns</p>\n",
       "</div>"
      ],
      "text/plain": [
       "             Marca                                          Descricao  \\\n",
       "0       MITSUBISHI  MITSUBISHI L200 TRITON SPORT HPE 2.4 CD DIESEL...   \n",
       "1       ALFA ROMEO            ALFA ROMEO 156 TS/SPORT/ELEGANT 2.0 16V   \n",
       "2             JEEP      JEEP COMPASS LONGITUDE 2.0 4X4 DIES. 16V AUT.   \n",
       "3  VW - VOLKSWAGEN  VW - VOLKSWAGEN SAVEIRO 1.6 MI/ 1.6 MI TOTAL F...   \n",
       "4           TOYOTA                                       TOYOTA ETIOS   \n",
       "\n",
       "      Tipo   Ano  UF    Km   Potencia Combustivel      Cambio     Direção  \\\n",
       "0  Pick-up  2023  RJ     0  2.0 - 2.9      Diesel  Automático  Hidráulica   \n",
       "1      NaN  2012  AM     1        NaN         NaN         NaN         NaN   \n",
       "2      SUV  2017  DF     0        NaN      Diesel  Automático         NaN   \n",
       "3  Pick-up  2014  RS     1        1.6        Flex      Manual  Hidráulica   \n",
       "4     Sedã  2015  PA  1000        1.5        Flex      Manual  Hidráulica   \n",
       "\n",
       "   ... Trava elétrica  Vidro elétrico   Som Sensor de ré Câmera de ré  \\\n",
       "0  ...            NaN             NaN   NaN          NaN          NaN   \n",
       "1  ...            NaN             NaN   NaN          NaN          NaN   \n",
       "2  ...            NaN            True  True         True         True   \n",
       "3  ...           True            True  True          NaN          NaN   \n",
       "4  ...           True            True  True         True          NaN   \n",
       "\n",
       "  Blindado       Preço   Modelo  Dias KmLimite  \n",
       "0      NaN        R$ 0     L200     3     1050  \n",
       "1      NaN   R$ 50.000      156  4021  1407350  \n",
       "2      NaN  R$ 139.800  COMPASS  2194   767900  \n",
       "3      NaN   R$ 49.900  SAVEIRO  3290  1151500  \n",
       "4      NaN   R$ 47.900    ETIOS  2925  1023750  \n",
       "\n",
       "[5 rows x 28 columns]"
      ]
     },
     "execution_count": 49,
     "metadata": {},
     "output_type": "execute_result"
    }
   ],
   "source": [
    "df.rename({'Câmbio':'Cambio'}, axis=1, inplace=True)\n",
    "\n",
    "df.head()"
   ]
  },
  {
   "cell_type": "markdown",
   "id": "65c86e3b",
   "metadata": {},
   "source": [
    "## Direção"
   ]
  },
  {
   "cell_type": "code",
   "execution_count": 50,
   "id": "066a458d",
   "metadata": {},
   "outputs": [
    {
     "data": {
      "text/plain": [
       "count           4200\n",
       "unique             4\n",
       "top       Hidráulica\n",
       "freq            2544\n",
       "Name: Direção, dtype: object"
      ]
     },
     "execution_count": 50,
     "metadata": {},
     "output_type": "execute_result"
    }
   ],
   "source": [
    "df['Direção'].describe()"
   ]
  },
  {
   "cell_type": "code",
   "execution_count": 51,
   "id": "e9fd511f",
   "metadata": {},
   "outputs": [
    {
     "data": {
      "text/plain": [
       "array(['Hidráulica', nan, 'Elétrica', 'Mecânica', 'Assistida'],\n",
       "      dtype=object)"
      ]
     },
     "execution_count": 51,
     "metadata": {},
     "output_type": "execute_result"
    }
   ],
   "source": [
    "df['Direção'].unique()"
   ]
  },
  {
   "cell_type": "code",
   "execution_count": 52,
   "id": "ef0cc29a",
   "metadata": {},
   "outputs": [
    {
     "data": {
      "image/png": "[encoded data removed]",
      "text/plain": [
       "<Figure size 720x360 with 1 Axes>"
      ]
     },
     "metadata": {
      "needs_background": "light"
     },
     "output_type": "display_data"
    }
   ],
   "source": [
    "plt.figure(figsize=(10,5))\n",
    "ax = sns.barplot(x=df['Direção'].value_counts().index, y=df['Direção'].value_counts())\n",
    "\n",
    "for i in ax.containers:\n",
    "    ax.bar_label(i,)"
   ]
  },
  {
   "cell_type": "markdown",
   "id": "22c1acf0",
   "metadata": {},
   "source": [
    "**D:** O que fazer com o grande volume de valores faltantes?"
   ]
  },
  {
   "cell_type": "markdown",
   "id": "0bbcc835",
   "metadata": {},
   "source": [
    "Por fim, a feature será renomeada para facilitar sua manipulação pela biblioteca Pandas."
   ]
  },
  {
   "cell_type": "code",
   "execution_count": 53,
   "id": "1a8f4240",
   "metadata": {},
   "outputs": [
    {
     "data": {
      "text/html": [
       "<div>\n",
       "<style scoped>\n",
       "    .dataframe tbody tr th:only-of-type {\n",
       "        vertical-align: middle;\n",
       "    }\n",
       "\n",
       "    .dataframe tbody tr th {\n",
       "        vertical-align: top;\n",
       "    }\n",
       "\n",
       "    .dataframe thead th {\n",
       "        text-align: right;\n",
       "    }\n",
       "</style>\n",
       "<table border=\"1\" class=\"dataframe\">\n",
       "  <thead>\n",
       "    <tr style=\"text-align: right;\">\n",
       "      <th></th>\n",
       "      <th>Marca</th>\n",
       "      <th>Descricao</th>\n",
       "      <th>Tipo</th>\n",
       "      <th>Ano</th>\n",
       "      <th>UF</th>\n",
       "      <th>Km</th>\n",
       "      <th>Potencia</th>\n",
       "      <th>Combustivel</th>\n",
       "      <th>Cambio</th>\n",
       "      <th>Direcao</th>\n",
       "      <th>...</th>\n",
       "      <th>Trava elétrica</th>\n",
       "      <th>Vidro elétrico</th>\n",
       "      <th>Som</th>\n",
       "      <th>Sensor de ré</th>\n",
       "      <th>Câmera de ré</th>\n",
       "      <th>Blindado</th>\n",
       "      <th>Preço</th>\n",
       "      <th>Modelo</th>\n",
       "      <th>Dias</th>\n",
       "      <th>KmLimite</th>\n",
       "    </tr>\n",
       "  </thead>\n",
       "  <tbody>\n",
       "    <tr>\n",
       "      <th>0</th>\n",
       "      <td>MITSUBISHI</td>\n",
       "      <td>MITSUBISHI L200 TRITON SPORT HPE 2.4 CD DIESEL...</td>\n",
       "      <td>Pick-up</td>\n",
       "      <td>2023</td>\n",
       "      <td>RJ</td>\n",
       "      <td>0</td>\n",
       "      <td>2.0 - 2.9</td>\n",
       "      <td>Diesel</td>\n",
       "      <td>Automático</td>\n",
       "      <td>Hidráulica</td>\n",
       "      <td>...</td>\n",
       "      <td>NaN</td>\n",
       "      <td>NaN</td>\n",
       "      <td>NaN</td>\n",
       "      <td>NaN</td>\n",
       "      <td>NaN</td>\n",
       "      <td>NaN</td>\n",
       "      <td>R$ 0</td>\n",
       "      <td>L200</td>\n",
       "      <td>3</td>\n",
       "      <td>1050</td>\n",
       "    </tr>\n",
       "    <tr>\n",
       "      <th>1</th>\n",
       "      <td>ALFA ROMEO</td>\n",
       "      <td>ALFA ROMEO 156 TS/SPORT/ELEGANT 2.0 16V</td>\n",
       "      <td>NaN</td>\n",
       "      <td>2012</td>\n",
       "      <td>AM</td>\n",
       "      <td>1</td>\n",
       "      <td>NaN</td>\n",
       "      <td>NaN</td>\n",
       "      <td>NaN</td>\n",
       "      <td>NaN</td>\n",
       "      <td>...</td>\n",
       "      <td>NaN</td>\n",
       "      <td>NaN</td>\n",
       "      <td>NaN</td>\n",
       "      <td>NaN</td>\n",
       "      <td>NaN</td>\n",
       "      <td>NaN</td>\n",
       "      <td>R$ 50.000</td>\n",
       "      <td>156</td>\n",
       "      <td>4021</td>\n",
       "      <td>1407350</td>\n",
       "    </tr>\n",
       "    <tr>\n",
       "      <th>2</th>\n",
       "      <td>JEEP</td>\n",
       "      <td>JEEP COMPASS LONGITUDE 2.0 4X4 DIES. 16V AUT.</td>\n",
       "      <td>SUV</td>\n",
       "      <td>2017</td>\n",
       "      <td>DF</td>\n",
       "      <td>0</td>\n",
       "      <td>NaN</td>\n",
       "      <td>Diesel</td>\n",
       "      <td>Automático</td>\n",
       "      <td>NaN</td>\n",
       "      <td>...</td>\n",
       "      <td>NaN</td>\n",
       "      <td>True</td>\n",
       "      <td>True</td>\n",
       "      <td>True</td>\n",
       "      <td>True</td>\n",
       "      <td>NaN</td>\n",
       "      <td>R$ 139.800</td>\n",
       "      <td>COMPASS</td>\n",
       "      <td>2194</td>\n",
       "      <td>767900</td>\n",
       "    </tr>\n",
       "    <tr>\n",
       "      <th>3</th>\n",
       "      <td>VW - VOLKSWAGEN</td>\n",
       "      <td>VW - VOLKSWAGEN SAVEIRO 1.6 MI/ 1.6 MI TOTAL F...</td>\n",
       "      <td>Pick-up</td>\n",
       "      <td>2014</td>\n",
       "      <td>RS</td>\n",
       "      <td>1</td>\n",
       "      <td>1.6</td>\n",
       "      <td>Flex</td>\n",
       "      <td>Manual</td>\n",
       "      <td>Hidráulica</td>\n",
       "      <td>...</td>\n",
       "      <td>True</td>\n",
       "      <td>True</td>\n",
       "      <td>True</td>\n",
       "      <td>NaN</td>\n",
       "      <td>NaN</td>\n",
       "      <td>NaN</td>\n",
       "      <td>R$ 49.900</td>\n",
       "      <td>SAVEIRO</td>\n",
       "      <td>3290</td>\n",
       "      <td>1151500</td>\n",
       "    </tr>\n",
       "    <tr>\n",
       "      <th>4</th>\n",
       "      <td>TOYOTA</td>\n",
       "      <td>TOYOTA ETIOS</td>\n",
       "      <td>Sedã</td>\n",
       "      <td>2015</td>\n",
       "      <td>PA</td>\n",
       "      <td>1000</td>\n",
       "      <td>1.5</td>\n",
       "      <td>Flex</td>\n",
       "      <td>Manual</td>\n",
       "      <td>Hidráulica</td>\n",
       "      <td>...</td>\n",
       "      <td>True</td>\n",
       "      <td>True</td>\n",
       "      <td>True</td>\n",
       "      <td>True</td>\n",
       "      <td>NaN</td>\n",
       "      <td>NaN</td>\n",
       "      <td>R$ 47.900</td>\n",
       "      <td>ETIOS</td>\n",
       "      <td>2925</td>\n",
       "      <td>1023750</td>\n",
       "    </tr>\n",
       "  </tbody>\n",
       "</table>\n",
       "<p>5 rows × 28 columns</p>\n",
       "</div>"
      ],
      "text/plain": [
       "             Marca                                          Descricao  \\\n",
       "0       MITSUBISHI  MITSUBISHI L200 TRITON SPORT HPE 2.4 CD DIESEL...   \n",
       "1       ALFA ROMEO            ALFA ROMEO 156 TS/SPORT/ELEGANT 2.0 16V   \n",
       "2             JEEP      JEEP COMPASS LONGITUDE 2.0 4X4 DIES. 16V AUT.   \n",
       "3  VW - VOLKSWAGEN  VW - VOLKSWAGEN SAVEIRO 1.6 MI/ 1.6 MI TOTAL F...   \n",
       "4           TOYOTA                                       TOYOTA ETIOS   \n",
       "\n",
       "      Tipo   Ano  UF    Km   Potencia Combustivel      Cambio     Direcao  \\\n",
       "0  Pick-up  2023  RJ     0  2.0 - 2.9      Diesel  Automático  Hidráulica   \n",
       "1      NaN  2012  AM     1        NaN         NaN         NaN         NaN   \n",
       "2      SUV  2017  DF     0        NaN      Diesel  Automático         NaN   \n",
       "3  Pick-up  2014  RS     1        1.6        Flex      Manual  Hidráulica   \n",
       "4     Sedã  2015  PA  1000        1.5        Flex      Manual  Hidráulica   \n",
       "\n",
       "   ... Trava elétrica  Vidro elétrico   Som Sensor de ré Câmera de ré  \\\n",
       "0  ...            NaN             NaN   NaN          NaN          NaN   \n",
       "1  ...            NaN             NaN   NaN          NaN          NaN   \n",
       "2  ...            NaN            True  True         True         True   \n",
       "3  ...           True            True  True          NaN          NaN   \n",
       "4  ...           True            True  True         True          NaN   \n",
       "\n",
       "  Blindado       Preço   Modelo  Dias KmLimite  \n",
       "0      NaN        R$ 0     L200     3     1050  \n",
       "1      NaN   R$ 50.000      156  4021  1407350  \n",
       "2      NaN  R$ 139.800  COMPASS  2194   767900  \n",
       "3      NaN   R$ 49.900  SAVEIRO  3290  1151500  \n",
       "4      NaN   R$ 47.900    ETIOS  2925  1023750  \n",
       "\n",
       "[5 rows x 28 columns]"
      ]
     },
     "execution_count": 53,
     "metadata": {},
     "output_type": "execute_result"
    }
   ],
   "source": [
    "df.rename({'Direção':'Direcao'}, axis=1, inplace=True)\n",
    "\n",
    "df.head()"
   ]
  },
  {
   "cell_type": "markdown",
   "id": "d7d52fbe",
   "metadata": {},
   "source": [
    "## Cor"
   ]
  },
  {
   "cell_type": "code",
   "execution_count": 54,
   "id": "1bd45113",
   "metadata": {},
   "outputs": [
    {
     "data": {
      "text/plain": [
       "count       4427\n",
       "unique        10\n",
       "top       Branco\n",
       "freq        1457\n",
       "Name: Cor, dtype: object"
      ]
     },
     "execution_count": 54,
     "metadata": {},
     "output_type": "execute_result"
    }
   ],
   "source": [
    "df['Cor'].describe()"
   ]
  },
  {
   "cell_type": "code",
   "execution_count": 55,
   "id": "bfd897eb",
   "metadata": {},
   "outputs": [
    {
     "data": {
      "text/plain": [
       "array(['Amarelo', nan, 'Branco', 'Prata', 'Preto', 'Cinza', 'Vermelho',\n",
       "       'Azul', 'Outra', 'Laranja', 'Verde'], dtype=object)"
      ]
     },
     "execution_count": 55,
     "metadata": {},
     "output_type": "execute_result"
    }
   ],
   "source": [
    "df['Cor'].unique()"
   ]
  },
  {
   "cell_type": "code",
   "execution_count": 56,
   "id": "8f8c6222",
   "metadata": {},
   "outputs": [
    {
     "data": {
      "image/png": "[encoded data removed]",
      "text/plain": [
       "<Figure size 720x360 with 1 Axes>"
      ]
     },
     "metadata": {
      "needs_background": "light"
     },
     "output_type": "display_data"
    }
   ],
   "source": [
    "plt.figure(figsize=(10,5))\n",
    "ax = sns.barplot(x=df['Cor'].value_counts().index[:5], y=df['Cor'].value_counts()[:5], linewidth=0.5, edgecolor=\".2\",\n",
    "                 palette=['white', 'silver', 'black', 'grey', 'red'])\n",
    "\n",
    "for i in ax.containers:\n",
    "    ax.bar_label(i,)"
   ]
  },
  {
   "cell_type": "markdown",
   "id": "66f7679e",
   "metadata": {},
   "source": [
    "**D**: O que fazer com o grande volume de valores faltantes?"
   ]
  },
  {
   "cell_type": "markdown",
   "id": "5b4114c2",
   "metadata": {},
   "source": [
    "## Final de placa"
   ]
  },
  {
   "cell_type": "code",
   "execution_count": 57,
   "id": "5b07c290",
   "metadata": {},
   "outputs": [
    {
     "data": {
      "text/plain": [
       "count    4508.000000\n",
       "mean        4.331854\n",
       "std         3.021906\n",
       "min         0.000000\n",
       "25%         2.000000\n",
       "50%         4.000000\n",
       "75%         7.000000\n",
       "max         9.000000\n",
       "Name: Final de placa, dtype: float64"
      ]
     },
     "execution_count": 57,
     "metadata": {},
     "output_type": "execute_result"
    }
   ],
   "source": [
    "df['Final de placa'].describe()"
   ]
  },
  {
   "cell_type": "code",
   "execution_count": 58,
   "id": "73e21c93",
   "metadata": {},
   "outputs": [
    {
     "data": {
      "text/plain": [
       "array([ 1., nan,  0.,  9.,  3.,  5.,  7.,  8.,  6.,  2.,  4.])"
      ]
     },
     "execution_count": 58,
     "metadata": {},
     "output_type": "execute_result"
    }
   ],
   "source": [
    "df['Final de placa'].unique()"
   ]
  },
  {
   "cell_type": "markdown",
   "id": "fa7a3c9d",
   "metadata": {},
   "source": [
    "A feature será convertida para o formato inteiro, mas antes é necessário tratar os valores faltantes.\n",
    "\n",
    "**D**: O que fazer com o grande volume de valores faltantes?"
   ]
  },
  {
   "cell_type": "code",
   "execution_count": 59,
   "id": "a46122b3",
   "metadata": {},
   "outputs": [
    {
     "data": {
      "image/png": "[encoded data removed]",
      "text/plain": [
       "<Figure size 720x360 with 1 Axes>"
      ]
     },
     "metadata": {
      "needs_background": "light"
     },
     "output_type": "display_data"
    }
   ],
   "source": [
    "plt.figure(figsize=(10,5))\n",
    "ax = sns.barplot(x=df['Final de placa'].value_counts().index, y=df['Final de placa'].value_counts())\n",
    "\n",
    "for i in ax.containers:\n",
    "    ax.bar_label(i,)"
   ]
  },
  {
   "cell_type": "markdown",
   "id": "4e129675",
   "metadata": {},
   "source": [
    "Por fim, a feature será renomeada para facilitar sua manipulação pela biblioteca Pandas."
   ]
  },
  {
   "cell_type": "code",
   "execution_count": 60,
   "id": "c00b8f50",
   "metadata": {},
   "outputs": [
    {
     "data": {
      "text/html": [
       "<div>\n",
       "<style scoped>\n",
       "    .dataframe tbody tr th:only-of-type {\n",
       "        vertical-align: middle;\n",
       "    }\n",
       "\n",
       "    .dataframe tbody tr th {\n",
       "        vertical-align: top;\n",
       "    }\n",
       "\n",
       "    .dataframe thead th {\n",
       "        text-align: right;\n",
       "    }\n",
       "</style>\n",
       "<table border=\"1\" class=\"dataframe\">\n",
       "  <thead>\n",
       "    <tr style=\"text-align: right;\">\n",
       "      <th></th>\n",
       "      <th>FinalDePlaca</th>\n",
       "      <th>Portas</th>\n",
       "      <th>Único dono</th>\n",
       "      <th>Aceita trocas</th>\n",
       "      <th>Ar condicionado</th>\n",
       "      <th>Air bag</th>\n",
       "      <th>Alarme</th>\n",
       "      <th>Trava elétrica</th>\n",
       "      <th>Vidro elétrico</th>\n",
       "      <th>Som</th>\n",
       "      <th>Sensor de ré</th>\n",
       "      <th>Câmera de ré</th>\n",
       "      <th>Blindado</th>\n",
       "      <th>Preço</th>\n",
       "      <th>Modelo</th>\n",
       "      <th>Dias</th>\n",
       "      <th>KmLimite</th>\n",
       "    </tr>\n",
       "  </thead>\n",
       "  <tbody>\n",
       "    <tr>\n",
       "      <th>0</th>\n",
       "      <td>1.0</td>\n",
       "      <td>4 portas</td>\n",
       "      <td>NaN</td>\n",
       "      <td>Sim</td>\n",
       "      <td>NaN</td>\n",
       "      <td>NaN</td>\n",
       "      <td>NaN</td>\n",
       "      <td>NaN</td>\n",
       "      <td>NaN</td>\n",
       "      <td>NaN</td>\n",
       "      <td>NaN</td>\n",
       "      <td>NaN</td>\n",
       "      <td>NaN</td>\n",
       "      <td>R$ 0</td>\n",
       "      <td>L200</td>\n",
       "      <td>3</td>\n",
       "      <td>1050</td>\n",
       "    </tr>\n",
       "    <tr>\n",
       "      <th>1</th>\n",
       "      <td>NaN</td>\n",
       "      <td>NaN</td>\n",
       "      <td>NaN</td>\n",
       "      <td>NaN</td>\n",
       "      <td>NaN</td>\n",
       "      <td>NaN</td>\n",
       "      <td>NaN</td>\n",
       "      <td>NaN</td>\n",
       "      <td>NaN</td>\n",
       "      <td>NaN</td>\n",
       "      <td>NaN</td>\n",
       "      <td>NaN</td>\n",
       "      <td>NaN</td>\n",
       "      <td>R$ 50.000</td>\n",
       "      <td>156</td>\n",
       "      <td>4021</td>\n",
       "      <td>1407350</td>\n",
       "    </tr>\n",
       "    <tr>\n",
       "      <th>2</th>\n",
       "      <td>0.0</td>\n",
       "      <td>NaN</td>\n",
       "      <td>NaN</td>\n",
       "      <td>Sim</td>\n",
       "      <td>True</td>\n",
       "      <td>True</td>\n",
       "      <td>True</td>\n",
       "      <td>NaN</td>\n",
       "      <td>True</td>\n",
       "      <td>True</td>\n",
       "      <td>True</td>\n",
       "      <td>True</td>\n",
       "      <td>NaN</td>\n",
       "      <td>R$ 139.800</td>\n",
       "      <td>COMPASS</td>\n",
       "      <td>2194</td>\n",
       "      <td>767900</td>\n",
       "    </tr>\n",
       "    <tr>\n",
       "      <th>3</th>\n",
       "      <td>9.0</td>\n",
       "      <td>2 portas</td>\n",
       "      <td>Não</td>\n",
       "      <td>Sim</td>\n",
       "      <td>True</td>\n",
       "      <td>True</td>\n",
       "      <td>True</td>\n",
       "      <td>True</td>\n",
       "      <td>True</td>\n",
       "      <td>True</td>\n",
       "      <td>NaN</td>\n",
       "      <td>NaN</td>\n",
       "      <td>NaN</td>\n",
       "      <td>R$ 49.900</td>\n",
       "      <td>SAVEIRO</td>\n",
       "      <td>3290</td>\n",
       "      <td>1151500</td>\n",
       "    </tr>\n",
       "    <tr>\n",
       "      <th>4</th>\n",
       "      <td>3.0</td>\n",
       "      <td>NaN</td>\n",
       "      <td>NaN</td>\n",
       "      <td>Sim</td>\n",
       "      <td>True</td>\n",
       "      <td>NaN</td>\n",
       "      <td>True</td>\n",
       "      <td>True</td>\n",
       "      <td>True</td>\n",
       "      <td>True</td>\n",
       "      <td>True</td>\n",
       "      <td>NaN</td>\n",
       "      <td>NaN</td>\n",
       "      <td>R$ 47.900</td>\n",
       "      <td>ETIOS</td>\n",
       "      <td>2925</td>\n",
       "      <td>1023750</td>\n",
       "    </tr>\n",
       "  </tbody>\n",
       "</table>\n",
       "</div>"
      ],
      "text/plain": [
       "   FinalDePlaca    Portas Único dono Aceita trocas Ar condicionado Air bag  \\\n",
       "0           1.0  4 portas        NaN           Sim             NaN     NaN   \n",
       "1           NaN       NaN        NaN           NaN             NaN     NaN   \n",
       "2           0.0       NaN        NaN           Sim            True    True   \n",
       "3           9.0  2 portas        Não           Sim            True    True   \n",
       "4           3.0       NaN        NaN           Sim            True     NaN   \n",
       "\n",
       "  Alarme Trava elétrica Vidro elétrico   Som Sensor de ré Câmera de ré  \\\n",
       "0    NaN            NaN            NaN   NaN          NaN          NaN   \n",
       "1    NaN            NaN            NaN   NaN          NaN          NaN   \n",
       "2   True            NaN           True  True         True         True   \n",
       "3   True           True           True  True          NaN          NaN   \n",
       "4   True           True           True  True         True          NaN   \n",
       "\n",
       "  Blindado       Preço   Modelo  Dias  KmLimite  \n",
       "0      NaN        R$ 0     L200     3      1050  \n",
       "1      NaN   R$ 50.000      156  4021   1407350  \n",
       "2      NaN  R$ 139.800  COMPASS  2194    767900  \n",
       "3      NaN   R$ 49.900  SAVEIRO  3290   1151500  \n",
       "4      NaN   R$ 47.900    ETIOS  2925   1023750  "
      ]
     },
     "execution_count": 60,
     "metadata": {},
     "output_type": "execute_result"
    }
   ],
   "source": [
    "df.rename({'Final de placa':'FinalDePlaca'}, axis=1, inplace=True)\n",
    "\n",
    "df.iloc[:,11:].head()"
   ]
  },
  {
   "cell_type": "markdown",
   "id": "ef26d681",
   "metadata": {},
   "source": [
    "## Portas"
   ]
  },
  {
   "cell_type": "code",
   "execution_count": 61,
   "id": "aeac422b",
   "metadata": {},
   "outputs": [
    {
     "data": {
      "text/plain": [
       "count         5170\n",
       "unique           2\n",
       "top       4 portas\n",
       "freq          4829\n",
       "Name: Portas, dtype: object"
      ]
     },
     "execution_count": 61,
     "metadata": {},
     "output_type": "execute_result"
    }
   ],
   "source": [
    "df['Portas'].describe()"
   ]
  },
  {
   "cell_type": "code",
   "execution_count": 62,
   "id": "0b47fff5",
   "metadata": {},
   "outputs": [
    {
     "data": {
      "text/plain": [
       "array(['4 portas', nan, '2 portas'], dtype=object)"
      ]
     },
     "execution_count": 62,
     "metadata": {},
     "output_type": "execute_result"
    }
   ],
   "source": [
    "df['Portas'].unique()"
   ]
  },
  {
   "cell_type": "code",
   "execution_count": 63,
   "id": "a920f5d9",
   "metadata": {},
   "outputs": [
    {
     "data": {
      "image/png": "[encoded data removed]",
      "text/plain": [
       "<Figure size 360x360 with 1 Axes>"
      ]
     },
     "metadata": {
      "needs_background": "light"
     },
     "output_type": "display_data"
    }
   ],
   "source": [
    "plt.figure(figsize=(5,5))\n",
    "ax = sns.barplot(x=df['Portas'].value_counts().index, y=df['Portas'].value_counts())\n",
    "\n",
    "for i in ax.containers:\n",
    "    ax.bar_label(i,)"
   ]
  },
  {
   "cell_type": "markdown",
   "id": "4a16f2a0",
   "metadata": {},
   "source": [
    "Temos 176 valores faltantes, que poderiam ser substituídos pela categoria amplamente mais presente nessa feature: 4 portas.\n",
    "\n",
    "É preciso tratar esses valores faltantes para então converter o valor para inteiro, através do código comentado abaixo."
   ]
  },
  {
   "cell_type": "code",
   "execution_count": 64,
   "id": "4d5410b8",
   "metadata": {},
   "outputs": [],
   "source": [
    "#df['Portas'] = df['Portas'].astype(str).apply(lambda x: int(x.split(' ')[0]))"
   ]
  },
  {
   "cell_type": "markdown",
   "id": "0303eddb",
   "metadata": {},
   "source": [
    "## Único dono"
   ]
  },
  {
   "cell_type": "code",
   "execution_count": 65,
   "id": "9c446be7",
   "metadata": {},
   "outputs": [
    {
     "data": {
      "text/plain": [
       "count     3023\n",
       "unique       2\n",
       "top        Não\n",
       "freq      1584\n",
       "Name: Único dono, dtype: object"
      ]
     },
     "execution_count": 65,
     "metadata": {},
     "output_type": "execute_result"
    }
   ],
   "source": [
    "df['Único dono'].describe()"
   ]
  },
  {
   "cell_type": "code",
   "execution_count": 66,
   "id": "59da3dde",
   "metadata": {},
   "outputs": [
    {
     "data": {
      "text/plain": [
       "array([nan, 'Não', 'Sim'], dtype=object)"
      ]
     },
     "execution_count": 66,
     "metadata": {},
     "output_type": "execute_result"
    }
   ],
   "source": [
    "df['Único dono'].unique()"
   ]
  },
  {
   "cell_type": "code",
   "execution_count": 67,
   "id": "1f912ab5",
   "metadata": {},
   "outputs": [
    {
     "data": {
      "image/png": "[encoded data removed]",
      "text/plain": [
       "<Figure size 360x360 with 1 Axes>"
      ]
     },
     "metadata": {
      "needs_background": "light"
     },
     "output_type": "display_data"
    }
   ],
   "source": [
    "plt.figure(figsize=(5,5))\n",
    "ax = sns.barplot(x=df['Único dono'].value_counts().index, y=df['Único dono'].value_counts())\n",
    "\n",
    "for i in ax.containers:\n",
    "    ax.bar_label(i,)"
   ]
  },
  {
   "cell_type": "markdown",
   "id": "17519141",
   "metadata": {},
   "source": [
    "**D**: O que fazer com os valores faltantes? Criar um campo chamado \"Não informado\"?"
   ]
  },
  {
   "cell_type": "markdown",
   "id": "2d0c5d4d",
   "metadata": {},
   "source": [
    "Por fim, a feature será renomeada para facilitar sua manipulação pela biblioteca Pandas."
   ]
  },
  {
   "cell_type": "code",
   "execution_count": 68,
   "id": "32ea0f44",
   "metadata": {},
   "outputs": [
    {
     "data": {
      "text/html": [
       "<div>\n",
       "<style scoped>\n",
       "    .dataframe tbody tr th:only-of-type {\n",
       "        vertical-align: middle;\n",
       "    }\n",
       "\n",
       "    .dataframe tbody tr th {\n",
       "        vertical-align: top;\n",
       "    }\n",
       "\n",
       "    .dataframe thead th {\n",
       "        text-align: right;\n",
       "    }\n",
       "</style>\n",
       "<table border=\"1\" class=\"dataframe\">\n",
       "  <thead>\n",
       "    <tr style=\"text-align: right;\">\n",
       "      <th></th>\n",
       "      <th>FinalDePlaca</th>\n",
       "      <th>Portas</th>\n",
       "      <th>UnicoDono</th>\n",
       "      <th>Aceita trocas</th>\n",
       "      <th>Ar condicionado</th>\n",
       "      <th>Air bag</th>\n",
       "      <th>Alarme</th>\n",
       "      <th>Trava elétrica</th>\n",
       "      <th>Vidro elétrico</th>\n",
       "      <th>Som</th>\n",
       "      <th>Sensor de ré</th>\n",
       "      <th>Câmera de ré</th>\n",
       "      <th>Blindado</th>\n",
       "      <th>Preço</th>\n",
       "      <th>Modelo</th>\n",
       "      <th>Dias</th>\n",
       "      <th>KmLimite</th>\n",
       "    </tr>\n",
       "  </thead>\n",
       "  <tbody>\n",
       "    <tr>\n",
       "      <th>0</th>\n",
       "      <td>1.0</td>\n",
       "      <td>4 portas</td>\n",
       "      <td>NaN</td>\n",
       "      <td>Sim</td>\n",
       "      <td>NaN</td>\n",
       "      <td>NaN</td>\n",
       "      <td>NaN</td>\n",
       "      <td>NaN</td>\n",
       "      <td>NaN</td>\n",
       "      <td>NaN</td>\n",
       "      <td>NaN</td>\n",
       "      <td>NaN</td>\n",
       "      <td>NaN</td>\n",
       "      <td>R$ 0</td>\n",
       "      <td>L200</td>\n",
       "      <td>3</td>\n",
       "      <td>1050</td>\n",
       "    </tr>\n",
       "    <tr>\n",
       "      <th>1</th>\n",
       "      <td>NaN</td>\n",
       "      <td>NaN</td>\n",
       "      <td>NaN</td>\n",
       "      <td>NaN</td>\n",
       "      <td>NaN</td>\n",
       "      <td>NaN</td>\n",
       "      <td>NaN</td>\n",
       "      <td>NaN</td>\n",
       "      <td>NaN</td>\n",
       "      <td>NaN</td>\n",
       "      <td>NaN</td>\n",
       "      <td>NaN</td>\n",
       "      <td>NaN</td>\n",
       "      <td>R$ 50.000</td>\n",
       "      <td>156</td>\n",
       "      <td>4021</td>\n",
       "      <td>1407350</td>\n",
       "    </tr>\n",
       "    <tr>\n",
       "      <th>2</th>\n",
       "      <td>0.0</td>\n",
       "      <td>NaN</td>\n",
       "      <td>NaN</td>\n",
       "      <td>Sim</td>\n",
       "      <td>True</td>\n",
       "      <td>True</td>\n",
       "      <td>True</td>\n",
       "      <td>NaN</td>\n",
       "      <td>True</td>\n",
       "      <td>True</td>\n",
       "      <td>True</td>\n",
       "      <td>True</td>\n",
       "      <td>NaN</td>\n",
       "      <td>R$ 139.800</td>\n",
       "      <td>COMPASS</td>\n",
       "      <td>2194</td>\n",
       "      <td>767900</td>\n",
       "    </tr>\n",
       "    <tr>\n",
       "      <th>3</th>\n",
       "      <td>9.0</td>\n",
       "      <td>2 portas</td>\n",
       "      <td>Não</td>\n",
       "      <td>Sim</td>\n",
       "      <td>True</td>\n",
       "      <td>True</td>\n",
       "      <td>True</td>\n",
       "      <td>True</td>\n",
       "      <td>True</td>\n",
       "      <td>True</td>\n",
       "      <td>NaN</td>\n",
       "      <td>NaN</td>\n",
       "      <td>NaN</td>\n",
       "      <td>R$ 49.900</td>\n",
       "      <td>SAVEIRO</td>\n",
       "      <td>3290</td>\n",
       "      <td>1151500</td>\n",
       "    </tr>\n",
       "    <tr>\n",
       "      <th>4</th>\n",
       "      <td>3.0</td>\n",
       "      <td>NaN</td>\n",
       "      <td>NaN</td>\n",
       "      <td>Sim</td>\n",
       "      <td>True</td>\n",
       "      <td>NaN</td>\n",
       "      <td>True</td>\n",
       "      <td>True</td>\n",
       "      <td>True</td>\n",
       "      <td>True</td>\n",
       "      <td>True</td>\n",
       "      <td>NaN</td>\n",
       "      <td>NaN</td>\n",
       "      <td>R$ 47.900</td>\n",
       "      <td>ETIOS</td>\n",
       "      <td>2925</td>\n",
       "      <td>1023750</td>\n",
       "    </tr>\n",
       "  </tbody>\n",
       "</table>\n",
       "</div>"
      ],
      "text/plain": [
       "   FinalDePlaca    Portas UnicoDono Aceita trocas Ar condicionado Air bag  \\\n",
       "0           1.0  4 portas       NaN           Sim             NaN     NaN   \n",
       "1           NaN       NaN       NaN           NaN             NaN     NaN   \n",
       "2           0.0       NaN       NaN           Sim            True    True   \n",
       "3           9.0  2 portas       Não           Sim            True    True   \n",
       "4           3.0       NaN       NaN           Sim            True     NaN   \n",
       "\n",
       "  Alarme Trava elétrica Vidro elétrico   Som Sensor de ré Câmera de ré  \\\n",
       "0    NaN            NaN            NaN   NaN          NaN          NaN   \n",
       "1    NaN            NaN            NaN   NaN          NaN          NaN   \n",
       "2   True            NaN           True  True         True         True   \n",
       "3   True           True           True  True          NaN          NaN   \n",
       "4   True           True           True  True         True          NaN   \n",
       "\n",
       "  Blindado       Preço   Modelo  Dias  KmLimite  \n",
       "0      NaN        R$ 0     L200     3      1050  \n",
       "1      NaN   R$ 50.000      156  4021   1407350  \n",
       "2      NaN  R$ 139.800  COMPASS  2194    767900  \n",
       "3      NaN   R$ 49.900  SAVEIRO  3290   1151500  \n",
       "4      NaN   R$ 47.900    ETIOS  2925   1023750  "
      ]
     },
     "execution_count": 68,
     "metadata": {},
     "output_type": "execute_result"
    }
   ],
   "source": [
    "df.rename({'Único dono':'UnicoDono'}, axis=1, inplace=True)\n",
    "\n",
    "df.iloc[:,11:].head()"
   ]
  },
  {
   "cell_type": "markdown",
   "id": "3807840b",
   "metadata": {},
   "source": [
    "## Aceita trocas"
   ]
  },
  {
   "cell_type": "code",
   "execution_count": 69,
   "id": "5a133f05",
   "metadata": {},
   "outputs": [
    {
     "data": {
      "text/plain": [
       "count     3456\n",
       "unique       2\n",
       "top        Sim\n",
       "freq      3288\n",
       "Name: Aceita trocas, dtype: object"
      ]
     },
     "execution_count": 69,
     "metadata": {},
     "output_type": "execute_result"
    }
   ],
   "source": [
    "df['Aceita trocas'].describe()"
   ]
  },
  {
   "cell_type": "code",
   "execution_count": 70,
   "id": "fb27460a",
   "metadata": {},
   "outputs": [
    {
     "data": {
      "text/plain": [
       "array(['Sim', nan, 'Não'], dtype=object)"
      ]
     },
     "execution_count": 70,
     "metadata": {},
     "output_type": "execute_result"
    }
   ],
   "source": [
    "df['Aceita trocas'].unique()"
   ]
  },
  {
   "cell_type": "code",
   "execution_count": 71,
   "id": "d106eee0",
   "metadata": {},
   "outputs": [
    {
     "data": {
      "image/png": "[encoded data removed]",
      "text/plain": [
       "<Figure size 360x360 with 1 Axes>"
      ]
     },
     "metadata": {
      "needs_background": "light"
     },
     "output_type": "display_data"
    }
   ],
   "source": [
    "plt.figure(figsize=(5,5))\n",
    "ax = sns.barplot(x=df['Aceita trocas'].value_counts().index, y=df['Aceita trocas'].value_counts())\n",
    "\n",
    "for i in ax.containers:\n",
    "    ax.bar_label(i,)"
   ]
  },
  {
   "cell_type": "markdown",
   "id": "7e4e1066",
   "metadata": {},
   "source": [
    "**D**: O que fazer com os valores faltantes? Criar um campo chamado \"Não informado\"? Atribuí-los para a categoria predominante?"
   ]
  },
  {
   "cell_type": "markdown",
   "id": "d28b409c",
   "metadata": {},
   "source": [
    "Por fim, a feature será renomeada para facilitar sua manipulação pela biblioteca Pandas."
   ]
  },
  {
   "cell_type": "code",
   "execution_count": 72,
   "id": "57054449",
   "metadata": {},
   "outputs": [
    {
     "data": {
      "text/html": [
       "<div>\n",
       "<style scoped>\n",
       "    .dataframe tbody tr th:only-of-type {\n",
       "        vertical-align: middle;\n",
       "    }\n",
       "\n",
       "    .dataframe tbody tr th {\n",
       "        vertical-align: top;\n",
       "    }\n",
       "\n",
       "    .dataframe thead th {\n",
       "        text-align: right;\n",
       "    }\n",
       "</style>\n",
       "<table border=\"1\" class=\"dataframe\">\n",
       "  <thead>\n",
       "    <tr style=\"text-align: right;\">\n",
       "      <th></th>\n",
       "      <th>FinalDePlaca</th>\n",
       "      <th>Portas</th>\n",
       "      <th>UnicoDono</th>\n",
       "      <th>AceitaTrocas</th>\n",
       "      <th>Ar condicionado</th>\n",
       "      <th>Air bag</th>\n",
       "      <th>Alarme</th>\n",
       "      <th>Trava elétrica</th>\n",
       "      <th>Vidro elétrico</th>\n",
       "      <th>Som</th>\n",
       "      <th>Sensor de ré</th>\n",
       "      <th>Câmera de ré</th>\n",
       "      <th>Blindado</th>\n",
       "      <th>Preço</th>\n",
       "      <th>Modelo</th>\n",
       "      <th>Dias</th>\n",
       "      <th>KmLimite</th>\n",
       "    </tr>\n",
       "  </thead>\n",
       "  <tbody>\n",
       "    <tr>\n",
       "      <th>0</th>\n",
       "      <td>1.0</td>\n",
       "      <td>4 portas</td>\n",
       "      <td>NaN</td>\n",
       "      <td>Sim</td>\n",
       "      <td>NaN</td>\n",
       "      <td>NaN</td>\n",
       "      <td>NaN</td>\n",
       "      <td>NaN</td>\n",
       "      <td>NaN</td>\n",
       "      <td>NaN</td>\n",
       "      <td>NaN</td>\n",
       "      <td>NaN</td>\n",
       "      <td>NaN</td>\n",
       "      <td>R$ 0</td>\n",
       "      <td>L200</td>\n",
       "      <td>3</td>\n",
       "      <td>1050</td>\n",
       "    </tr>\n",
       "    <tr>\n",
       "      <th>1</th>\n",
       "      <td>NaN</td>\n",
       "      <td>NaN</td>\n",
       "      <td>NaN</td>\n",
       "      <td>NaN</td>\n",
       "      <td>NaN</td>\n",
       "      <td>NaN</td>\n",
       "      <td>NaN</td>\n",
       "      <td>NaN</td>\n",
       "      <td>NaN</td>\n",
       "      <td>NaN</td>\n",
       "      <td>NaN</td>\n",
       "      <td>NaN</td>\n",
       "      <td>NaN</td>\n",
       "      <td>R$ 50.000</td>\n",
       "      <td>156</td>\n",
       "      <td>4021</td>\n",
       "      <td>1407350</td>\n",
       "    </tr>\n",
       "    <tr>\n",
       "      <th>2</th>\n",
       "      <td>0.0</td>\n",
       "      <td>NaN</td>\n",
       "      <td>NaN</td>\n",
       "      <td>Sim</td>\n",
       "      <td>True</td>\n",
       "      <td>True</td>\n",
       "      <td>True</td>\n",
       "      <td>NaN</td>\n",
       "      <td>True</td>\n",
       "      <td>True</td>\n",
       "      <td>True</td>\n",
       "      <td>True</td>\n",
       "      <td>NaN</td>\n",
       "      <td>R$ 139.800</td>\n",
       "      <td>COMPASS</td>\n",
       "      <td>2194</td>\n",
       "      <td>767900</td>\n",
       "    </tr>\n",
       "    <tr>\n",
       "      <th>3</th>\n",
       "      <td>9.0</td>\n",
       "      <td>2 portas</td>\n",
       "      <td>Não</td>\n",
       "      <td>Sim</td>\n",
       "      <td>True</td>\n",
       "      <td>True</td>\n",
       "      <td>True</td>\n",
       "      <td>True</td>\n",
       "      <td>True</td>\n",
       "      <td>True</td>\n",
       "      <td>NaN</td>\n",
       "      <td>NaN</td>\n",
       "      <td>NaN</td>\n",
       "      <td>R$ 49.900</td>\n",
       "      <td>SAVEIRO</td>\n",
       "      <td>3290</td>\n",
       "      <td>1151500</td>\n",
       "    </tr>\n",
       "    <tr>\n",
       "      <th>4</th>\n",
       "      <td>3.0</td>\n",
       "      <td>NaN</td>\n",
       "      <td>NaN</td>\n",
       "      <td>Sim</td>\n",
       "      <td>True</td>\n",
       "      <td>NaN</td>\n",
       "      <td>True</td>\n",
       "      <td>True</td>\n",
       "      <td>True</td>\n",
       "      <td>True</td>\n",
       "      <td>True</td>\n",
       "      <td>NaN</td>\n",
       "      <td>NaN</td>\n",
       "      <td>R$ 47.900</td>\n",
       "      <td>ETIOS</td>\n",
       "      <td>2925</td>\n",
       "      <td>1023750</td>\n",
       "    </tr>\n",
       "  </tbody>\n",
       "</table>\n",
       "</div>"
      ],
      "text/plain": [
       "   FinalDePlaca    Portas UnicoDono AceitaTrocas Ar condicionado Air bag  \\\n",
       "0           1.0  4 portas       NaN          Sim             NaN     NaN   \n",
       "1           NaN       NaN       NaN          NaN             NaN     NaN   \n",
       "2           0.0       NaN       NaN          Sim            True    True   \n",
       "3           9.0  2 portas       Não          Sim            True    True   \n",
       "4           3.0       NaN       NaN          Sim            True     NaN   \n",
       "\n",
       "  Alarme Trava elétrica Vidro elétrico   Som Sensor de ré Câmera de ré  \\\n",
       "0    NaN            NaN            NaN   NaN          NaN          NaN   \n",
       "1    NaN            NaN            NaN   NaN          NaN          NaN   \n",
       "2   True            NaN           True  True         True         True   \n",
       "3   True           True           True  True          NaN          NaN   \n",
       "4   True           True           True  True         True          NaN   \n",
       "\n",
       "  Blindado       Preço   Modelo  Dias  KmLimite  \n",
       "0      NaN        R$ 0     L200     3      1050  \n",
       "1      NaN   R$ 50.000      156  4021   1407350  \n",
       "2      NaN  R$ 139.800  COMPASS  2194    767900  \n",
       "3      NaN   R$ 49.900  SAVEIRO  3290   1151500  \n",
       "4      NaN   R$ 47.900    ETIOS  2925   1023750  "
      ]
     },
     "execution_count": 72,
     "metadata": {},
     "output_type": "execute_result"
    }
   ],
   "source": [
    "df.rename({'Aceita trocas':'AceitaTrocas'}, axis=1, inplace=True)\n",
    "\n",
    "df.iloc[:,11:].head()"
   ]
  },
  {
   "cell_type": "markdown",
   "id": "580fc080",
   "metadata": {},
   "source": [
    "## Opcionais\n",
    "\n",
    "As features Ar condicionado, Air bag, Alarme, Trava elétrica, Vidro elétrico, Som, Sensor de ré, Câmera de ré e Blindado constituem items opcionais do veículo, que podem ou não ter sido informados por seus proprietários. Todos esses campos possuem apenas dois valores: Sim ou NaN, para o caso em que o item não foi informado."
   ]
  },
  {
   "cell_type": "code",
   "execution_count": 73,
   "id": "b188bb79",
   "metadata": {},
   "outputs": [
    {
     "data": {
      "text/html": [
       "<div>\n",
       "<style scoped>\n",
       "    .dataframe tbody tr th:only-of-type {\n",
       "        vertical-align: middle;\n",
       "    }\n",
       "\n",
       "    .dataframe tbody tr th {\n",
       "        vertical-align: top;\n",
       "    }\n",
       "\n",
       "    .dataframe thead th {\n",
       "        text-align: right;\n",
       "    }\n",
       "</style>\n",
       "<table border=\"1\" class=\"dataframe\">\n",
       "  <thead>\n",
       "    <tr style=\"text-align: right;\">\n",
       "      <th></th>\n",
       "      <th>Ar condicionado</th>\n",
       "      <th>Air bag</th>\n",
       "      <th>Alarme</th>\n",
       "      <th>Trava elétrica</th>\n",
       "      <th>Vidro elétrico</th>\n",
       "      <th>Som</th>\n",
       "      <th>Sensor de ré</th>\n",
       "      <th>Câmera de ré</th>\n",
       "      <th>Blindado</th>\n",
       "    </tr>\n",
       "  </thead>\n",
       "  <tbody>\n",
       "    <tr>\n",
       "      <th>0</th>\n",
       "      <td>False</td>\n",
       "      <td>False</td>\n",
       "      <td>False</td>\n",
       "      <td>False</td>\n",
       "      <td>False</td>\n",
       "      <td>False</td>\n",
       "      <td>False</td>\n",
       "      <td>False</td>\n",
       "      <td>False</td>\n",
       "    </tr>\n",
       "    <tr>\n",
       "      <th>1</th>\n",
       "      <td>False</td>\n",
       "      <td>False</td>\n",
       "      <td>False</td>\n",
       "      <td>False</td>\n",
       "      <td>False</td>\n",
       "      <td>False</td>\n",
       "      <td>False</td>\n",
       "      <td>False</td>\n",
       "      <td>False</td>\n",
       "    </tr>\n",
       "    <tr>\n",
       "      <th>2</th>\n",
       "      <td>True</td>\n",
       "      <td>True</td>\n",
       "      <td>True</td>\n",
       "      <td>False</td>\n",
       "      <td>True</td>\n",
       "      <td>True</td>\n",
       "      <td>True</td>\n",
       "      <td>True</td>\n",
       "      <td>False</td>\n",
       "    </tr>\n",
       "    <tr>\n",
       "      <th>3</th>\n",
       "      <td>True</td>\n",
       "      <td>True</td>\n",
       "      <td>True</td>\n",
       "      <td>True</td>\n",
       "      <td>True</td>\n",
       "      <td>True</td>\n",
       "      <td>False</td>\n",
       "      <td>False</td>\n",
       "      <td>False</td>\n",
       "    </tr>\n",
       "    <tr>\n",
       "      <th>4</th>\n",
       "      <td>True</td>\n",
       "      <td>False</td>\n",
       "      <td>True</td>\n",
       "      <td>True</td>\n",
       "      <td>True</td>\n",
       "      <td>True</td>\n",
       "      <td>True</td>\n",
       "      <td>False</td>\n",
       "      <td>False</td>\n",
       "    </tr>\n",
       "  </tbody>\n",
       "</table>\n",
       "</div>"
      ],
      "text/plain": [
       "   Ar condicionado  Air bag  Alarme  Trava elétrica  Vidro elétrico    Som  \\\n",
       "0            False    False   False           False           False  False   \n",
       "1            False    False   False           False           False  False   \n",
       "2             True     True    True           False            True   True   \n",
       "3             True     True    True            True            True   True   \n",
       "4             True    False    True            True            True   True   \n",
       "\n",
       "   Sensor de ré  Câmera de ré  Blindado  \n",
       "0         False         False     False  \n",
       "1         False         False     False  \n",
       "2          True          True     False  \n",
       "3         False         False     False  \n",
       "4          True         False     False  "
      ]
     },
     "execution_count": 73,
     "metadata": {},
     "output_type": "execute_result"
    }
   ],
   "source": [
    "opcionais = ['Ar condicionado', 'Air bag', 'Alarme', 'Trava elétrica', 'Vidro elétrico', 'Som', \n",
    "             'Sensor de ré', 'Câmera de ré', 'Blindado']\n",
    "\n",
    "df[opcionais] = df[opcionais].fillna(False)\n",
    "\n",
    "df[opcionais].head()"
   ]
  },
  {
   "cell_type": "code",
   "execution_count": 74,
   "id": "11bd71cc",
   "metadata": {},
   "outputs": [
    {
     "data": {
      "image/png": "[encoded data removed]",
      "text/plain": [
       "<Figure size 1080x1080 with 9 Axes>"
      ]
     },
     "metadata": {
      "needs_background": "light"
     },
     "output_type": "display_data"
    }
   ],
   "source": [
    "fig, axes = plt.subplot_mosaic([[opcionais[0], opcionais[1], opcionais[2]],\n",
    "                                [opcionais[3], opcionais[4], opcionais[5]],\n",
    "                                [opcionais[6], opcionais[7], opcionais[8]]], figsize=(15,15))\n",
    "\n",
    "for i, op in enumerate(opcionais):\n",
    "    ax = sns.barplot(x=df[op].value_counts().index, y=df[op].value_counts(), ax=axes[op]);\n",
    "    for j in ax.containers:\n",
    "        ax.bar_label(j,)"
   ]
  },
  {
   "cell_type": "markdown",
   "id": "42a208ea",
   "metadata": {},
   "source": [
    "Por fim, o nome das features será renomeado para facilitar sua manipulação pela biblioteca Pandas."
   ]
  },
  {
   "cell_type": "code",
   "execution_count": 75,
   "id": "b91cc655",
   "metadata": {},
   "outputs": [
    {
     "data": {
      "text/html": [
       "<div>\n",
       "<style scoped>\n",
       "    .dataframe tbody tr th:only-of-type {\n",
       "        vertical-align: middle;\n",
       "    }\n",
       "\n",
       "    .dataframe tbody tr th {\n",
       "        vertical-align: top;\n",
       "    }\n",
       "\n",
       "    .dataframe thead th {\n",
       "        text-align: right;\n",
       "    }\n",
       "</style>\n",
       "<table border=\"1\" class=\"dataframe\">\n",
       "  <thead>\n",
       "    <tr style=\"text-align: right;\">\n",
       "      <th></th>\n",
       "      <th>FinalDePlaca</th>\n",
       "      <th>Portas</th>\n",
       "      <th>UnicoDono</th>\n",
       "      <th>AceitaTrocas</th>\n",
       "      <th>ArCondicionado</th>\n",
       "      <th>AirBag</th>\n",
       "      <th>Alarme</th>\n",
       "      <th>TravaEletrica</th>\n",
       "      <th>VidroEletrico</th>\n",
       "      <th>Som</th>\n",
       "      <th>SensorDeRe</th>\n",
       "      <th>CameraDeRe</th>\n",
       "      <th>Blindado</th>\n",
       "      <th>Preço</th>\n",
       "      <th>Modelo</th>\n",
       "      <th>Dias</th>\n",
       "      <th>KmLimite</th>\n",
       "    </tr>\n",
       "  </thead>\n",
       "  <tbody>\n",
       "    <tr>\n",
       "      <th>0</th>\n",
       "      <td>1.0</td>\n",
       "      <td>4 portas</td>\n",
       "      <td>NaN</td>\n",
       "      <td>Sim</td>\n",
       "      <td>False</td>\n",
       "      <td>False</td>\n",
       "      <td>False</td>\n",
       "      <td>False</td>\n",
       "      <td>False</td>\n",
       "      <td>False</td>\n",
       "      <td>False</td>\n",
       "      <td>False</td>\n",
       "      <td>False</td>\n",
       "      <td>R$ 0</td>\n",
       "      <td>L200</td>\n",
       "      <td>3</td>\n",
       "      <td>1050</td>\n",
       "    </tr>\n",
       "    <tr>\n",
       "      <th>1</th>\n",
       "      <td>NaN</td>\n",
       "      <td>NaN</td>\n",
       "      <td>NaN</td>\n",
       "      <td>NaN</td>\n",
       "      <td>False</td>\n",
       "      <td>False</td>\n",
       "      <td>False</td>\n",
       "      <td>False</td>\n",
       "      <td>False</td>\n",
       "      <td>False</td>\n",
       "      <td>False</td>\n",
       "      <td>False</td>\n",
       "      <td>False</td>\n",
       "      <td>R$ 50.000</td>\n",
       "      <td>156</td>\n",
       "      <td>4021</td>\n",
       "      <td>1407350</td>\n",
       "    </tr>\n",
       "    <tr>\n",
       "      <th>2</th>\n",
       "      <td>0.0</td>\n",
       "      <td>NaN</td>\n",
       "      <td>NaN</td>\n",
       "      <td>Sim</td>\n",
       "      <td>True</td>\n",
       "      <td>True</td>\n",
       "      <td>True</td>\n",
       "      <td>False</td>\n",
       "      <td>True</td>\n",
       "      <td>True</td>\n",
       "      <td>True</td>\n",
       "      <td>True</td>\n",
       "      <td>False</td>\n",
       "      <td>R$ 139.800</td>\n",
       "      <td>COMPASS</td>\n",
       "      <td>2194</td>\n",
       "      <td>767900</td>\n",
       "    </tr>\n",
       "    <tr>\n",
       "      <th>3</th>\n",
       "      <td>9.0</td>\n",
       "      <td>2 portas</td>\n",
       "      <td>Não</td>\n",
       "      <td>Sim</td>\n",
       "      <td>True</td>\n",
       "      <td>True</td>\n",
       "      <td>True</td>\n",
       "      <td>True</td>\n",
       "      <td>True</td>\n",
       "      <td>True</td>\n",
       "      <td>False</td>\n",
       "      <td>False</td>\n",
       "      <td>False</td>\n",
       "      <td>R$ 49.900</td>\n",
       "      <td>SAVEIRO</td>\n",
       "      <td>3290</td>\n",
       "      <td>1151500</td>\n",
       "    </tr>\n",
       "    <tr>\n",
       "      <th>4</th>\n",
       "      <td>3.0</td>\n",
       "      <td>NaN</td>\n",
       "      <td>NaN</td>\n",
       "      <td>Sim</td>\n",
       "      <td>True</td>\n",
       "      <td>False</td>\n",
       "      <td>True</td>\n",
       "      <td>True</td>\n",
       "      <td>True</td>\n",
       "      <td>True</td>\n",
       "      <td>True</td>\n",
       "      <td>False</td>\n",
       "      <td>False</td>\n",
       "      <td>R$ 47.900</td>\n",
       "      <td>ETIOS</td>\n",
       "      <td>2925</td>\n",
       "      <td>1023750</td>\n",
       "    </tr>\n",
       "  </tbody>\n",
       "</table>\n",
       "</div>"
      ],
      "text/plain": [
       "   FinalDePlaca    Portas UnicoDono AceitaTrocas  ArCondicionado  AirBag  \\\n",
       "0           1.0  4 portas       NaN          Sim           False   False   \n",
       "1           NaN       NaN       NaN          NaN           False   False   \n",
       "2           0.0       NaN       NaN          Sim            True    True   \n",
       "3           9.0  2 portas       Não          Sim            True    True   \n",
       "4           3.0       NaN       NaN          Sim            True   False   \n",
       "\n",
       "   Alarme  TravaEletrica  VidroEletrico    Som  SensorDeRe  CameraDeRe  \\\n",
       "0   False          False          False  False       False       False   \n",
       "1   False          False          False  False       False       False   \n",
       "2    True          False           True   True        True        True   \n",
       "3    True           True           True   True       False       False   \n",
       "4    True           True           True   True        True       False   \n",
       "\n",
       "   Blindado       Preço   Modelo  Dias  KmLimite  \n",
       "0     False        R$ 0     L200     3      1050  \n",
       "1     False   R$ 50.000      156  4021   1407350  \n",
       "2     False  R$ 139.800  COMPASS  2194    767900  \n",
       "3     False   R$ 49.900  SAVEIRO  3290   1151500  \n",
       "4     False   R$ 47.900    ETIOS  2925   1023750  "
      ]
     },
     "execution_count": 75,
     "metadata": {},
     "output_type": "execute_result"
    }
   ],
   "source": [
    "df.rename({'Ar condicionado':'ArCondicionado', 'Air bag':'AirBag', 'Trava elétrica':'TravaEletrica',\n",
    "           'Vidro elétrico':'VidroEletrico', 'Sensor de ré':'SensorDeRe', 'Câmera de ré':'CameraDeRe'},\n",
    "          axis=1, inplace=True)\n",
    "\n",
    "df.iloc[:,11:].head()"
   ]
  },
  {
   "cell_type": "markdown",
   "id": "06999c34",
   "metadata": {},
   "source": [
    "## Preço"
   ]
  },
  {
   "cell_type": "code",
   "execution_count": 76,
   "id": "e0bb8490",
   "metadata": {},
   "outputs": [
    {
     "data": {
      "text/plain": [
       "count          5235\n",
       "unique         1474\n",
       "top       R$ 59.900\n",
       "freq             59\n",
       "Name: Preço, dtype: object"
      ]
     },
     "execution_count": 76,
     "metadata": {},
     "output_type": "execute_result"
    }
   ],
   "source": [
    "df['Preço'].describe()"
   ]
  },
  {
   "cell_type": "markdown",
   "id": "2dd1fe53",
   "metadata": {},
   "source": [
    "Temos 96 valores faltantes para o preço. Por se tratar da variável mais importante do dataset, essas observações serão excluídas da base:"
   ]
  },
  {
   "cell_type": "code",
   "execution_count": 77,
   "id": "67c80c34",
   "metadata": {},
   "outputs": [
    {
     "data": {
      "text/plain": [
       "5235"
      ]
     },
     "execution_count": 77,
     "metadata": {},
     "output_type": "execute_result"
    }
   ],
   "source": [
    "df = df.dropna(subset=['Preço']).reset_index(drop=True)\n",
    "\n",
    "len(df)"
   ]
  },
  {
   "cell_type": "markdown",
   "id": "9644c2c4",
   "metadata": {},
   "source": [
    "Em seguida, os valores de preço serão convertidos para o formato float, facilitando as análises:"
   ]
  },
  {
   "cell_type": "code",
   "execution_count": 78,
   "id": "4374e580",
   "metadata": {},
   "outputs": [
    {
     "data": {
      "text/plain": [
       "0         0.0\n",
       "1     50000.0\n",
       "2    139800.0\n",
       "3     49900.0\n",
       "4     47900.0\n",
       "Name: Preço, dtype: float64"
      ]
     },
     "execution_count": 78,
     "metadata": {},
     "output_type": "execute_result"
    }
   ],
   "source": [
    "df['Preço'] = df['Preço'].apply(lambda x: float(x.split(' ')[1].replace('.', '')))\n",
    "\n",
    "df['Preço'].head()"
   ]
  },
  {
   "cell_type": "code",
   "execution_count": 79,
   "id": "c754f554",
   "metadata": {},
   "outputs": [
    {
     "data": {
      "text/plain": [
       "count    5.235000e+03\n",
       "mean     9.025470e+04\n",
       "std      7.400174e+04\n",
       "min      0.000000e+00\n",
       "25%      4.890000e+04\n",
       "50%      7.190000e+04\n",
       "75%      1.059400e+05\n",
       "max      1.890000e+06\n",
       "Name: Preço, dtype: float64"
      ]
     },
     "execution_count": 79,
     "metadata": {},
     "output_type": "execute_result"
    }
   ],
   "source": [
    "df['Preço'].describe()"
   ]
  },
  {
   "cell_type": "code",
   "execution_count": 80,
   "id": "9f95eeee",
   "metadata": {},
   "outputs": [
    {
     "data": {
      "image/png": "[encoded data removed]",
      "text/plain": [
       "<Figure size 1080x360 with 2 Axes>"
      ]
     },
     "metadata": {
      "needs_background": "light"
     },
     "output_type": "display_data"
    }
   ],
   "source": [
    "fig, axes = plt.subplot_mosaic([['left', 'right']], figsize=(15,5))\n",
    "\n",
    "sns.boxplot(y=df['Preço'], ax=axes['left']);\n",
    "sns.kdeplot(x=df['Preço'], ax=axes['right']);"
   ]
  },
  {
   "cell_type": "code",
   "execution_count": 81,
   "id": "edb5ea8c",
   "metadata": {},
   "outputs": [
    {
     "data": {
      "text/plain": [
       "23"
      ]
     },
     "execution_count": 81,
     "metadata": {},
     "output_type": "execute_result"
    }
   ],
   "source": [
    "len(df.loc[df['Preço']<=0])"
   ]
  },
  {
   "cell_type": "markdown",
   "id": "469d1ccc",
   "metadata": {},
   "source": [
    "Temos 23 colunas onde o preço do carro é igual a 0. Esse é obviamente um erro de anotação, e também deve ser desconsiderado do dataset."
   ]
  },
  {
   "cell_type": "code",
   "execution_count": 82,
   "id": "80822f06",
   "metadata": {},
   "outputs": [
    {
     "data": {
      "text/plain": [
       "5212"
      ]
     },
     "execution_count": 82,
     "metadata": {},
     "output_type": "execute_result"
    }
   ],
   "source": [
    "df = df.drop(df.loc[df['Preço']<=0].index).reset_index(drop=True)\n",
    "\n",
    "len(df)"
   ]
  },
  {
   "cell_type": "code",
   "execution_count": 83,
   "id": "3f03f7a8",
   "metadata": {},
   "outputs": [
    {
     "data": {
      "text/plain": [
       "count    5.212000e+03\n",
       "mean     9.065298e+04\n",
       "std      7.392101e+04\n",
       "min      7.500000e+02\n",
       "25%      4.949000e+04\n",
       "50%      7.199000e+04\n",
       "75%      1.062488e+05\n",
       "max      1.890000e+06\n",
       "Name: Preço, dtype: float64"
      ]
     },
     "execution_count": 83,
     "metadata": {},
     "output_type": "execute_result"
    }
   ],
   "source": [
    "df['Preço'].describe()"
   ]
  },
  {
   "cell_type": "markdown",
   "id": "154fe7d4",
   "metadata": {},
   "source": [
    "Por fim, a feature será renomeada para facilitar sua manipulação pela biblioteca Pandas."
   ]
  },
  {
   "cell_type": "code",
   "execution_count": 84,
   "id": "294a98a0",
   "metadata": {},
   "outputs": [
    {
     "data": {
      "text/html": [
       "<div>\n",
       "<style scoped>\n",
       "    .dataframe tbody tr th:only-of-type {\n",
       "        vertical-align: middle;\n",
       "    }\n",
       "\n",
       "    .dataframe tbody tr th {\n",
       "        vertical-align: top;\n",
       "    }\n",
       "\n",
       "    .dataframe thead th {\n",
       "        text-align: right;\n",
       "    }\n",
       "</style>\n",
       "<table border=\"1\" class=\"dataframe\">\n",
       "  <thead>\n",
       "    <tr style=\"text-align: right;\">\n",
       "      <th></th>\n",
       "      <th>FinalDePlaca</th>\n",
       "      <th>Portas</th>\n",
       "      <th>UnicoDono</th>\n",
       "      <th>AceitaTrocas</th>\n",
       "      <th>ArCondicionado</th>\n",
       "      <th>AirBag</th>\n",
       "      <th>Alarme</th>\n",
       "      <th>TravaEletrica</th>\n",
       "      <th>VidroEletrico</th>\n",
       "      <th>Som</th>\n",
       "      <th>SensorDeRe</th>\n",
       "      <th>CameraDeRe</th>\n",
       "      <th>Blindado</th>\n",
       "      <th>Preco</th>\n",
       "      <th>Modelo</th>\n",
       "      <th>Dias</th>\n",
       "      <th>KmLimite</th>\n",
       "    </tr>\n",
       "  </thead>\n",
       "  <tbody>\n",
       "    <tr>\n",
       "      <th>0</th>\n",
       "      <td>NaN</td>\n",
       "      <td>NaN</td>\n",
       "      <td>NaN</td>\n",
       "      <td>NaN</td>\n",
       "      <td>False</td>\n",
       "      <td>False</td>\n",
       "      <td>False</td>\n",
       "      <td>False</td>\n",
       "      <td>False</td>\n",
       "      <td>False</td>\n",
       "      <td>False</td>\n",
       "      <td>False</td>\n",
       "      <td>False</td>\n",
       "      <td>50000.0</td>\n",
       "      <td>156</td>\n",
       "      <td>4021</td>\n",
       "      <td>1407350</td>\n",
       "    </tr>\n",
       "    <tr>\n",
       "      <th>1</th>\n",
       "      <td>0.0</td>\n",
       "      <td>NaN</td>\n",
       "      <td>NaN</td>\n",
       "      <td>Sim</td>\n",
       "      <td>True</td>\n",
       "      <td>True</td>\n",
       "      <td>True</td>\n",
       "      <td>False</td>\n",
       "      <td>True</td>\n",
       "      <td>True</td>\n",
       "      <td>True</td>\n",
       "      <td>True</td>\n",
       "      <td>False</td>\n",
       "      <td>139800.0</td>\n",
       "      <td>COMPASS</td>\n",
       "      <td>2194</td>\n",
       "      <td>767900</td>\n",
       "    </tr>\n",
       "    <tr>\n",
       "      <th>2</th>\n",
       "      <td>9.0</td>\n",
       "      <td>2 portas</td>\n",
       "      <td>Não</td>\n",
       "      <td>Sim</td>\n",
       "      <td>True</td>\n",
       "      <td>True</td>\n",
       "      <td>True</td>\n",
       "      <td>True</td>\n",
       "      <td>True</td>\n",
       "      <td>True</td>\n",
       "      <td>False</td>\n",
       "      <td>False</td>\n",
       "      <td>False</td>\n",
       "      <td>49900.0</td>\n",
       "      <td>SAVEIRO</td>\n",
       "      <td>3290</td>\n",
       "      <td>1151500</td>\n",
       "    </tr>\n",
       "    <tr>\n",
       "      <th>3</th>\n",
       "      <td>3.0</td>\n",
       "      <td>NaN</td>\n",
       "      <td>NaN</td>\n",
       "      <td>Sim</td>\n",
       "      <td>True</td>\n",
       "      <td>False</td>\n",
       "      <td>True</td>\n",
       "      <td>True</td>\n",
       "      <td>True</td>\n",
       "      <td>True</td>\n",
       "      <td>True</td>\n",
       "      <td>False</td>\n",
       "      <td>False</td>\n",
       "      <td>47900.0</td>\n",
       "      <td>ETIOS</td>\n",
       "      <td>2925</td>\n",
       "      <td>1023750</td>\n",
       "    </tr>\n",
       "    <tr>\n",
       "      <th>4</th>\n",
       "      <td>3.0</td>\n",
       "      <td>4 portas</td>\n",
       "      <td>NaN</td>\n",
       "      <td>NaN</td>\n",
       "      <td>True</td>\n",
       "      <td>True</td>\n",
       "      <td>True</td>\n",
       "      <td>True</td>\n",
       "      <td>True</td>\n",
       "      <td>False</td>\n",
       "      <td>True</td>\n",
       "      <td>False</td>\n",
       "      <td>False</td>\n",
       "      <td>98900.0</td>\n",
       "      <td>POLO</td>\n",
       "      <td>733</td>\n",
       "      <td>256550</td>\n",
       "    </tr>\n",
       "  </tbody>\n",
       "</table>\n",
       "</div>"
      ],
      "text/plain": [
       "   FinalDePlaca    Portas UnicoDono AceitaTrocas  ArCondicionado  AirBag  \\\n",
       "0           NaN       NaN       NaN          NaN           False   False   \n",
       "1           0.0       NaN       NaN          Sim            True    True   \n",
       "2           9.0  2 portas       Não          Sim            True    True   \n",
       "3           3.0       NaN       NaN          Sim            True   False   \n",
       "4           3.0  4 portas       NaN          NaN            True    True   \n",
       "\n",
       "   Alarme  TravaEletrica  VidroEletrico    Som  SensorDeRe  CameraDeRe  \\\n",
       "0   False          False          False  False       False       False   \n",
       "1    True          False           True   True        True        True   \n",
       "2    True           True           True   True       False       False   \n",
       "3    True           True           True   True        True       False   \n",
       "4    True           True           True  False        True       False   \n",
       "\n",
       "   Blindado     Preco   Modelo  Dias  KmLimite  \n",
       "0     False   50000.0      156  4021   1407350  \n",
       "1     False  139800.0  COMPASS  2194    767900  \n",
       "2     False   49900.0  SAVEIRO  3290   1151500  \n",
       "3     False   47900.0    ETIOS  2925   1023750  \n",
       "4     False   98900.0     POLO   733    256550  "
      ]
     },
     "execution_count": 84,
     "metadata": {},
     "output_type": "execute_result"
    }
   ],
   "source": [
    "df.rename({'Preço':'Preco'}, axis=1, inplace=True)\n",
    "\n",
    "df.iloc[:,11:].head()"
   ]
  },
  {
   "cell_type": "markdown",
   "id": "cda8c138",
   "metadata": {},
   "source": [
    "## Dataframe após a verificação de consistência dos dados"
   ]
  },
  {
   "cell_type": "code",
   "execution_count": 85,
   "id": "be97db39",
   "metadata": {},
   "outputs": [
    {
     "name": "stdout",
     "output_type": "stream",
     "text": [
      "<class 'pandas.core.frame.DataFrame'>\n",
      "RangeIndex: 5212 entries, 0 to 5211\n",
      "Data columns (total 28 columns):\n",
      " #   Column          Non-Null Count  Dtype  \n",
      "---  ------          --------------  -----  \n",
      " 0   Marca           5207 non-null   object \n",
      " 1   Descricao       5212 non-null   object \n",
      " 2   Tipo            4288 non-null   object \n",
      " 3   Ano             5212 non-null   int64  \n",
      " 4   UF              5212 non-null   object \n",
      " 5   Km              5212 non-null   int64  \n",
      " 6   Potencia        3964 non-null   object \n",
      " 7   Combustivel     5162 non-null   object \n",
      " 8   Cambio          5183 non-null   object \n",
      " 9   Direcao         4094 non-null   object \n",
      " 10  Cor             4327 non-null   object \n",
      " 11  FinalDePlaca    4433 non-null   float64\n",
      " 12  Portas          5067 non-null   object \n",
      " 13  UnicoDono       2962 non-null   object \n",
      " 14  AceitaTrocas    3357 non-null   object \n",
      " 15  ArCondicionado  5212 non-null   bool   \n",
      " 16  AirBag          5212 non-null   bool   \n",
      " 17  Alarme          5212 non-null   bool   \n",
      " 18  TravaEletrica   5212 non-null   bool   \n",
      " 19  VidroEletrico   5212 non-null   bool   \n",
      " 20  Som             5212 non-null   bool   \n",
      " 21  SensorDeRe      5212 non-null   bool   \n",
      " 22  CameraDeRe      5212 non-null   bool   \n",
      " 23  Blindado        5212 non-null   bool   \n",
      " 24  Preco           5212 non-null   float64\n",
      " 25  Modelo          5212 non-null   object \n",
      " 26  Dias            5212 non-null   int64  \n",
      " 27  KmLimite        5212 non-null   int64  \n",
      "dtypes: bool(9), float64(2), int64(4), object(13)\n",
      "memory usage: 819.6+ KB\n"
     ]
    }
   ],
   "source": [
    "df.info()"
   ]
  },
  {
   "cell_type": "code",
   "execution_count": 87,
   "id": "718a665f",
   "metadata": {},
   "outputs": [],
   "source": [
    "df.to_csv('cars_data_cleaned.csv', index=False)"
   ]
  }
 ],
 "metadata": {
  "kernelspec": {
   "display_name": "Python 3 (ipykernel)",
   "language": "python",
   "name": "python3"
  },
  "language_info": {
   "codemirror_mode": {
    "name": "ipython",
    "version": 3
   },
   "file_extension": ".py",
   "mimetype": "text/x-python",
   "name": "python",
   "nbconvert_exporter": "python",
   "pygments_lexer": "ipython3",
   "version": "3.8.5"
  }
 },
 "nbformat": 4,
 "nbformat_minor": 5
}
