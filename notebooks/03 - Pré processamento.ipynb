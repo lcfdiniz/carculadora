{
 "cells": [
  {
   "cell_type": "code",
   "execution_count": 36,
   "id": "4546d0a1",
   "metadata": {},
   "outputs": [],
   "source": [
    "import pandas as pd\n",
    "import seaborn as sns\n",
    "import matplotlib.pyplot as plt\n",
    "import numpy as np\n",
    "import math"
   ]
  },
  {
   "cell_type": "markdown",
   "id": "b6da4e18",
   "metadata": {},
   "source": [
    "# Informações sobre o dataset\n",
    "\n",
    "Esse dataset foi construído a partir de informações em anúncios de venda de veículos disponíveis online, entre os dias 30/06/2022 e 04/07/2022. Na obtenção dos dados, foram procurados apenas anúncios profissionais de veículos com ano de fabricação a partir de 2000. Além disso, foi verificado no portal de vendas uma quantidade aproximadamente igual de anúncios entre as seguintes faixas de quilometragem: 0-30, 30-60, 60-100, 100+. Sendo assim, de forma a tornar a amostragem realizada mais representativa, os valores de quilometragem nesse dataset seguem uma proporção parecida."
   ]
  },
  {
   "cell_type": "code",
   "execution_count": 37,
   "id": "ad98b921",
   "metadata": {},
   "outputs": [
    {
     "data": {
      "text/html": [
       "<div>\n",
       "<style scoped>\n",
       "    .dataframe tbody tr th:only-of-type {\n",
       "        vertical-align: middle;\n",
       "    }\n",
       "\n",
       "    .dataframe tbody tr th {\n",
       "        vertical-align: top;\n",
       "    }\n",
       "\n",
       "    .dataframe thead th {\n",
       "        text-align: right;\n",
       "    }\n",
       "</style>\n",
       "<table border=\"1\" class=\"dataframe\">\n",
       "  <thead>\n",
       "    <tr style=\"text-align: right;\">\n",
       "      <th></th>\n",
       "      <th>Marca</th>\n",
       "      <th>Descricao</th>\n",
       "      <th>Tipo</th>\n",
       "      <th>Ano</th>\n",
       "      <th>UF</th>\n",
       "      <th>Km</th>\n",
       "      <th>Potencia</th>\n",
       "      <th>Combustivel</th>\n",
       "      <th>Cambio</th>\n",
       "      <th>Direcao</th>\n",
       "      <th>...</th>\n",
       "      <th>TravaEletrica</th>\n",
       "      <th>VidroEletrico</th>\n",
       "      <th>Som</th>\n",
       "      <th>SensorDeRe</th>\n",
       "      <th>CameraDeRe</th>\n",
       "      <th>Blindado</th>\n",
       "      <th>Preco</th>\n",
       "      <th>Modelo</th>\n",
       "      <th>Dias</th>\n",
       "      <th>KmLimite</th>\n",
       "    </tr>\n",
       "  </thead>\n",
       "  <tbody>\n",
       "    <tr>\n",
       "      <th>0</th>\n",
       "      <td>ALFA ROMEO</td>\n",
       "      <td>ALFA ROMEO 156 TS/SPORT/ELEGANT 2.0 16V</td>\n",
       "      <td>NaN</td>\n",
       "      <td>2012</td>\n",
       "      <td>AM</td>\n",
       "      <td>1</td>\n",
       "      <td>NaN</td>\n",
       "      <td>NaN</td>\n",
       "      <td>NaN</td>\n",
       "      <td>NaN</td>\n",
       "      <td>...</td>\n",
       "      <td>False</td>\n",
       "      <td>False</td>\n",
       "      <td>False</td>\n",
       "      <td>False</td>\n",
       "      <td>False</td>\n",
       "      <td>False</td>\n",
       "      <td>50000.0</td>\n",
       "      <td>156</td>\n",
       "      <td>4021</td>\n",
       "      <td>1407350</td>\n",
       "    </tr>\n",
       "    <tr>\n",
       "      <th>1</th>\n",
       "      <td>JEEP</td>\n",
       "      <td>JEEP COMPASS LONGITUDE 2.0 4X4 DIES. 16V AUT.</td>\n",
       "      <td>SUV</td>\n",
       "      <td>2017</td>\n",
       "      <td>DF</td>\n",
       "      <td>0</td>\n",
       "      <td>NaN</td>\n",
       "      <td>Diesel</td>\n",
       "      <td>Automático</td>\n",
       "      <td>NaN</td>\n",
       "      <td>...</td>\n",
       "      <td>False</td>\n",
       "      <td>True</td>\n",
       "      <td>True</td>\n",
       "      <td>True</td>\n",
       "      <td>True</td>\n",
       "      <td>False</td>\n",
       "      <td>139800.0</td>\n",
       "      <td>COMPASS</td>\n",
       "      <td>2194</td>\n",
       "      <td>767900</td>\n",
       "    </tr>\n",
       "    <tr>\n",
       "      <th>2</th>\n",
       "      <td>VW - VOLKSWAGEN</td>\n",
       "      <td>VW - VOLKSWAGEN SAVEIRO 1.6 MI/ 1.6 MI TOTAL F...</td>\n",
       "      <td>Pick-up</td>\n",
       "      <td>2014</td>\n",
       "      <td>RS</td>\n",
       "      <td>1</td>\n",
       "      <td>1.6</td>\n",
       "      <td>Flex</td>\n",
       "      <td>Manual</td>\n",
       "      <td>Hidráulica</td>\n",
       "      <td>...</td>\n",
       "      <td>True</td>\n",
       "      <td>True</td>\n",
       "      <td>True</td>\n",
       "      <td>False</td>\n",
       "      <td>False</td>\n",
       "      <td>False</td>\n",
       "      <td>49900.0</td>\n",
       "      <td>SAVEIRO</td>\n",
       "      <td>3290</td>\n",
       "      <td>1151500</td>\n",
       "    </tr>\n",
       "    <tr>\n",
       "      <th>3</th>\n",
       "      <td>TOYOTA</td>\n",
       "      <td>TOYOTA ETIOS</td>\n",
       "      <td>Sedã</td>\n",
       "      <td>2015</td>\n",
       "      <td>PA</td>\n",
       "      <td>1000</td>\n",
       "      <td>1.5</td>\n",
       "      <td>Flex</td>\n",
       "      <td>Manual</td>\n",
       "      <td>Hidráulica</td>\n",
       "      <td>...</td>\n",
       "      <td>True</td>\n",
       "      <td>True</td>\n",
       "      <td>True</td>\n",
       "      <td>True</td>\n",
       "      <td>False</td>\n",
       "      <td>False</td>\n",
       "      <td>47900.0</td>\n",
       "      <td>ETIOS</td>\n",
       "      <td>2925</td>\n",
       "      <td>1023750</td>\n",
       "    </tr>\n",
       "    <tr>\n",
       "      <th>4</th>\n",
       "      <td>VW - VOLKSWAGEN</td>\n",
       "      <td>VW - VOLKSWAGEN POLO COMFORT. 200 TSI 1.0 FLEX...</td>\n",
       "      <td>NaN</td>\n",
       "      <td>2021</td>\n",
       "      <td>PR</td>\n",
       "      <td>11139</td>\n",
       "      <td>1.0</td>\n",
       "      <td>Flex</td>\n",
       "      <td>Automático</td>\n",
       "      <td>Hidráulica</td>\n",
       "      <td>...</td>\n",
       "      <td>True</td>\n",
       "      <td>True</td>\n",
       "      <td>False</td>\n",
       "      <td>True</td>\n",
       "      <td>False</td>\n",
       "      <td>False</td>\n",
       "      <td>98900.0</td>\n",
       "      <td>POLO</td>\n",
       "      <td>733</td>\n",
       "      <td>256550</td>\n",
       "    </tr>\n",
       "  </tbody>\n",
       "</table>\n",
       "<p>5 rows × 28 columns</p>\n",
       "</div>"
      ],
      "text/plain": [
       "             Marca                                          Descricao  \\\n",
       "0       ALFA ROMEO            ALFA ROMEO 156 TS/SPORT/ELEGANT 2.0 16V   \n",
       "1             JEEP      JEEP COMPASS LONGITUDE 2.0 4X4 DIES. 16V AUT.   \n",
       "2  VW - VOLKSWAGEN  VW - VOLKSWAGEN SAVEIRO 1.6 MI/ 1.6 MI TOTAL F...   \n",
       "3           TOYOTA                                       TOYOTA ETIOS   \n",
       "4  VW - VOLKSWAGEN  VW - VOLKSWAGEN POLO COMFORT. 200 TSI 1.0 FLEX...   \n",
       "\n",
       "      Tipo   Ano  UF     Km Potencia Combustivel      Cambio     Direcao  ...  \\\n",
       "0      NaN  2012  AM      1      NaN         NaN         NaN         NaN  ...   \n",
       "1      SUV  2017  DF      0      NaN      Diesel  Automático         NaN  ...   \n",
       "2  Pick-up  2014  RS      1      1.6        Flex      Manual  Hidráulica  ...   \n",
       "3     Sedã  2015  PA   1000      1.5        Flex      Manual  Hidráulica  ...   \n",
       "4      NaN  2021  PR  11139      1.0        Flex  Automático  Hidráulica  ...   \n",
       "\n",
       "  TravaEletrica  VidroEletrico    Som SensorDeRe CameraDeRe  Blindado  \\\n",
       "0         False          False  False      False      False     False   \n",
       "1         False           True   True       True       True     False   \n",
       "2          True           True   True      False      False     False   \n",
       "3          True           True   True       True      False     False   \n",
       "4          True           True  False       True      False     False   \n",
       "\n",
       "      Preco   Modelo  Dias  KmLimite  \n",
       "0   50000.0      156  4021   1407350  \n",
       "1  139800.0  COMPASS  2194    767900  \n",
       "2   49900.0  SAVEIRO  3290   1151500  \n",
       "3   47900.0    ETIOS  2925   1023750  \n",
       "4   98900.0     POLO   733    256550  \n",
       "\n",
       "[5 rows x 28 columns]"
      ]
     },
     "execution_count": 37,
     "metadata": {},
     "output_type": "execute_result"
    }
   ],
   "source": [
    "df = pd.read_csv('cars_data_cleaned.csv')\n",
    "\n",
    "df.head()"
   ]
  },
  {
   "cell_type": "code",
   "execution_count": 38,
   "id": "dc74608a",
   "metadata": {},
   "outputs": [
    {
     "name": "stdout",
     "output_type": "stream",
     "text": [
      "<class 'pandas.core.frame.DataFrame'>\n",
      "RangeIndex: 5212 entries, 0 to 5211\n",
      "Data columns (total 28 columns):\n",
      " #   Column          Non-Null Count  Dtype  \n",
      "---  ------          --------------  -----  \n",
      " 0   Marca           5207 non-null   object \n",
      " 1   Descricao       5212 non-null   object \n",
      " 2   Tipo            4288 non-null   object \n",
      " 3   Ano             5212 non-null   int64  \n",
      " 4   UF              5212 non-null   object \n",
      " 5   Km              5212 non-null   int64  \n",
      " 6   Potencia        3964 non-null   object \n",
      " 7   Combustivel     5162 non-null   object \n",
      " 8   Cambio          5183 non-null   object \n",
      " 9   Direcao         4094 non-null   object \n",
      " 10  Cor             4327 non-null   object \n",
      " 11  FinalDePlaca    4433 non-null   float64\n",
      " 12  Portas          5067 non-null   object \n",
      " 13  UnicoDono       2962 non-null   object \n",
      " 14  AceitaTrocas    3357 non-null   object \n",
      " 15  ArCondicionado  5212 non-null   bool   \n",
      " 16  AirBag          5212 non-null   bool   \n",
      " 17  Alarme          5212 non-null   bool   \n",
      " 18  TravaEletrica   5212 non-null   bool   \n",
      " 19  VidroEletrico   5212 non-null   bool   \n",
      " 20  Som             5212 non-null   bool   \n",
      " 21  SensorDeRe      5212 non-null   bool   \n",
      " 22  CameraDeRe      5212 non-null   bool   \n",
      " 23  Blindado        5212 non-null   bool   \n",
      " 24  Preco           5212 non-null   float64\n",
      " 25  Modelo          5192 non-null   object \n",
      " 26  Dias            5212 non-null   int64  \n",
      " 27  KmLimite        5212 non-null   int64  \n",
      "dtypes: bool(9), float64(2), int64(4), object(13)\n",
      "memory usage: 819.6+ KB\n"
     ]
    }
   ],
   "source": [
    "df.info()"
   ]
  },
  {
   "cell_type": "markdown",
   "id": "c28517bd",
   "metadata": {},
   "source": [
    "# Dropando os valores irrealistas\n",
    "\n",
    "Nessa etapa serão dropadas as observações que atendam ao menos um dos critérios abaixo:\n",
    "\n",
    "- Sem informação da marca do veículo;\n",
    "- Sem informação do modelo do veículo;\n",
    "- Com valor de quilometragem maior que o definido pela feature `KmLimite`."
   ]
  },
  {
   "cell_type": "code",
   "execution_count": 39,
   "id": "8d5a7d59",
   "metadata": {},
   "outputs": [
    {
     "name": "stdout",
     "output_type": "stream",
     "text": [
      "<class 'pandas.core.frame.DataFrame'>\n",
      "RangeIndex: 5170 entries, 0 to 5169\n",
      "Data columns (total 28 columns):\n",
      " #   Column          Non-Null Count  Dtype  \n",
      "---  ------          --------------  -----  \n",
      " 0   Marca           5170 non-null   object \n",
      " 1   Descricao       5170 non-null   object \n",
      " 2   Tipo            4257 non-null   object \n",
      " 3   Ano             5170 non-null   int64  \n",
      " 4   UF              5170 non-null   object \n",
      " 5   Km              5170 non-null   int64  \n",
      " 6   Potencia        3939 non-null   object \n",
      " 7   Combustivel     5124 non-null   object \n",
      " 8   Cambio          5144 non-null   object \n",
      " 9   Direcao         4068 non-null   object \n",
      " 10  Cor             4301 non-null   object \n",
      " 11  FinalDePlaca    4403 non-null   float64\n",
      " 12  Portas          5029 non-null   object \n",
      " 13  UnicoDono       2946 non-null   object \n",
      " 14  AceitaTrocas    3336 non-null   object \n",
      " 15  ArCondicionado  5170 non-null   bool   \n",
      " 16  AirBag          5170 non-null   bool   \n",
      " 17  Alarme          5170 non-null   bool   \n",
      " 18  TravaEletrica   5170 non-null   bool   \n",
      " 19  VidroEletrico   5170 non-null   bool   \n",
      " 20  Som             5170 non-null   bool   \n",
      " 21  SensorDeRe      5170 non-null   bool   \n",
      " 22  CameraDeRe      5170 non-null   bool   \n",
      " 23  Blindado        5170 non-null   bool   \n",
      " 24  Preco           5170 non-null   float64\n",
      " 25  Modelo          5170 non-null   object \n",
      " 26  Dias            5170 non-null   int64  \n",
      " 27  KmLimite        5170 non-null   int64  \n",
      "dtypes: bool(9), float64(2), int64(4), object(13)\n",
      "memory usage: 813.0+ KB\n"
     ]
    }
   ],
   "source": [
    "df = df.dropna(subset=['Marca', 'Modelo'])\n",
    "df = df.drop(df.loc[df['Km']> df['KmLimite']].index)\n",
    "df = df.reset_index(drop=True)\n",
    "\n",
    "df.info()"
   ]
  },
  {
   "cell_type": "markdown",
   "id": "c273aec8",
   "metadata": {},
   "source": [
    "# Tratando os valores faltantes\n",
    "\n",
    "Seguindo os insights gerados pela análise exploratória de dados (EDA), os valores faltantes do dataset serão preenchidos:\n",
    "\n",
    "- `Tipo`: conforme visto na EDA, existe uma relação entre o tipo de carro e sua marca e modelo. Sendo assim, na presença de valores faltantes de tipo de carro, será utilizada a moda da distribuição para a mesma marca e modelo de veículo;\n",
    "\n",
    "\n",
    "- `Potencia`: assim como para o tipo de veículo, a potência tem uma relação direta com a marca e modelo do mesmo. Sendo assim, na presença de valores faltantes será utilizada a moda da distribuição para a mesma marca e modelo de veículo;\n",
    "\n",
    "\n",
    "- `Combustível`: conforme visto na EDA, o tipo de carro influencia no tipo de combustível utilizado. Sendo assim, na presença de valores faltantes será utilizada a moda da distribuição para o mesmo tipo de veículo;\n",
    "\n",
    "\n",
    "- `Cambio`: na presença de valores faltantes, será utilizada a moda da distribuição para a mesma marca e modelo de veículo;\n",
    "\n",
    "\n",
    "- `Direcao`: na presença de valores faltantes, será utilizada a moda da distribuição para a mesma marca e modelo de veículo;\n",
    "\n",
    "\n",
    "- `Cor`: de forma a preservar as proporções encontradas no dataset, os valores faltantes serão preenchidos a partir de um sorteio aleatório com probabilidades a priori iguais às proporções das cores nas observações preenchidas;\n",
    "\n",
    "\n",
    "- `FinalDePlaca`: na presença de valores faltantes, será utilizado um sorteio aleatório com iguais probabilidades para qualquer um dos números, entre 0 e 9;\n",
    "\n",
    "\n",
    "- `Portas`: na presença de valores faltantes, será utilizada a moda da distribuição para a mesma marca e modelo de veículo;\n",
    "\n",
    "\n",
    "- `UnicoDono`: conforme visto na EDA, o ano do modelo influencia no fato desse ter tido um único dono. Sendo assim, será realizado um sorteio aleatório com probabilidades a priori iguais às proporções de \"Sim\" e \"Não\" nas observações preenchidas, considerando apenas aquelas referentes ao mesmo ano do modelo avaliado;\n",
    "\n",
    "\n",
    "- `AceitaTrocas`: de forma a preservar as proporções encontradas no dataset, os valores faltantes serão preenchidos a partir de um sorteio aleatório com probabilidades a priori iguais às proporções de \"Sim\" e \"Não\" nas observações preenchidas."
   ]
  },
  {
   "cell_type": "markdown",
   "id": "141c4486",
   "metadata": {},
   "source": [
    "## Features dependentes do modelo"
   ]
  },
  {
   "cell_type": "markdown",
   "id": "79ab8f48",
   "metadata": {},
   "source": [
    "É importante notar que algumas marcas possuem uma única observação em todo o dataset. Sendo assim, caso a mesma possua um valor faltante, a estratégia de preenchimento proposta acima é inviável. Por se tratarem de poucas observações, essas serão dropadas: "
   ]
  },
  {
   "cell_type": "code",
   "execution_count": 40,
   "id": "2306ad5e",
   "metadata": {},
   "outputs": [
    {
     "data": {
      "text/html": [
       "<div>\n",
       "<style scoped>\n",
       "    .dataframe tbody tr th:only-of-type {\n",
       "        vertical-align: middle;\n",
       "    }\n",
       "\n",
       "    .dataframe tbody tr th {\n",
       "        vertical-align: top;\n",
       "    }\n",
       "\n",
       "    .dataframe thead th {\n",
       "        text-align: right;\n",
       "    }\n",
       "</style>\n",
       "<table border=\"1\" class=\"dataframe\">\n",
       "  <thead>\n",
       "    <tr style=\"text-align: right;\">\n",
       "      <th></th>\n",
       "      <th>Marca</th>\n",
       "      <th>Descricao</th>\n",
       "      <th>Tipo</th>\n",
       "      <th>Ano</th>\n",
       "      <th>UF</th>\n",
       "      <th>Km</th>\n",
       "      <th>Potencia</th>\n",
       "      <th>Combustivel</th>\n",
       "      <th>Cambio</th>\n",
       "      <th>Direcao</th>\n",
       "      <th>...</th>\n",
       "      <th>TravaEletrica</th>\n",
       "      <th>VidroEletrico</th>\n",
       "      <th>Som</th>\n",
       "      <th>SensorDeRe</th>\n",
       "      <th>CameraDeRe</th>\n",
       "      <th>Blindado</th>\n",
       "      <th>Preco</th>\n",
       "      <th>Modelo</th>\n",
       "      <th>Dias</th>\n",
       "      <th>KmLimite</th>\n",
       "    </tr>\n",
       "  </thead>\n",
       "  <tbody>\n",
       "    <tr>\n",
       "      <th>0</th>\n",
       "      <td>ALFA ROMEO</td>\n",
       "      <td>ALFA ROMEO 156 TS/SPORT/ELEGANT 2.0 16V</td>\n",
       "      <td>NaN</td>\n",
       "      <td>2012</td>\n",
       "      <td>AM</td>\n",
       "      <td>1</td>\n",
       "      <td>NaN</td>\n",
       "      <td>NaN</td>\n",
       "      <td>NaN</td>\n",
       "      <td>NaN</td>\n",
       "      <td>...</td>\n",
       "      <td>False</td>\n",
       "      <td>False</td>\n",
       "      <td>False</td>\n",
       "      <td>False</td>\n",
       "      <td>False</td>\n",
       "      <td>False</td>\n",
       "      <td>50000.0</td>\n",
       "      <td>156</td>\n",
       "      <td>4021</td>\n",
       "      <td>1407350</td>\n",
       "    </tr>\n",
       "    <tr>\n",
       "      <th>220</th>\n",
       "      <td>ASIA MOTORS</td>\n",
       "      <td>ASIA MOTORS TOPIC LUXO DIESEL</td>\n",
       "      <td>NaN</td>\n",
       "      <td>2018</td>\n",
       "      <td>AM</td>\n",
       "      <td>1</td>\n",
       "      <td>NaN</td>\n",
       "      <td>NaN</td>\n",
       "      <td>NaN</td>\n",
       "      <td>NaN</td>\n",
       "      <td>...</td>\n",
       "      <td>False</td>\n",
       "      <td>False</td>\n",
       "      <td>False</td>\n",
       "      <td>False</td>\n",
       "      <td>False</td>\n",
       "      <td>False</td>\n",
       "      <td>50000.0</td>\n",
       "      <td>TOPIC</td>\n",
       "      <td>1829</td>\n",
       "      <td>640150</td>\n",
       "    </tr>\n",
       "    <tr>\n",
       "      <th>4969</th>\n",
       "      <td>SSANGYONG</td>\n",
       "      <td>SSANGYONG KYRON 2.0 16V 141CV  TDI DIESEL AUT.</td>\n",
       "      <td>SUV</td>\n",
       "      <td>2010</td>\n",
       "      <td>MG</td>\n",
       "      <td>164000</td>\n",
       "      <td>2.0 - 2.9</td>\n",
       "      <td>Diesel</td>\n",
       "      <td>Automático</td>\n",
       "      <td>Hidráulica</td>\n",
       "      <td>...</td>\n",
       "      <td>True</td>\n",
       "      <td>True</td>\n",
       "      <td>True</td>\n",
       "      <td>False</td>\n",
       "      <td>True</td>\n",
       "      <td>False</td>\n",
       "      <td>48900.0</td>\n",
       "      <td>KYRON</td>\n",
       "      <td>4751</td>\n",
       "      <td>1662850</td>\n",
       "    </tr>\n",
       "  </tbody>\n",
       "</table>\n",
       "<p>3 rows × 28 columns</p>\n",
       "</div>"
      ],
      "text/plain": [
       "            Marca                                       Descricao Tipo   Ano  \\\n",
       "0      ALFA ROMEO         ALFA ROMEO 156 TS/SPORT/ELEGANT 2.0 16V  NaN  2012   \n",
       "220   ASIA MOTORS                   ASIA MOTORS TOPIC LUXO DIESEL  NaN  2018   \n",
       "4969    SSANGYONG  SSANGYONG KYRON 2.0 16V 141CV  TDI DIESEL AUT.  SUV  2010   \n",
       "\n",
       "      UF      Km   Potencia Combustivel      Cambio     Direcao  ...  \\\n",
       "0     AM       1        NaN         NaN         NaN         NaN  ...   \n",
       "220   AM       1        NaN         NaN         NaN         NaN  ...   \n",
       "4969  MG  164000  2.0 - 2.9      Diesel  Automático  Hidráulica  ...   \n",
       "\n",
       "     TravaEletrica  VidroEletrico    Som SensorDeRe CameraDeRe  Blindado  \\\n",
       "0            False          False  False      False      False     False   \n",
       "220          False          False  False      False      False     False   \n",
       "4969          True           True   True      False       True     False   \n",
       "\n",
       "        Preco  Modelo  Dias  KmLimite  \n",
       "0     50000.0     156  4021   1407350  \n",
       "220   50000.0   TOPIC  1829    640150  \n",
       "4969  48900.0   KYRON  4751   1662850  \n",
       "\n",
       "[3 rows x 28 columns]"
      ]
     },
     "execution_count": 40,
     "metadata": {},
     "output_type": "execute_result"
    }
   ],
   "source": [
    "modelos_unicos = df['Modelo'].value_counts()[df['Modelo'].value_counts()==1].index\n",
    "marcas_unicas = df['Marca'].value_counts()[df['Marca'].value_counts()==1].index\n",
    "\n",
    "df.loc[(df['Modelo'].isin(modelos_unicos))&(df['Marca'].isin(marcas_unicas))&(df.isna().any(axis=1))]"
   ]
  },
  {
   "cell_type": "code",
   "execution_count": 41,
   "id": "9337118b",
   "metadata": {},
   "outputs": [
    {
     "name": "stdout",
     "output_type": "stream",
     "text": [
      "<class 'pandas.core.frame.DataFrame'>\n",
      "RangeIndex: 5167 entries, 0 to 5166\n",
      "Data columns (total 28 columns):\n",
      " #   Column          Non-Null Count  Dtype  \n",
      "---  ------          --------------  -----  \n",
      " 0   Marca           5167 non-null   object \n",
      " 1   Descricao       5167 non-null   object \n",
      " 2   Tipo            4256 non-null   object \n",
      " 3   Ano             5167 non-null   int64  \n",
      " 4   UF              5167 non-null   object \n",
      " 5   Km              5167 non-null   int64  \n",
      " 6   Potencia        3938 non-null   object \n",
      " 7   Combustivel     5123 non-null   object \n",
      " 8   Cambio          5143 non-null   object \n",
      " 9   Direcao         4067 non-null   object \n",
      " 10  Cor             4300 non-null   object \n",
      " 11  FinalDePlaca    4403 non-null   float64\n",
      " 12  Portas          5028 non-null   object \n",
      " 13  UnicoDono       2945 non-null   object \n",
      " 14  AceitaTrocas    3335 non-null   object \n",
      " 15  ArCondicionado  5167 non-null   bool   \n",
      " 16  AirBag          5167 non-null   bool   \n",
      " 17  Alarme          5167 non-null   bool   \n",
      " 18  TravaEletrica   5167 non-null   bool   \n",
      " 19  VidroEletrico   5167 non-null   bool   \n",
      " 20  Som             5167 non-null   bool   \n",
      " 21  SensorDeRe      5167 non-null   bool   \n",
      " 22  CameraDeRe      5167 non-null   bool   \n",
      " 23  Blindado        5167 non-null   bool   \n",
      " 24  Preco           5167 non-null   float64\n",
      " 25  Modelo          5167 non-null   object \n",
      " 26  Dias            5167 non-null   int64  \n",
      " 27  KmLimite        5167 non-null   int64  \n",
      "dtypes: bool(9), float64(2), int64(4), object(13)\n",
      "memory usage: 812.5+ KB\n"
     ]
    }
   ],
   "source": [
    "df = df.drop(df.loc[(df['Modelo'].isin(modelos_unicos))&(df['Marca'].isin(marcas_unicas))&(df.isna().any(axis=1))].index)\n",
    "df = df.reset_index(drop=True)\n",
    "\n",
    "df.info()"
   ]
  },
  {
   "cell_type": "code",
   "execution_count": 42,
   "id": "268b5d4f",
   "metadata": {},
   "outputs": [
    {
     "data": {
      "text/html": [
       "<div>\n",
       "<style scoped>\n",
       "    .dataframe tbody tr th:only-of-type {\n",
       "        vertical-align: middle;\n",
       "    }\n",
       "\n",
       "    .dataframe tbody tr th {\n",
       "        vertical-align: top;\n",
       "    }\n",
       "\n",
       "    .dataframe thead th {\n",
       "        text-align: right;\n",
       "    }\n",
       "</style>\n",
       "<table border=\"1\" class=\"dataframe\">\n",
       "  <thead>\n",
       "    <tr style=\"text-align: right;\">\n",
       "      <th></th>\n",
       "      <th></th>\n",
       "      <th>Descricao</th>\n",
       "      <th>Tipo</th>\n",
       "      <th>UF</th>\n",
       "      <th>Potencia</th>\n",
       "      <th>Combustivel</th>\n",
       "      <th>Cambio</th>\n",
       "      <th>Direcao</th>\n",
       "      <th>Cor</th>\n",
       "      <th>Portas</th>\n",
       "      <th>UnicoDono</th>\n",
       "      <th>AceitaTrocas</th>\n",
       "    </tr>\n",
       "    <tr>\n",
       "      <th>Marca</th>\n",
       "      <th>Modelo</th>\n",
       "      <th></th>\n",
       "      <th></th>\n",
       "      <th></th>\n",
       "      <th></th>\n",
       "      <th></th>\n",
       "      <th></th>\n",
       "      <th></th>\n",
       "      <th></th>\n",
       "      <th></th>\n",
       "      <th></th>\n",
       "      <th></th>\n",
       "    </tr>\n",
       "  </thead>\n",
       "  <tbody>\n",
       "    <tr>\n",
       "      <th rowspan=\"5\" valign=\"top\">AUDI</th>\n",
       "      <th>A1</th>\n",
       "      <td>AUDI A1 1.4 TFSI 122CV S-TRONIC 3P</td>\n",
       "      <td>Hatch</td>\n",
       "      <td>SP</td>\n",
       "      <td>1.4</td>\n",
       "      <td>Gasolina</td>\n",
       "      <td>Automático</td>\n",
       "      <td>Elétrica</td>\n",
       "      <td>Prata</td>\n",
       "      <td>4 portas</td>\n",
       "      <td>Não</td>\n",
       "      <td>Sim</td>\n",
       "    </tr>\n",
       "    <tr>\n",
       "      <th>A3</th>\n",
       "      <td>AUDI A3 SEDAN 1.4/ ATTRA. 16V TB FSI S-TRONIC</td>\n",
       "      <td>Sedã</td>\n",
       "      <td>SP</td>\n",
       "      <td>1.4</td>\n",
       "      <td>Gasolina</td>\n",
       "      <td>Automático</td>\n",
       "      <td>Hidráulica</td>\n",
       "      <td>Preto</td>\n",
       "      <td>4 portas</td>\n",
       "      <td>Não</td>\n",
       "      <td>Sim</td>\n",
       "    </tr>\n",
       "    <tr>\n",
       "      <th>A4</th>\n",
       "      <td>AUDI A4</td>\n",
       "      <td>Passeio</td>\n",
       "      <td>PR</td>\n",
       "      <td>2.0 - 2.9</td>\n",
       "      <td>Gasolina</td>\n",
       "      <td>Automático</td>\n",
       "      <td>Hidráulica</td>\n",
       "      <td>Cinza</td>\n",
       "      <td>4 portas</td>\n",
       "      <td>None</td>\n",
       "      <td>None</td>\n",
       "    </tr>\n",
       "    <tr>\n",
       "      <th>A5</th>\n",
       "      <td>AUDI A5 SPORTBACK 2.0 16V TFSI 211CV MULTI.</td>\n",
       "      <td>Sedã</td>\n",
       "      <td>GO</td>\n",
       "      <td>2.0 - 2.9</td>\n",
       "      <td>Gasolina</td>\n",
       "      <td>Automático</td>\n",
       "      <td>Hidráulica</td>\n",
       "      <td>Azul</td>\n",
       "      <td>4 portas</td>\n",
       "      <td>Sim</td>\n",
       "      <td>Sim</td>\n",
       "    </tr>\n",
       "    <tr>\n",
       "      <th>A6</th>\n",
       "      <td>AUDI A6 3.0 TFSI V6 QUATTRO S TRONIC 4P</td>\n",
       "      <td>Sedã</td>\n",
       "      <td>RJ</td>\n",
       "      <td>3.0 - 3.9</td>\n",
       "      <td>Gasolina</td>\n",
       "      <td>Automático</td>\n",
       "      <td>Elétrica</td>\n",
       "      <td>Preto</td>\n",
       "      <td>4 portas</td>\n",
       "      <td>Não</td>\n",
       "      <td>Sim</td>\n",
       "    </tr>\n",
       "    <tr>\n",
       "      <th>...</th>\n",
       "      <th>...</th>\n",
       "      <td>...</td>\n",
       "      <td>...</td>\n",
       "      <td>...</td>\n",
       "      <td>...</td>\n",
       "      <td>...</td>\n",
       "      <td>...</td>\n",
       "      <td>...</td>\n",
       "      <td>...</td>\n",
       "      <td>...</td>\n",
       "      <td>...</td>\n",
       "      <td>...</td>\n",
       "    </tr>\n",
       "    <tr>\n",
       "      <th rowspan=\"5\" valign=\"top\">VW - VOLKSWAGEN</th>\n",
       "      <th>TOUAREG</th>\n",
       "      <td>VW - VOLKSWAGEN TOUAREG 3.6 24V V6 280CV TIPTR...</td>\n",
       "      <td>SUV</td>\n",
       "      <td>MG</td>\n",
       "      <td>3.0 - 3.9</td>\n",
       "      <td>Gasolina</td>\n",
       "      <td>Automático</td>\n",
       "      <td>Hidráulica</td>\n",
       "      <td>Prata</td>\n",
       "      <td>4 portas</td>\n",
       "      <td>Não</td>\n",
       "      <td>Sim</td>\n",
       "    </tr>\n",
       "    <tr>\n",
       "      <th>UP!</th>\n",
       "      <td>VW - VOLKSWAGEN UP!</td>\n",
       "      <td>Hatch</td>\n",
       "      <td>RJ</td>\n",
       "      <td>1.0</td>\n",
       "      <td>Flex</td>\n",
       "      <td>Manual</td>\n",
       "      <td>Hidráulica</td>\n",
       "      <td>Branco</td>\n",
       "      <td>4 portas</td>\n",
       "      <td>Não</td>\n",
       "      <td>Sim</td>\n",
       "    </tr>\n",
       "    <tr>\n",
       "      <th>VIRTUS</th>\n",
       "      <td>VW - VOLKSWAGEN VIRTUS COMFORT. 200 TSI 1.0 FL...</td>\n",
       "      <td>Sedã</td>\n",
       "      <td>SP</td>\n",
       "      <td>1.0</td>\n",
       "      <td>Flex</td>\n",
       "      <td>Automático</td>\n",
       "      <td>Hidráulica</td>\n",
       "      <td>Prata</td>\n",
       "      <td>4 portas</td>\n",
       "      <td>Sim</td>\n",
       "      <td>Sim</td>\n",
       "    </tr>\n",
       "    <tr>\n",
       "      <th>VOLKSWAGEN</th>\n",
       "      <td>VW - VOLKSWAGEN VOLKSWAGEN UP MPI 1.0 12V FLEX...</td>\n",
       "      <td>Hatch</td>\n",
       "      <td>RJ</td>\n",
       "      <td>1.0</td>\n",
       "      <td>Flex</td>\n",
       "      <td>Manual</td>\n",
       "      <td>Elétrica</td>\n",
       "      <td>Branco</td>\n",
       "      <td>4 portas</td>\n",
       "      <td>Sim</td>\n",
       "      <td>Sim</td>\n",
       "    </tr>\n",
       "    <tr>\n",
       "      <th>VOYAGE</th>\n",
       "      <td>VW - VOLKSWAGEN VOYAGE 1.6 MSI FLEX 8V 4P</td>\n",
       "      <td>Sedã</td>\n",
       "      <td>MG</td>\n",
       "      <td>1.6</td>\n",
       "      <td>Flex</td>\n",
       "      <td>Manual</td>\n",
       "      <td>Hidráulica</td>\n",
       "      <td>Prata</td>\n",
       "      <td>4 portas</td>\n",
       "      <td>Sim</td>\n",
       "      <td>Sim</td>\n",
       "    </tr>\n",
       "  </tbody>\n",
       "</table>\n",
       "<p>315 rows × 11 columns</p>\n",
       "</div>"
      ],
      "text/plain": [
       "                                                                    Descricao  \\\n",
       "Marca           Modelo                                                          \n",
       "AUDI            A1                         AUDI A1 1.4 TFSI 122CV S-TRONIC 3P   \n",
       "                A3              AUDI A3 SEDAN 1.4/ ATTRA. 16V TB FSI S-TRONIC   \n",
       "                A4                                                    AUDI A4   \n",
       "                A5                AUDI A5 SPORTBACK 2.0 16V TFSI 211CV MULTI.   \n",
       "                A6                    AUDI A6 3.0 TFSI V6 QUATTRO S TRONIC 4P   \n",
       "...                                                                       ...   \n",
       "VW - VOLKSWAGEN TOUAREG     VW - VOLKSWAGEN TOUAREG 3.6 24V V6 280CV TIPTR...   \n",
       "                UP!                                       VW - VOLKSWAGEN UP!   \n",
       "                VIRTUS      VW - VOLKSWAGEN VIRTUS COMFORT. 200 TSI 1.0 FL...   \n",
       "                VOLKSWAGEN  VW - VOLKSWAGEN VOLKSWAGEN UP MPI 1.0 12V FLEX...   \n",
       "                VOYAGE              VW - VOLKSWAGEN VOYAGE 1.6 MSI FLEX 8V 4P   \n",
       "\n",
       "                               Tipo  UF   Potencia Combustivel      Cambio  \\\n",
       "Marca           Modelo                                                       \n",
       "AUDI            A1            Hatch  SP        1.4    Gasolina  Automático   \n",
       "                A3             Sedã  SP        1.4    Gasolina  Automático   \n",
       "                A4          Passeio  PR  2.0 - 2.9    Gasolina  Automático   \n",
       "                A5             Sedã  GO  2.0 - 2.9    Gasolina  Automático   \n",
       "                A6             Sedã  RJ  3.0 - 3.9    Gasolina  Automático   \n",
       "...                             ...  ..        ...         ...         ...   \n",
       "VW - VOLKSWAGEN TOUAREG         SUV  MG  3.0 - 3.9    Gasolina  Automático   \n",
       "                UP!           Hatch  RJ        1.0        Flex      Manual   \n",
       "                VIRTUS         Sedã  SP        1.0        Flex  Automático   \n",
       "                VOLKSWAGEN    Hatch  RJ        1.0        Flex      Manual   \n",
       "                VOYAGE         Sedã  MG        1.6        Flex      Manual   \n",
       "\n",
       "                               Direcao     Cor    Portas UnicoDono  \\\n",
       "Marca           Modelo                                               \n",
       "AUDI            A1            Elétrica   Prata  4 portas       Não   \n",
       "                A3          Hidráulica   Preto  4 portas       Não   \n",
       "                A4          Hidráulica   Cinza  4 portas      None   \n",
       "                A5          Hidráulica    Azul  4 portas       Sim   \n",
       "                A6            Elétrica   Preto  4 portas       Não   \n",
       "...                                ...     ...       ...       ...   \n",
       "VW - VOLKSWAGEN TOUAREG     Hidráulica   Prata  4 portas       Não   \n",
       "                UP!         Hidráulica  Branco  4 portas       Não   \n",
       "                VIRTUS      Hidráulica   Prata  4 portas       Sim   \n",
       "                VOLKSWAGEN    Elétrica  Branco  4 portas       Sim   \n",
       "                VOYAGE      Hidráulica   Prata  4 portas       Sim   \n",
       "\n",
       "                           AceitaTrocas  \n",
       "Marca           Modelo                   \n",
       "AUDI            A1                  Sim  \n",
       "                A3                  Sim  \n",
       "                A4                 None  \n",
       "                A5                  Sim  \n",
       "                A6                  Sim  \n",
       "...                                 ...  \n",
       "VW - VOLKSWAGEN TOUAREG             Sim  \n",
       "                UP!                 Sim  \n",
       "                VIRTUS              Sim  \n",
       "                VOLKSWAGEN          Sim  \n",
       "                VOYAGE              Sim  \n",
       "\n",
       "[315 rows x 11 columns]"
      ]
     },
     "execution_count": 42,
     "metadata": {},
     "output_type": "execute_result"
    }
   ],
   "source": [
    "var_obj = df.select_dtypes(['object']).columns\n",
    "\n",
    "marcas_e_modelos = df.groupby(['Marca', 'Modelo'])[var_obj].agg(lambda x: pd.Series.mode(x)[0] if len(pd.Series.mode(x)) > 0 else None)\n",
    "marcas_e_modelos"
   ]
  },
  {
   "cell_type": "code",
   "execution_count": 43,
   "id": "d2a1b5a0",
   "metadata": {},
   "outputs": [],
   "source": [
    "def correcao(x):\n",
    "    var_corr = ['Tipo', 'Potencia', 'Cambio', 'Direcao', 'Portas']\n",
    "    for var in var_corr:\n",
    "        if pd.isna(x[var]):\n",
    "            if not pd.isna(marcas_e_modelos.loc[x.Marca, x.Modelo][var]):\n",
    "                x[var] = marcas_e_modelos.loc[x.Marca, x.Modelo][var]\n",
    "            elif pd.isna(marcas_e_modelos.loc[x.Marca][var]).sum() < pd.isna(marcas_e_modelos.loc[x.Marca][var]).count():\n",
    "                x[var] = marcas_e_modelos.loc[x.Marca][var].mode()[0]\n",
    "            else:\n",
    "                x[var] = df[var].mode()[0]\n",
    "                \n",
    "    return x"
   ]
  },
  {
   "cell_type": "code",
   "execution_count": 44,
   "id": "39e7e67f",
   "metadata": {},
   "outputs": [],
   "source": [
    "df = df.apply(lambda x: correcao(x), axis=1)"
   ]
  },
  {
   "cell_type": "markdown",
   "id": "83f583d8",
   "metadata": {},
   "source": [
    "## Combustivel"
   ]
  },
  {
   "cell_type": "code",
   "execution_count": 45,
   "id": "55e2c962",
   "metadata": {},
   "outputs": [
    {
     "data": {
      "text/plain": [
       "Tipo\n",
       "Buggy                 Flex\n",
       "Caminhão Leve       Diesel\n",
       "Conversível       Gasolina\n",
       "Hatch                 Flex\n",
       "Passeio               Flex\n",
       "Pick-up             Diesel\n",
       "SUV                   Flex\n",
       "Sedã                  Flex\n",
       "Van/Utilitário        Flex\n",
       "Name: Combustivel, dtype: object"
      ]
     },
     "execution_count": 45,
     "metadata": {},
     "output_type": "execute_result"
    }
   ],
   "source": [
    "combustiveis = df.groupby('Tipo')['Combustivel'].agg(lambda x: pd.Series.mode(x)[0] if len(pd.Series.mode(x)) > 0 else None)\n",
    "\n",
    "combustiveis"
   ]
  },
  {
   "cell_type": "code",
   "execution_count": 46,
   "id": "8f5c6b45",
   "metadata": {},
   "outputs": [],
   "source": [
    "df['Combustivel'] = df.apply(lambda x: combustiveis[x.Tipo] if pd.isna(x.Combustivel) else x.Combustivel, axis=1)"
   ]
  },
  {
   "cell_type": "markdown",
   "id": "4e2b4732",
   "metadata": {},
   "source": [
    "## Cor"
   ]
  },
  {
   "cell_type": "code",
   "execution_count": 47,
   "id": "f1c6c3b1",
   "metadata": {},
   "outputs": [
    {
     "data": {
      "text/plain": [
       "Branco      0.329767\n",
       "Prata       0.243721\n",
       "Preto       0.192093\n",
       "Cinza       0.117209\n",
       "Vermelho    0.060930\n",
       "Outra       0.021860\n",
       "Azul        0.020465\n",
       "Verde       0.006977\n",
       "Amarelo     0.003488\n",
       "Laranja     0.003488\n",
       "Name: Cor, dtype: float64"
      ]
     },
     "execution_count": 47,
     "metadata": {},
     "output_type": "execute_result"
    }
   ],
   "source": [
    "cores = df['Cor'].value_counts(normalize=True)\n",
    "\n",
    "cores"
   ]
  },
  {
   "cell_type": "code",
   "execution_count": 48,
   "id": "435a7571",
   "metadata": {},
   "outputs": [],
   "source": [
    "df['Cor'] = df['Cor'].apply(lambda x: np.random.choice(cores.index, p=cores.values) if pd.isna(x) else x)"
   ]
  },
  {
   "cell_type": "markdown",
   "id": "6c63e0d7",
   "metadata": {},
   "source": [
    "## FinalDePlaca"
   ]
  },
  {
   "cell_type": "code",
   "execution_count": 49,
   "id": "7974d27c",
   "metadata": {},
   "outputs": [],
   "source": [
    "df['FinalDePlaca'] = df['FinalDePlaca'].apply(lambda x: np.random.choice(np.arange(0, 10)) if pd.isna(x) else x)\n",
    "df['FinalDePlaca'] = df['FinalDePlaca'].astype('int64')"
   ]
  },
  {
   "cell_type": "markdown",
   "id": "b0e074fe",
   "metadata": {},
   "source": [
    "## UnicoDono"
   ]
  },
  {
   "cell_type": "code",
   "execution_count": 50,
   "id": "be6550fd",
   "metadata": {},
   "outputs": [
    {
     "data": {
      "text/plain": [
       "Ano   UnicoDono\n",
       "2000  Não          1.000000\n",
       "2001  Não          0.833333\n",
       "      Sim          0.166667\n",
       "2002  Não          1.000000\n",
       "2003  Não          1.000000\n",
       "2004  Não          0.900000\n",
       "      Sim          0.100000\n",
       "2005  Não          0.916667\n",
       "      Sim          0.083333\n",
       "2006  Não          0.923077\n",
       "      Sim          0.076923\n",
       "2007  Não          0.961538\n",
       "      Sim          0.038462\n",
       "2008  Não          0.913043\n",
       "      Sim          0.086957\n",
       "2009  Não          0.923077\n",
       "      Sim          0.076923\n",
       "2010  Não          0.792208\n",
       "      Sim          0.207792\n",
       "2011  Não          0.846154\n",
       "      Sim          0.153846\n",
       "2012  Não          0.829412\n",
       "      Sim          0.170588\n",
       "2013  Não          0.767196\n",
       "      Sim          0.232804\n",
       "2014  Não          0.676190\n",
       "      Sim          0.323810\n",
       "2015  Não          0.677419\n",
       "      Sim          0.322581\n",
       "2016  Não          0.568966\n",
       "      Sim          0.431034\n",
       "2017  Não          0.523560\n",
       "      Sim          0.476440\n",
       "2018  Sim          0.507299\n",
       "      Não          0.492701\n",
       "2019  Sim          0.631098\n",
       "      Não          0.368902\n",
       "2020  Sim          0.706044\n",
       "      Não          0.293956\n",
       "2021  Sim          0.832143\n",
       "      Não          0.167857\n",
       "2022  Sim          0.720930\n",
       "      Não          0.279070\n",
       "2023  Não          0.666667\n",
       "      Sim          0.333333\n",
       "Name: UnicoDono, dtype: float64"
      ]
     },
     "execution_count": 50,
     "metadata": {},
     "output_type": "execute_result"
    }
   ],
   "source": [
    "unico_dono = df.groupby('Ano')['UnicoDono'].value_counts(normalize=True)\n",
    "\n",
    "unico_dono"
   ]
  },
  {
   "cell_type": "code",
   "execution_count": 51,
   "id": "868ee766",
   "metadata": {},
   "outputs": [],
   "source": [
    "df['UnicoDono'] = df.apply(lambda x: np.random.choice(unico_dono.loc[x.Ano].index, \n",
    "                                                      p=unico_dono.loc[x.Ano].values) if pd.isna(x.UnicoDono) else x.UnicoDono,\n",
    "                           axis=1)"
   ]
  },
  {
   "cell_type": "markdown",
   "id": "98f7f44c",
   "metadata": {},
   "source": [
    "## AceitaTrocas"
   ]
  },
  {
   "cell_type": "code",
   "execution_count": 52,
   "id": "4eb92123",
   "metadata": {},
   "outputs": [
    {
     "data": {
      "text/plain": [
       "Sim    0.951724\n",
       "Não    0.048276\n",
       "Name: AceitaTrocas, dtype: float64"
      ]
     },
     "execution_count": 52,
     "metadata": {},
     "output_type": "execute_result"
    }
   ],
   "source": [
    "trocas = df['AceitaTrocas'].value_counts(normalize=True)\n",
    "\n",
    "trocas"
   ]
  },
  {
   "cell_type": "code",
   "execution_count": 53,
   "id": "ade7393a",
   "metadata": {},
   "outputs": [],
   "source": [
    "df['AceitaTrocas'] = df['AceitaTrocas'].apply(lambda x: np.random.choice(trocas.index, p=trocas.values) if pd.isna(x) else x)"
   ]
  },
  {
   "cell_type": "markdown",
   "id": "450bd5e1",
   "metadata": {},
   "source": [
    "Abaixo pode ser observado que o dataset não possui mais valores faltantes:"
   ]
  },
  {
   "cell_type": "code",
   "execution_count": 54,
   "id": "f76125a3",
   "metadata": {},
   "outputs": [
    {
     "name": "stdout",
     "output_type": "stream",
     "text": [
      "<class 'pandas.core.frame.DataFrame'>\n",
      "RangeIndex: 5167 entries, 0 to 5166\n",
      "Data columns (total 28 columns):\n",
      " #   Column          Non-Null Count  Dtype  \n",
      "---  ------          --------------  -----  \n",
      " 0   Marca           5167 non-null   object \n",
      " 1   Descricao       5167 non-null   object \n",
      " 2   Tipo            5167 non-null   object \n",
      " 3   Ano             5167 non-null   int64  \n",
      " 4   UF              5167 non-null   object \n",
      " 5   Km              5167 non-null   int64  \n",
      " 6   Potencia        5167 non-null   object \n",
      " 7   Combustivel     5167 non-null   object \n",
      " 8   Cambio          5167 non-null   object \n",
      " 9   Direcao         5167 non-null   object \n",
      " 10  Cor             5167 non-null   object \n",
      " 11  FinalDePlaca    5167 non-null   int64  \n",
      " 12  Portas          5167 non-null   object \n",
      " 13  UnicoDono       5167 non-null   object \n",
      " 14  AceitaTrocas    5167 non-null   object \n",
      " 15  ArCondicionado  5167 non-null   bool   \n",
      " 16  AirBag          5167 non-null   bool   \n",
      " 17  Alarme          5167 non-null   bool   \n",
      " 18  TravaEletrica   5167 non-null   bool   \n",
      " 19  VidroEletrico   5167 non-null   bool   \n",
      " 20  Som             5167 non-null   bool   \n",
      " 21  SensorDeRe      5167 non-null   bool   \n",
      " 22  CameraDeRe      5167 non-null   bool   \n",
      " 23  Blindado        5167 non-null   bool   \n",
      " 24  Preco           5167 non-null   float64\n",
      " 25  Modelo          5167 non-null   object \n",
      " 26  Dias            5167 non-null   int64  \n",
      " 27  KmLimite        5167 non-null   int64  \n",
      "dtypes: bool(9), float64(1), int64(5), object(13)\n",
      "memory usage: 812.5+ KB\n"
     ]
    }
   ],
   "source": [
    "df.info()"
   ]
  },
  {
   "cell_type": "markdown",
   "id": "cd2518a6",
   "metadata": {},
   "source": [
    "# Feature engineering\n",
    "\n",
    "Na etapa de feature engineering, as seguintes variáveis serão criadas:\n",
    "\n",
    "- `KmPorDias`: número de quilômetros diários percorrido pelo carro;\n",
    "- `NumOpcionais`: número total de itens opcionais no veículo;\n",
    "- `KmSqrt`: raiz quadrada da quilometragem do carro;\n",
    "- `PotenciaNum`: versão quantitativa da potência do veículo. Foi considerada a mediana para valores de potência definidos por intervalos."
   ]
  },
  {
   "cell_type": "markdown",
   "id": "0b2a6e51",
   "metadata": {},
   "source": [
    "## KmPorDias"
   ]
  },
  {
   "cell_type": "code",
   "execution_count": 55,
   "id": "261dd3c9",
   "metadata": {},
   "outputs": [],
   "source": [
    "df['KmPorDias'] = df['Km']/df['Dias']"
   ]
  },
  {
   "cell_type": "code",
   "execution_count": 56,
   "id": "9521ff80",
   "metadata": {},
   "outputs": [
    {
     "data": {
      "image/png": "[encoded data removed]",
      "text/plain": [
       "<Figure size 1080x576 with 1 Axes>"
      ]
     },
     "metadata": {
      "needs_background": "light"
     },
     "output_type": "display_data"
    }
   ],
   "source": [
    "plt.figure(figsize=(15,8))\n",
    "sns.scatterplot(x='KmPorDias', y='Preco', data=df);"
   ]
  },
  {
   "cell_type": "code",
   "execution_count": 57,
   "id": "322859f7",
   "metadata": {},
   "outputs": [
    {
     "data": {
      "text/html": [
       "<div>\n",
       "<style scoped>\n",
       "    .dataframe tbody tr th:only-of-type {\n",
       "        vertical-align: middle;\n",
       "    }\n",
       "\n",
       "    .dataframe tbody tr th {\n",
       "        vertical-align: top;\n",
       "    }\n",
       "\n",
       "    .dataframe thead th {\n",
       "        text-align: right;\n",
       "    }\n",
       "</style>\n",
       "<table border=\"1\" class=\"dataframe\">\n",
       "  <thead>\n",
       "    <tr style=\"text-align: right;\">\n",
       "      <th></th>\n",
       "      <th>KmPorDias</th>\n",
       "      <th>Preco</th>\n",
       "    </tr>\n",
       "  </thead>\n",
       "  <tbody>\n",
       "    <tr>\n",
       "      <th>KmPorDias</th>\n",
       "      <td>1.000000</td>\n",
       "      <td>-0.055385</td>\n",
       "    </tr>\n",
       "    <tr>\n",
       "      <th>Preco</th>\n",
       "      <td>-0.055385</td>\n",
       "      <td>1.000000</td>\n",
       "    </tr>\n",
       "  </tbody>\n",
       "</table>\n",
       "</div>"
      ],
      "text/plain": [
       "           KmPorDias     Preco\n",
       "KmPorDias   1.000000 -0.055385\n",
       "Preco      -0.055385  1.000000"
      ]
     },
     "execution_count": 57,
     "metadata": {},
     "output_type": "execute_result"
    }
   ],
   "source": [
    "df[['KmPorDias', 'Preco' ]].corr()"
   ]
  },
  {
   "cell_type": "markdown",
   "id": "1f32fcea",
   "metadata": {},
   "source": [
    "Não parece haver uma forte correlação linear entre a média de quilômetros por dia que o carro percorreu e seu preço. No entanto, olhando para o gráfico, é possível que exista uma relação de alguma outra ordem."
   ]
  },
  {
   "cell_type": "markdown",
   "id": "ad8f57c4",
   "metadata": {},
   "source": [
    "## NumOpcionais"
   ]
  },
  {
   "cell_type": "code",
   "execution_count": 58,
   "id": "36113267",
   "metadata": {},
   "outputs": [],
   "source": [
    "var_bool = df.select_dtypes(['bool']).columns\n",
    "\n",
    "df['NumOpcionais'] = df[var_bool].sum(axis=1)"
   ]
  },
  {
   "cell_type": "code",
   "execution_count": 59,
   "id": "f319589c",
   "metadata": {},
   "outputs": [
    {
     "data": {
      "text/plain": [
       "count    5167.000000\n",
       "mean        5.170892\n",
       "std         2.363588\n",
       "min         0.000000\n",
       "25%         4.000000\n",
       "50%         6.000000\n",
       "75%         7.000000\n",
       "max         9.000000\n",
       "Name: NumOpcionais, dtype: float64"
      ]
     },
     "execution_count": 59,
     "metadata": {},
     "output_type": "execute_result"
    }
   ],
   "source": [
    "df['NumOpcionais'].describe()"
   ]
  },
  {
   "cell_type": "code",
   "execution_count": 60,
   "id": "9eff23ff",
   "metadata": {},
   "outputs": [
    {
     "data": {
      "image/png": "[encoded data removed]",
      "text/plain": [
       "<Figure size 1080x576 with 1 Axes>"
      ]
     },
     "metadata": {
      "needs_background": "light"
     },
     "output_type": "display_data"
    }
   ],
   "source": [
    "plt.figure(figsize=(15,8))\n",
    "sns.boxplot(x='NumOpcionais', y='Preco', data=df, showfliers=False);"
   ]
  },
  {
   "cell_type": "markdown",
   "id": "67fb0708",
   "metadata": {},
   "source": [
    "Como pode ser visto no gráfico acima, os veículos com 8 ou 9 itens opcionais possuem preços maiores que os demais."
   ]
  },
  {
   "cell_type": "markdown",
   "id": "0040098e",
   "metadata": {},
   "source": [
    "## KmSqrt"
   ]
  },
  {
   "cell_type": "code",
   "execution_count": 61,
   "id": "76a6dd0e",
   "metadata": {},
   "outputs": [],
   "source": [
    "df['KmSqrt'] = np.sqrt(df['Km'])"
   ]
  },
  {
   "cell_type": "code",
   "execution_count": 62,
   "id": "f304cdaa",
   "metadata": {},
   "outputs": [
    {
     "data": {
      "image/png": "[encoded data removed]",
      "text/plain": [
       "<Figure size 1080x576 with 1 Axes>"
      ]
     },
     "metadata": {
      "needs_background": "light"
     },
     "output_type": "display_data"
    }
   ],
   "source": [
    "plt.figure(figsize=(15,8))\n",
    "sns.scatterplot(x='KmSqrt', y='Preco', data=df);"
   ]
  },
  {
   "cell_type": "code",
   "execution_count": 63,
   "id": "7e8f6fab",
   "metadata": {},
   "outputs": [
    {
     "data": {
      "text/html": [
       "<div>\n",
       "<style scoped>\n",
       "    .dataframe tbody tr th:only-of-type {\n",
       "        vertical-align: middle;\n",
       "    }\n",
       "\n",
       "    .dataframe tbody tr th {\n",
       "        vertical-align: top;\n",
       "    }\n",
       "\n",
       "    .dataframe thead th {\n",
       "        text-align: right;\n",
       "    }\n",
       "</style>\n",
       "<table border=\"1\" class=\"dataframe\">\n",
       "  <thead>\n",
       "    <tr style=\"text-align: right;\">\n",
       "      <th></th>\n",
       "      <th>KmSqrt</th>\n",
       "      <th>Km</th>\n",
       "      <th>Preco</th>\n",
       "    </tr>\n",
       "  </thead>\n",
       "  <tbody>\n",
       "    <tr>\n",
       "      <th>KmSqrt</th>\n",
       "      <td>1.000000</td>\n",
       "      <td>0.906705</td>\n",
       "      <td>-0.287166</td>\n",
       "    </tr>\n",
       "    <tr>\n",
       "      <th>Km</th>\n",
       "      <td>0.906705</td>\n",
       "      <td>1.000000</td>\n",
       "      <td>-0.255226</td>\n",
       "    </tr>\n",
       "    <tr>\n",
       "      <th>Preco</th>\n",
       "      <td>-0.287166</td>\n",
       "      <td>-0.255226</td>\n",
       "      <td>1.000000</td>\n",
       "    </tr>\n",
       "  </tbody>\n",
       "</table>\n",
       "</div>"
      ],
      "text/plain": [
       "          KmSqrt        Km     Preco\n",
       "KmSqrt  1.000000  0.906705 -0.287166\n",
       "Km      0.906705  1.000000 -0.255226\n",
       "Preco  -0.287166 -0.255226  1.000000"
      ]
     },
     "execution_count": 63,
     "metadata": {},
     "output_type": "execute_result"
    }
   ],
   "source": [
    "df[['KmSqrt', 'Km', 'Preco' ]].corr()"
   ]
  },
  {
   "cell_type": "markdown",
   "id": "4afc4016",
   "metadata": {},
   "source": [
    "A correlação entre a raiz da quilometragem e o preço do veículo é maior que aquela observada para a quilometragem e o preço (-0.25). É interessante observar como esses relacionamentos ficaram mais fortes após a limpeza da base de dados."
   ]
  },
  {
   "cell_type": "markdown",
   "id": "b7916d9d",
   "metadata": {},
   "source": [
    "## PotenciaNum"
   ]
  },
  {
   "cell_type": "code",
   "execution_count": 64,
   "id": "952e3c19",
   "metadata": {},
   "outputs": [],
   "source": [
    "df['PotenciaNum'] = df['Potencia'].replace({'2.0 - 2.9':'2.5', '3.0 - 3.9': '3.5', '4.0 ou mais': '4.0'}).astype('float')"
   ]
  },
  {
   "cell_type": "code",
   "execution_count": 65,
   "id": "859dcd2c",
   "metadata": {},
   "outputs": [
    {
     "data": {
      "image/png": "[encoded data removed]",
      "text/plain": [
       "<Figure size 1080x576 with 1 Axes>"
      ]
     },
     "metadata": {
      "needs_background": "light"
     },
     "output_type": "display_data"
    }
   ],
   "source": [
    "plt.figure(figsize=(15,8))\n",
    "sns.boxplot(x='PotenciaNum', y='Preco', data=df, showfliers=False);"
   ]
  },
  {
   "cell_type": "code",
   "execution_count": 66,
   "id": "b541890e",
   "metadata": {},
   "outputs": [
    {
     "data": {
      "text/html": [
       "<div>\n",
       "<style scoped>\n",
       "    .dataframe tbody tr th:only-of-type {\n",
       "        vertical-align: middle;\n",
       "    }\n",
       "\n",
       "    .dataframe tbody tr th {\n",
       "        vertical-align: top;\n",
       "    }\n",
       "\n",
       "    .dataframe thead th {\n",
       "        text-align: right;\n",
       "    }\n",
       "</style>\n",
       "<table border=\"1\" class=\"dataframe\">\n",
       "  <thead>\n",
       "    <tr style=\"text-align: right;\">\n",
       "      <th></th>\n",
       "      <th>PotenciaNum</th>\n",
       "      <th>Preco</th>\n",
       "    </tr>\n",
       "  </thead>\n",
       "  <tbody>\n",
       "    <tr>\n",
       "      <th>PotenciaNum</th>\n",
       "      <td>1.000000</td>\n",
       "      <td>0.439037</td>\n",
       "    </tr>\n",
       "    <tr>\n",
       "      <th>Preco</th>\n",
       "      <td>0.439037</td>\n",
       "      <td>1.000000</td>\n",
       "    </tr>\n",
       "  </tbody>\n",
       "</table>\n",
       "</div>"
      ],
      "text/plain": [
       "             PotenciaNum     Preco\n",
       "PotenciaNum     1.000000  0.439037\n",
       "Preco           0.439037  1.000000"
      ]
     },
     "execution_count": 66,
     "metadata": {},
     "output_type": "execute_result"
    }
   ],
   "source": [
    "df[['PotenciaNum', 'Preco' ]].corr()"
   ]
  },
  {
   "cell_type": "markdown",
   "id": "6b21f5fe",
   "metadata": {},
   "source": [
    "Essa variável foi apresentada, para termos de visualização, na etapa de análise exploratória dos dados (EDA). No entanto, podemos perceber que a mesma pode ser bastante útil ao modelo devido a sua moderada correlação com a variável alvo."
   ]
  },
  {
   "cell_type": "markdown",
   "id": "c6e0d535",
   "metadata": {},
   "source": [
    "O dataset final pode ser visto abaixo:"
   ]
  },
  {
   "cell_type": "code",
   "execution_count": 67,
   "id": "86768e49",
   "metadata": {},
   "outputs": [
    {
     "name": "stdout",
     "output_type": "stream",
     "text": [
      "<class 'pandas.core.frame.DataFrame'>\n",
      "RangeIndex: 5167 entries, 0 to 5166\n",
      "Data columns (total 32 columns):\n",
      " #   Column          Non-Null Count  Dtype  \n",
      "---  ------          --------------  -----  \n",
      " 0   Marca           5167 non-null   object \n",
      " 1   Descricao       5167 non-null   object \n",
      " 2   Tipo            5167 non-null   object \n",
      " 3   Ano             5167 non-null   int64  \n",
      " 4   UF              5167 non-null   object \n",
      " 5   Km              5167 non-null   int64  \n",
      " 6   Potencia        5167 non-null   object \n",
      " 7   Combustivel     5167 non-null   object \n",
      " 8   Cambio          5167 non-null   object \n",
      " 9   Direcao         5167 non-null   object \n",
      " 10  Cor             5167 non-null   object \n",
      " 11  FinalDePlaca    5167 non-null   int64  \n",
      " 12  Portas          5167 non-null   object \n",
      " 13  UnicoDono       5167 non-null   object \n",
      " 14  AceitaTrocas    5167 non-null   object \n",
      " 15  ArCondicionado  5167 non-null   bool   \n",
      " 16  AirBag          5167 non-null   bool   \n",
      " 17  Alarme          5167 non-null   bool   \n",
      " 18  TravaEletrica   5167 non-null   bool   \n",
      " 19  VidroEletrico   5167 non-null   bool   \n",
      " 20  Som             5167 non-null   bool   \n",
      " 21  SensorDeRe      5167 non-null   bool   \n",
      " 22  CameraDeRe      5167 non-null   bool   \n",
      " 23  Blindado        5167 non-null   bool   \n",
      " 24  Preco           5167 non-null   float64\n",
      " 25  Modelo          5167 non-null   object \n",
      " 26  Dias            5167 non-null   int64  \n",
      " 27  KmLimite        5167 non-null   int64  \n",
      " 28  KmPorDias       5167 non-null   float64\n",
      " 29  NumOpcionais    5167 non-null   int64  \n",
      " 30  KmSqrt          5167 non-null   float64\n",
      " 31  PotenciaNum     5167 non-null   float64\n",
      "dtypes: bool(9), float64(4), int64(6), object(13)\n",
      "memory usage: 974.0+ KB\n"
     ]
    }
   ],
   "source": [
    "df.info()"
   ]
  },
  {
   "cell_type": "code",
   "execution_count": 68,
   "id": "a7525070",
   "metadata": {},
   "outputs": [],
   "source": [
    "df.to_csv('cars_data_final.csv', index=False)"
   ]
  }
 ],
 "metadata": {
  "kernelspec": {
   "display_name": "Python 3 (ipykernel)",
   "language": "python",
   "name": "python3"
  },
  "language_info": {
   "codemirror_mode": {
    "name": "ipython",
    "version": 3
   },
   "file_extension": ".py",
   "mimetype": "text/x-python",
   "name": "python",
   "nbconvert_exporter": "python",
   "pygments_lexer": "ipython3",
   "version": "3.8.5"
  }
 },
 "nbformat": 4,
 "nbformat_minor": 5
}
